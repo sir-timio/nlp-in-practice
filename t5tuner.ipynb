{
 "cells": [
  {
   "cell_type": "code",
   "execution_count": 1,
   "id": "7e740225",
   "metadata": {
    "ExecuteTime": {
     "end_time": "2023-06-08T10:54:51.745439800Z",
     "start_time": "2023-06-08T10:54:49.267906Z"
    }
   },
   "outputs": [
    {
     "name": "stderr",
     "output_type": "stream",
     "text": [
      "2023-06-28 13:23:51.883336: I tensorflow/core/util/port.cc:110] oneDNN custom operations are on. You may see slightly different numerical results due to floating-point round-off errors from different computation orders. To turn them off, set the environment variable `TF_ENABLE_ONEDNN_OPTS=0`.\n",
      "2023-06-28 13:23:51.933118: I tensorflow/core/platform/cpu_feature_guard.cc:182] This TensorFlow binary is optimized to use available CPU instructions in performance-critical operations.\n",
      "To enable the following instructions: AVX2 AVX512F AVX512_VNNI FMA, in other operations, rebuild TensorFlow with the appropriate compiler flags.\n",
      "2023-06-28 13:23:52.736544: W tensorflow/compiler/tf2tensorrt/utils/py_utils.cc:38] TF-TRT Warning: Could not find TensorRT\n"
     ]
    }
   ],
   "source": [
    "import re\n",
    "from gensim.models.fasttext import FastText\n",
    "import pandas as pd\n",
    "import pytorch_lightning as pl\n",
    "from seqeval.metrics.sequence_labeling import get_entities\n",
    "from sklearn.model_selection import train_test_split\n",
    "import numpy as np\n",
    "import random\n",
    "import torch\n",
    "import torch.nn as nn\n",
    "from torch.nn.utils.rnn import pad_sequence\n",
    "from torch.utils.data import Dataset, DataLoader, random_split\n",
    "\n",
    "torch.set_float32_matmul_precision(\"high\")"
   ]
  },
  {
   "cell_type": "code",
   "execution_count": 2,
   "id": "9d7ad7fd",
   "metadata": {},
   "outputs": [],
   "source": [
    "from tqdm import tqdm"
   ]
  },
  {
   "cell_type": "code",
   "execution_count": 3,
   "id": "e124735a",
   "metadata": {},
   "outputs": [
    {
     "data": {
      "text/plain": [
       "True"
      ]
     },
     "execution_count": 3,
     "metadata": {},
     "output_type": "execute_result"
    }
   ],
   "source": [
    "torch.cuda.is_available()"
   ]
  },
  {
   "cell_type": "code",
   "execution_count": 4,
   "id": "6fa052ac",
   "metadata": {},
   "outputs": [],
   "source": [
    "from torch.utils.data import Dataset,DataLoader, random_split\n",
    "import pytorch_lightning as pl\n",
    "from pytorch_lightning.callbacks import ModelCheckpoint\n",
    "from pytorch_lightning import Trainer\n",
    "\n",
    "from transformers import(\n",
    "    AdamW,\n",
    "    T5Model,\n",
    "    T5ForConditionalGeneration,\n",
    "    T5Tokenizer,\n",
    "    get_linear_schedule_with_warmup\n",
    ")\n",
    "from utils import F1Score, f1score\n",
    "from addict import Dict"
   ]
  },
  {
   "cell_type": "code",
   "execution_count": 5,
   "id": "bde17cdc",
   "metadata": {},
   "outputs": [],
   "source": [
    "def set_seed(seed):\n",
    "    random.seed(seed)\n",
    "    np.random.seed(seed)\n",
    "    torch.manual_seed(seed)\n",
    "    if torch.cuda.is_available():\n",
    "        torch.cuda.manual_seed_all(seed)\n",
    "\n",
    "set_seed(42)"
   ]
  },
  {
   "cell_type": "code",
   "execution_count": 6,
   "id": "58c5aaec",
   "metadata": {
    "ExecuteTime": {
     "end_time": "2023-06-08T10:54:51.770658400Z",
     "start_time": "2023-06-08T10:54:51.763150200Z"
    }
   },
   "outputs": [],
   "source": [
    "class ReceiptsDataset(Dataset):\n",
    "    def __init__(\n",
    "        self,\n",
    "        df: pd.DataFrame,\n",
    "        tokenizer: T5Tokenizer,\n",
    "        source_max_token_length: int = 256,\n",
    "        target_max_token_length: int = 32\n",
    "    ):\n",
    "        super().__init__()\n",
    "        self.is_predict = \"target_text\" not in df.columns\n",
    "        self.data = df[[\"input_text\", \"target_text\"]] if not self.is_predict else df[[\"input_text\"]]\n",
    "        self.data = self.data.values\n",
    "        self.tokenizer = tokenizer\n",
    "        self.source_max_token_length = source_max_token_length\n",
    "        self.target_max_token_length = target_max_token_length\n",
    "        \n",
    "    def __getitem__(self, index):\n",
    "        input_text = self.data[index][0]\n",
    "        target_text = self.data[index][1] if not self.is_predict else \"\"\n",
    "        \n",
    "        source_encoding = self.tokenizer(\n",
    "          input_text,\n",
    "          max_length=self.source_max_token_length,\n",
    "          padding=\"max_length\",\n",
    "          truncation=\"only_second\",\n",
    "          return_attention_mask=True,\n",
    "          add_special_tokens=True,\n",
    "          return_tensors=\"pt\"\n",
    "        )\n",
    "        if target_text != '':\n",
    "            target_encoding = self.tokenizer(\n",
    "              target_text,\n",
    "              max_length=self.target_max_token_length,\n",
    "              padding=\"max_length\",\n",
    "              truncation=True,\n",
    "              return_attention_mask=True,\n",
    "              add_special_tokens=True,\n",
    "              return_tensors=\"pt\"\n",
    "            )\n",
    "\n",
    "            labels = target_encoding['input_ids']\n",
    "            labels[labels == 0] = -100\n",
    "        else:\n",
    "            target_encoding = torch.zeros(1)\n",
    "            labels = torch.zeros(1)\n",
    "\n",
    "        return dict(\n",
    "            input_text=input_text,\n",
    "            target_text=target_text,\n",
    "            input_ids=source_encoding['input_ids'].flatten(),\n",
    "            attention_mask=source_encoding['attention_mask'].flatten(),\n",
    "            labels=labels.flatten()\n",
    "        )\n",
    "\n",
    "    def __len__(self):\n",
    "        return len(self.data)"
   ]
  },
  {
   "cell_type": "code",
   "execution_count": 7,
   "id": "e64d6d1c",
   "metadata": {},
   "outputs": [],
   "source": [
    "class ReceiptsDataModule(pl.LightningDataModule):\n",
    "    def __init__(self, hparam):\n",
    "        super().__init__()\n",
    "        self.hparam = hparam\n",
    "        self.tokenizer = T5Tokenizer.from_pretrained(self.hparam.tokenizer_name)\n",
    "\n",
    "    def prepare_data(self):\n",
    "        self.train_df = pd.read_csv(self.hparam.train_dataset_path).fillna(\"\")\n",
    "        self.test_df = pd.read_csv(self.hparam.test_dataset_path)\n",
    "    \n",
    "    def setup(self, stage: str):\n",
    "        self.train_df, self.val_df = train_test_split(self.train_df, test_size=self.hparam.val_split_size, random_state=42)\n",
    "\n",
    "        self.train_dataset = ReceiptsDataset(self.train_df, self.tokenizer)\n",
    "        self.val_dataset = ReceiptsDataset(self.val_df, self.tokenizer)\n",
    "        self.predict_dataset = ReceiptsDataset(self.test_df, self.tokenizer)\n",
    "\n",
    "    def train_dataloader(self):\n",
    "        return DataLoader(self.train_dataset,\n",
    "                          batch_size=self.hparam.batch_size,\n",
    "                          num_workers=self.hparam.num_workers)\n",
    "\n",
    "    def val_dataloader(self):\n",
    "        return DataLoader(self.val_dataset,\n",
    "                          batch_size=self.hparam.batch_size,\n",
    "                          num_workers=self.hparam.num_workers)\n",
    "\n",
    "    def predict_dataloader(self):\n",
    "        return DataLoader(self.predict_dataset,\n",
    "                                           batch_size=self.hparam.batch_size,\n",
    "                                           num_workers=self.hparam.num_workers)"
   ]
  },
  {
   "cell_type": "code",
   "execution_count": 8,
   "id": "857b8865",
   "metadata": {},
   "outputs": [],
   "source": [
    "# MODEL_NAME = \"cointegrated/rut5-small\"\n",
    "MODEL_NAME = \"cointegrated/rut5-small\"\n",
    "# MODEL_NAME = \"alenusch/mt5small-ruparaphraser\"\n",
    "# MODEL_NAME = \"cointegrated/rut5-base\"\n",
    "# MODEL_NAME = \"sberbank-ai/ruT5-base \""
   ]
  },
  {
   "cell_type": "code",
   "execution_count": 9,
   "id": "8c3aac1b",
   "metadata": {
    "ExecuteTime": {
     "end_time": "2023-06-08T10:54:51.804924800Z",
     "start_time": "2023-06-08T10:54:51.794242200Z"
    }
   },
   "outputs": [],
   "source": [
    "root = 'data'\n",
    "TRAIN_DATASET_PATH = f\"{root}/train_ner.csv\"\n",
    "TEST_DATASET_PATH = f\"{root}/test_ner.csv\"\n",
    "VAL_SPLIT_SIZE = 0.1\n",
    "BATCH_SIZE = 100\n",
    "NUM_WORKERS = 6"
   ]
  },
  {
   "cell_type": "code",
   "execution_count": 10,
   "id": "07ed150d",
   "metadata": {},
   "outputs": [],
   "source": [
    "data_module_args = Dict(**dict(\n",
    "    tokenizer_name=MODEL_NAME,\n",
    "    train_dataset_path=TRAIN_DATASET_PATH,\n",
    "    test_dataset_path=TEST_DATASET_PATH,\n",
    "    val_split_size=VAL_SPLIT_SIZE,\n",
    "    batch_size=BATCH_SIZE,\n",
    "    num_workers=NUM_WORKERS,    \n",
    "))"
   ]
  },
  {
   "cell_type": "code",
   "execution_count": 11,
   "id": "8c641742",
   "metadata": {
    "ExecuteTime": {
     "end_time": "2023-06-08T10:54:51.814434200Z",
     "start_time": "2023-06-08T10:54:51.805924300Z"
    }
   },
   "outputs": [],
   "source": [
    "dm = ReceiptsDataModule(data_module_args)"
   ]
  },
  {
   "cell_type": "code",
   "execution_count": 12,
   "id": "4d1d4678",
   "metadata": {},
   "outputs": [],
   "source": [
    "dm.prepare_data()\n",
    "dm.setup('train')"
   ]
  },
  {
   "cell_type": "code",
   "execution_count": 13,
   "id": "f93cef85",
   "metadata": {},
   "outputs": [
    {
     "data": {
      "text/html": [
       "<div>\n",
       "<style scoped>\n",
       "    .dataframe tbody tr th:only-of-type {\n",
       "        vertical-align: middle;\n",
       "    }\n",
       "\n",
       "    .dataframe tbody tr th {\n",
       "        vertical-align: top;\n",
       "    }\n",
       "\n",
       "    .dataframe thead th {\n",
       "        text-align: right;\n",
       "    }\n",
       "</style>\n",
       "<table border=\"1\" class=\"dataframe\">\n",
       "  <thead>\n",
       "    <tr style=\"text-align: right;\">\n",
       "      <th></th>\n",
       "      <th>input_text</th>\n",
       "      <th>target_text</th>\n",
       "    </tr>\n",
       "  </thead>\n",
       "  <tbody>\n",
       "    <tr>\n",
       "      <th>4484</th>\n",
       "      <td>блуза acoola rep12445011</td>\n",
       "      <td>good: блуза; brand: acoola &lt;\\s&gt;</td>\n",
       "    </tr>\n",
       "    <tr>\n",
       "      <th>11558</th>\n",
       "      <td>vladi toys. магнитный театр. (россия)</td>\n",
       "      <td>good: театр; brand: vladi toys &lt;\\s&gt;</td>\n",
       "    </tr>\n",
       "    <tr>\n",
       "      <th>22322</th>\n",
       "      <td>машина на радиоуправлении 1:24 арт в1112555 pl</td>\n",
       "      <td>good: машина; brand:  &lt;\\s&gt;</td>\n",
       "    </tr>\n",
       "  </tbody>\n",
       "</table>\n",
       "</div>"
      ],
      "text/plain": [
       "                                           input_text  \\\n",
       "4484                         блуза acoola rep12445011   \n",
       "11558           vladi toys. магнитный театр. (россия)   \n",
       "22322  машина на радиоуправлении 1:24 арт в1112555 pl   \n",
       "\n",
       "                               target_text  \n",
       "4484       good: блуза; brand: acoola <\\s>  \n",
       "11558  good: театр; brand: vladi toys <\\s>  \n",
       "22322           good: машина; brand:  <\\s>  "
      ]
     },
     "execution_count": 13,
     "metadata": {},
     "output_type": "execute_result"
    }
   ],
   "source": [
    "dm.train_df.head(3)"
   ]
  },
  {
   "cell_type": "code",
   "execution_count": 14,
   "id": "4c63a5be",
   "metadata": {},
   "outputs": [
    {
     "data": {
      "text/plain": [
       "dict_keys(['input_text', 'target_text', 'input_ids', 'attention_mask', 'labels'])"
      ]
     },
     "execution_count": 14,
     "metadata": {},
     "output_type": "execute_result"
    }
   ],
   "source": [
    "for batch in dm.train_dataloader():\n",
    "    break\n",
    "batch.keys()"
   ]
  },
  {
   "cell_type": "code",
   "execution_count": 15,
   "id": "95ad8f2f",
   "metadata": {},
   "outputs": [],
   "source": [
    "def get_entities(label):\n",
    "    label = label.replace('<\\s>', '')\n",
    "    good_regex = r\"good:\\s(.*?)(?:;|\\s<|$)\"\n",
    "    brand_regex = r\"brand:\\s(.*?)(?:;|\\s<|$)\"\n",
    "    good, brand = '', ''\n",
    "    good_match = re.search(good_regex, label)\n",
    "    brand_match = re.search(brand_regex, label)\n",
    "    if good_match:\n",
    "        good = good_match.group(1).strip()\n",
    "    if brand_match:\n",
    "        brand = brand_match.group(1).strip()\n",
    "    return good, brand"
   ]
  },
  {
   "cell_type": "code",
   "execution_count": 24,
   "id": "469a277a",
   "metadata": {
    "ExecuteTime": {
     "end_time": "2023-06-08T10:54:51.841898200Z",
     "start_time": "2023-06-08T10:54:51.832413Z"
    }
   },
   "outputs": [],
   "source": [
    "class T5FineTuner(pl.LightningModule):\n",
    "    def __init__(self, hparam):\n",
    "        super(T5FineTuner, self).__init__()\n",
    "        self.hparam = hparam\n",
    "\n",
    "        self.dm = ReceiptsDataModule(hparam)\n",
    "        self.dm.prepare_data()\n",
    "        self.dm.setup('train')\n",
    "        \n",
    "        self.model = T5ForConditionalGeneration.from_pretrained(\n",
    "            hparam.model_name)\n",
    "        self.tokenizer = T5Tokenizer.from_pretrained(\n",
    "            hparam.model_name\n",
    "        )\n",
    "#         self.save_hyperparameters()\n",
    "    \n",
    "    def forward(self, input_ids, attention_mask, labels=None):\n",
    "        output = self.model(\n",
    "            input_ids=input_ids,\n",
    "            attention_mask=attention_mask,\n",
    "            labels=labels\n",
    "        )\n",
    "        return output.loss, output.logits\n",
    "    \n",
    "    \n",
    "    def shared_step(self, batch, stage='train'):\n",
    "        input_ids = batch[\"input_ids\"]\n",
    "        attention_mask = batch['attention_mask']\n",
    "        labels = batch[\"labels\"]\n",
    "        loss, outputs = self(input_ids,attention_mask,labels)\n",
    "        self.log(f\"loss/{stage}\", loss, prog_bar=True, logger=True)\n",
    "\n",
    "        return loss\n",
    "    \n",
    "    def training_step(self, batch, _):\n",
    "        loss = self.shared_step(batch, 'train')\n",
    "        return loss\n",
    "\n",
    "    def validation_step(self, batch, _):\n",
    "        loss = self.shared_step(batch, 'val')\n",
    "        return loss\n",
    "    \n",
    "    def shared_eval(self, batch, stage='train'):\n",
    "        batch = self._apply_batch_transfer_handler(batch,\n",
    "                                                   dataloader_idx=None,\n",
    "                                                  )\n",
    "        gt_texts = batch['input_text']\n",
    "        pred_texts = self.predict_step(batch)\n",
    "        gt_result, pred_result = [], []\n",
    "        \n",
    "        for gt, pred in zip(gt_texts, pred_texts):\n",
    "            gt_result.append(get_entities(gt))\n",
    "            pred_result.append(get_entities(pred))\n",
    "        \n",
    "        f1_good = f1score([p[0] for p in pred_result], [g[0] for g in gt_result])\n",
    "        f1_brand = f1score([p[1] for p in pred_result], [g[1] for g in gt_result])\n",
    "        self.log(f\"metric/f1_good_{stage}\", f1_good)\n",
    "        self.log(f\"metric/f1_brand_{stage}\", f1_brand)\n",
    "\n",
    "\n",
    "    def on_validation_epoch_end(self):\n",
    "        for batch in self.dm.val_dataloader():\n",
    "            self.shared_eval(batch, 'val')\n",
    "        \n",
    "    def predict_step(self, batch, _=None):\n",
    "        \n",
    "        generated_ids = trainer.model.model.generate(\n",
    "          input_ids=batch[\"input_ids\"],\n",
    "          attention_mask=batch[\"attention_mask\"],\n",
    "          num_beams=3,\n",
    "          max_length=80,\n",
    "          repetition_penalty=1.0,\n",
    "          early_stopping=True,\n",
    "          use_cache=True\n",
    "        )\n",
    "        preds = [\n",
    "           self.tokenizer.decode(generated_id,\n",
    "                                 skip_special_tokens=True, \n",
    "                                 clean_up_tokenization_spaces=True)\n",
    "           for generated_id in generated_ids\n",
    "        ]\n",
    "        \n",
    "        return preds\n",
    "    \n",
    "    \n",
    "    def configure_optimizers(self):\n",
    "        \"Prepare optimizer and schedule (linear warmup and decay)\"\n",
    "\n",
    "        model = self.model\n",
    "        no_decay = [\"bias\", \"LayerNorm.weight\"]\n",
    "        optimizer_grouped_parameters = [\n",
    "            {\n",
    "                \"params\": [p for n, p in model.named_parameters() if not any(nd in n for nd in no_decay)],\n",
    "                \"weight_decay\": self.hparam.weight_decay,\n",
    "            },\n",
    "            {\n",
    "                \"params\": [p for n, p in model.named_parameters() if any(nd in n for nd in no_decay)],\n",
    "                \"weight_decay\": 0.0,\n",
    "            },\n",
    "        ]\n",
    "        optimizer = AdamW(optimizer_grouped_parameters,\n",
    "                          lr=self.hparam.learning_rate, eps=self.hparam.adam_epsilon)\n",
    "        self.opt = optimizer\n",
    "        return [optimizer]\n",
    "\n",
    "    def optimizer_step(self,\n",
    "                       epoch=None,\n",
    "                       batch_idx=None,\n",
    "                       optimizer=None,\n",
    "                       optimizer_idx=None,\n",
    "                       optimizer_closure=None,\n",
    "                       on_tpu=None,\n",
    "                       using_native_amp=None,\n",
    "                       using_lbfgs=None\n",
    "                       ):\n",
    "\n",
    "        optimizer.step(closure=optimizer_closure)\n",
    "        optimizer.zero_grad()\n",
    "        self.lr_scheduler.step()\n",
    "\n",
    "    def get_tqdm_dict(self):\n",
    "        tqdm_dict = {\"loss\": \"{:.3f}\".format(\n",
    "            self.trainer.avg_loss), \"lr\": self.lr_scheduler.get_last_lr()[-1]}\n",
    "\n",
    "        return tqdm_dict\n",
    "    \n",
    "    def train_dataloader(self):        \n",
    "        dataloader = self.dm.train_dataloader()\n",
    "        \n",
    "        t_total = (\n",
    "            (len(dataloader.dataset) //\n",
    "             (self.hparam.batch_size))\n",
    "            // self.hparam.gradient_accumulation_steps\n",
    "            * float(self.hparam.num_train_epochs)\n",
    "        )\n",
    "        scheduler = get_linear_schedule_with_warmup(\n",
    "            self.opt, num_warmup_steps=self.hparam.warmup_steps, num_training_steps=t_total\n",
    "        )\n",
    "        self.lr_scheduler = scheduler\n",
    "        return dataloader\n",
    "\n",
    "    def val_dataloader(self):\n",
    "        return self.dm.val_dataloader()\n",
    "\n",
    "    def predict_dataloader(self):\n",
    "        return self.dm.predict_dataloader()"
   ]
  },
  {
   "cell_type": "code",
   "execution_count": 25,
   "id": "bf3dfaf9",
   "metadata": {},
   "outputs": [],
   "source": [
    "model_args = Dict(**dict(\n",
    "    model_name=MODEL_NAME,\n",
    "    learning_rate=5e-4,\n",
    "    weight_decay=0.0,\n",
    "    adam_epsilon=1e-8,\n",
    "    warmup_steps=0,\n",
    "    num_train_epochs=30,\n",
    "    gradient_accumulation_steps=16,\n",
    "    early_stop_callback=False,\n",
    "    seed=42,\n",
    "    output_dir='t5models',\n",
    "))"
   ]
  },
  {
   "cell_type": "code",
   "execution_count": 26,
   "id": "7e02c5a3",
   "metadata": {},
   "outputs": [],
   "source": [
    "args = model_args | data_module_args"
   ]
  },
  {
   "cell_type": "code",
   "execution_count": 27,
   "id": "7c6e6593",
   "metadata": {
    "ExecuteTime": {
     "end_time": "2023-06-08T10:54:51.855590100Z",
     "start_time": "2023-06-08T10:54:51.838893600Z"
    },
    "scrolled": false
   },
   "outputs": [
    {
     "name": "stderr",
     "output_type": "stream",
     "text": [
      "You are using a model of type mt5 to instantiate a model of type t5. This is not supported for all configurations of models and can yield errors.\n"
     ]
    }
   ],
   "source": [
    "model = T5FineTuner(args)"
   ]
  },
  {
   "cell_type": "code",
   "execution_count": 28,
   "id": "6cd1c5fc",
   "metadata": {},
   "outputs": [],
   "source": [
    "checkpoint_callback = pl.callbacks.ModelCheckpoint(\n",
    "    filename=args.output_dir+\"/checkpoint.pth\", monitor=\"loss/val\", mode=\"min\", save_top_k=1\n",
    ")"
   ]
  },
  {
   "cell_type": "code",
   "execution_count": 29,
   "id": "87bbedf0",
   "metadata": {
    "ExecuteTime": {
     "end_time": "2023-06-08T10:54:51.960372Z",
     "start_time": "2023-06-08T10:54:51.856590400Z"
    }
   },
   "outputs": [
    {
     "name": "stderr",
     "output_type": "stream",
     "text": [
      "GPU available: True (cuda), used: True\n",
      "TPU available: False, using: 0 TPU cores\n",
      "IPU available: False, using: 0 IPUs\n",
      "HPU available: False, using: 0 HPUs\n"
     ]
    }
   ],
   "source": [
    "trainer = pl.Trainer(\n",
    "    accumulate_grad_batches=args.gradient_accumulation_steps,\n",
    "    max_epochs=args.num_train_epochs,\n",
    "    precision= 32,\n",
    "    devices=[0],\n",
    "    callbacks=[checkpoint_callback],\n",
    "    log_every_n_steps=1,\n",
    "    logger=pl.loggers.TensorBoardLogger(\"tb_logs\", name=\"rut5-small\"),\n",
    "    accelerator=\"gpu\"\n",
    ")"
   ]
  },
  {
   "cell_type": "markdown",
   "id": "5f2a3d96",
   "metadata": {},
   "source": [
    "Обучение модели"
   ]
  },
  {
   "cell_type": "code",
   "execution_count": 30,
   "id": "c1dc13ac",
   "metadata": {},
   "outputs": [],
   "source": [
    "# best: tb_logs/ner_crf_lstm_2_512_pre_renamed_20e/version_0"
   ]
  },
  {
   "cell_type": "code",
   "execution_count": 31,
   "id": "855166b1",
   "metadata": {
    "ExecuteTime": {
     "end_time": "2023-06-08T10:57:08.087368500Z",
     "start_time": "2023-06-08T10:54:52.005941600Z"
    },
    "scrolled": true
   },
   "outputs": [
    {
     "name": "stderr",
     "output_type": "stream",
     "text": [
      "/home/worker/anaconda3/envs/py/lib/python3.9/site-packages/pytorch_lightning/trainer/configuration_validator.py:92: UserWarning: When using `Trainer(accumulate_grad_batches != 1)` and overriding `LightningModule.optimizer_{step,zero_grad}`, the hooks will not be called on every batch (rather, they are called on every optimization step).\n",
      "  rank_zero_warn(\n",
      "LOCAL_RANK: 0 - CUDA_VISIBLE_DEVICES: [4]\n",
      "/home/worker/.local/lib/python3.9/site-packages/transformers/optimization.py:407: FutureWarning: This implementation of AdamW is deprecated and will be removed in a future version. Use the PyTorch implementation torch.optim.AdamW instead, or set `no_deprecation_warning=True` to disable this warning\n",
      "  warnings.warn(\n",
      "\n",
      "  | Name  | Type                       | Params\n",
      "-----------------------------------------------------\n",
      "0 | model | T5ForConditionalGeneration | 64.6 M\n",
      "-----------------------------------------------------\n",
      "64.6 M    Trainable params\n",
      "0         Non-trainable params\n",
      "64.6 M    Total params\n",
      "258.578   Total estimated model params size (MB)\n"
     ]
    },
    {
     "data": {
      "application/vnd.jupyter.widget-view+json": {
       "model_id": "8fe8407caf864efd865ad42bbb0ae4b1",
       "version_major": 2,
       "version_minor": 0
      },
      "text/plain": [
       "Sanity Checking: 0it [00:00, ?it/s]"
      ]
     },
     "metadata": {},
     "output_type": "display_data"
    },
    {
     "data": {
      "application/vnd.jupyter.widget-view+json": {
       "model_id": "35c0d710222a4c89ae5dc4ce1b7639f4",
       "version_major": 2,
       "version_minor": 0
      },
      "text/plain": [
       "Training: 0it [00:00, ?it/s]"
      ]
     },
     "metadata": {},
     "output_type": "display_data"
    },
    {
     "data": {
      "application/vnd.jupyter.widget-view+json": {
       "model_id": "a94b77ddf3634c509e5b3e27220ff034",
       "version_major": 2,
       "version_minor": 0
      },
      "text/plain": [
       "Validation: 0it [00:00, ?it/s]"
      ]
     },
     "metadata": {},
     "output_type": "display_data"
    },
    {
     "name": "stderr",
     "output_type": "stream",
     "text": [
      "/home/worker/anaconda3/envs/py/lib/python3.9/site-packages/pytorch_lightning/trainer/connectors/logger_connector/result.py:233: UserWarning: You called `self.log('metric/f1_good_val', ...)` in your `on_validation_epoch_end` but the value needs to be floating point. Converting it to torch.float32.\n",
      "  warning_cache.warn(\n"
     ]
    },
    {
     "data": {
      "application/vnd.jupyter.widget-view+json": {
       "model_id": "82bd73aef4e84ede96319c3a38db90c1",
       "version_major": 2,
       "version_minor": 0
      },
      "text/plain": [
       "Validation: 0it [00:00, ?it/s]"
      ]
     },
     "metadata": {},
     "output_type": "display_data"
    },
    {
     "data": {
      "application/vnd.jupyter.widget-view+json": {
       "model_id": "7ac68e58211d4dc7b6429f79db614502",
       "version_major": 2,
       "version_minor": 0
      },
      "text/plain": [
       "Validation: 0it [00:00, ?it/s]"
      ]
     },
     "metadata": {},
     "output_type": "display_data"
    },
    {
     "data": {
      "application/vnd.jupyter.widget-view+json": {
       "model_id": "fec07771afa343cdb3de7532271078c7",
       "version_major": 2,
       "version_minor": 0
      },
      "text/plain": [
       "Validation: 0it [00:00, ?it/s]"
      ]
     },
     "metadata": {},
     "output_type": "display_data"
    },
    {
     "data": {
      "application/vnd.jupyter.widget-view+json": {
       "model_id": "1f040f5e743e4b76836ce61f5dbe2e47",
       "version_major": 2,
       "version_minor": 0
      },
      "text/plain": [
       "Validation: 0it [00:00, ?it/s]"
      ]
     },
     "metadata": {},
     "output_type": "display_data"
    },
    {
     "data": {
      "application/vnd.jupyter.widget-view+json": {
       "model_id": "5195dbee68364ca7bd698b15f96285c4",
       "version_major": 2,
       "version_minor": 0
      },
      "text/plain": [
       "Validation: 0it [00:00, ?it/s]"
      ]
     },
     "metadata": {},
     "output_type": "display_data"
    },
    {
     "data": {
      "application/vnd.jupyter.widget-view+json": {
       "model_id": "be162496557648bcb44551884a40dfbd",
       "version_major": 2,
       "version_minor": 0
      },
      "text/plain": [
       "Validation: 0it [00:00, ?it/s]"
      ]
     },
     "metadata": {},
     "output_type": "display_data"
    },
    {
     "data": {
      "application/vnd.jupyter.widget-view+json": {
       "model_id": "bbae9cc2abbe476882cc255075361f5a",
       "version_major": 2,
       "version_minor": 0
      },
      "text/plain": [
       "Validation: 0it [00:00, ?it/s]"
      ]
     },
     "metadata": {},
     "output_type": "display_data"
    },
    {
     "data": {
      "application/vnd.jupyter.widget-view+json": {
       "model_id": "4eca6a9c677f4682bec5d9e24e904ddd",
       "version_major": 2,
       "version_minor": 0
      },
      "text/plain": [
       "Validation: 0it [00:00, ?it/s]"
      ]
     },
     "metadata": {},
     "output_type": "display_data"
    },
    {
     "data": {
      "application/vnd.jupyter.widget-view+json": {
       "model_id": "0d4a002d6cbc498e9537741f6a5fef36",
       "version_major": 2,
       "version_minor": 0
      },
      "text/plain": [
       "Validation: 0it [00:00, ?it/s]"
      ]
     },
     "metadata": {},
     "output_type": "display_data"
    },
    {
     "data": {
      "application/vnd.jupyter.widget-view+json": {
       "model_id": "294c41a395c34d719b140f288c11a512",
       "version_major": 2,
       "version_minor": 0
      },
      "text/plain": [
       "Validation: 0it [00:00, ?it/s]"
      ]
     },
     "metadata": {},
     "output_type": "display_data"
    },
    {
     "data": {
      "application/vnd.jupyter.widget-view+json": {
       "model_id": "9fc9704738d5498d93d92d37539fc0f0",
       "version_major": 2,
       "version_minor": 0
      },
      "text/plain": [
       "Validation: 0it [00:00, ?it/s]"
      ]
     },
     "metadata": {},
     "output_type": "display_data"
    },
    {
     "data": {
      "application/vnd.jupyter.widget-view+json": {
       "model_id": "07e6c53fc1aa4d7484518c6be1d87745",
       "version_major": 2,
       "version_minor": 0
      },
      "text/plain": [
       "Validation: 0it [00:00, ?it/s]"
      ]
     },
     "metadata": {},
     "output_type": "display_data"
    },
    {
     "data": {
      "application/vnd.jupyter.widget-view+json": {
       "model_id": "e8605c43087b460497840cf89687dd22",
       "version_major": 2,
       "version_minor": 0
      },
      "text/plain": [
       "Validation: 0it [00:00, ?it/s]"
      ]
     },
     "metadata": {},
     "output_type": "display_data"
    },
    {
     "data": {
      "application/vnd.jupyter.widget-view+json": {
       "model_id": "f8ad1857d74e4667954494fe9e2cd5e2",
       "version_major": 2,
       "version_minor": 0
      },
      "text/plain": [
       "Validation: 0it [00:00, ?it/s]"
      ]
     },
     "metadata": {},
     "output_type": "display_data"
    },
    {
     "data": {
      "application/vnd.jupyter.widget-view+json": {
       "model_id": "89af0310785942ca96a74c5083a21927",
       "version_major": 2,
       "version_minor": 0
      },
      "text/plain": [
       "Validation: 0it [00:00, ?it/s]"
      ]
     },
     "metadata": {},
     "output_type": "display_data"
    },
    {
     "data": {
      "application/vnd.jupyter.widget-view+json": {
       "model_id": "75e4bb8e7e3b42ca8500a01aec8d84cd",
       "version_major": 2,
       "version_minor": 0
      },
      "text/plain": [
       "Validation: 0it [00:00, ?it/s]"
      ]
     },
     "metadata": {},
     "output_type": "display_data"
    },
    {
     "data": {
      "application/vnd.jupyter.widget-view+json": {
       "model_id": "1f3cdd7654414288918b6c64ac98bb30",
       "version_major": 2,
       "version_minor": 0
      },
      "text/plain": [
       "Validation: 0it [00:00, ?it/s]"
      ]
     },
     "metadata": {},
     "output_type": "display_data"
    },
    {
     "data": {
      "application/vnd.jupyter.widget-view+json": {
       "model_id": "1df2e242febf462e86205ca999a2694b",
       "version_major": 2,
       "version_minor": 0
      },
      "text/plain": [
       "Validation: 0it [00:00, ?it/s]"
      ]
     },
     "metadata": {},
     "output_type": "display_data"
    },
    {
     "data": {
      "application/vnd.jupyter.widget-view+json": {
       "model_id": "7ee3359e11bd4319b739159492312d52",
       "version_major": 2,
       "version_minor": 0
      },
      "text/plain": [
       "Validation: 0it [00:00, ?it/s]"
      ]
     },
     "metadata": {},
     "output_type": "display_data"
    },
    {
     "data": {
      "application/vnd.jupyter.widget-view+json": {
       "model_id": "276f5505a8444341b39357828a4ea762",
       "version_major": 2,
       "version_minor": 0
      },
      "text/plain": [
       "Validation: 0it [00:00, ?it/s]"
      ]
     },
     "metadata": {},
     "output_type": "display_data"
    },
    {
     "data": {
      "application/vnd.jupyter.widget-view+json": {
       "model_id": "112011e25e184f9dbc197129f712582c",
       "version_major": 2,
       "version_minor": 0
      },
      "text/plain": [
       "Validation: 0it [00:00, ?it/s]"
      ]
     },
     "metadata": {},
     "output_type": "display_data"
    },
    {
     "data": {
      "application/vnd.jupyter.widget-view+json": {
       "model_id": "812a5e7c8ec64aeaad82cf8f76d37830",
       "version_major": 2,
       "version_minor": 0
      },
      "text/plain": [
       "Validation: 0it [00:00, ?it/s]"
      ]
     },
     "metadata": {},
     "output_type": "display_data"
    },
    {
     "data": {
      "application/vnd.jupyter.widget-view+json": {
       "model_id": "45a1f7dac319499b9045fbb319dcc447",
       "version_major": 2,
       "version_minor": 0
      },
      "text/plain": [
       "Validation: 0it [00:00, ?it/s]"
      ]
     },
     "metadata": {},
     "output_type": "display_data"
    },
    {
     "data": {
      "application/vnd.jupyter.widget-view+json": {
       "model_id": "f40b0a9220034e259793bf1bdb3a8a22",
       "version_major": 2,
       "version_minor": 0
      },
      "text/plain": [
       "Validation: 0it [00:00, ?it/s]"
      ]
     },
     "metadata": {},
     "output_type": "display_data"
    },
    {
     "data": {
      "application/vnd.jupyter.widget-view+json": {
       "model_id": "550111361388444297b0670a3430947d",
       "version_major": 2,
       "version_minor": 0
      },
      "text/plain": [
       "Validation: 0it [00:00, ?it/s]"
      ]
     },
     "metadata": {},
     "output_type": "display_data"
    },
    {
     "data": {
      "application/vnd.jupyter.widget-view+json": {
       "model_id": "413bd6671a1e428f8ac7991b899f238d",
       "version_major": 2,
       "version_minor": 0
      },
      "text/plain": [
       "Validation: 0it [00:00, ?it/s]"
      ]
     },
     "metadata": {},
     "output_type": "display_data"
    },
    {
     "data": {
      "application/vnd.jupyter.widget-view+json": {
       "model_id": "0c5bea051b9b479ba235a77b30be4b35",
       "version_major": 2,
       "version_minor": 0
      },
      "text/plain": [
       "Validation: 0it [00:00, ?it/s]"
      ]
     },
     "metadata": {},
     "output_type": "display_data"
    },
    {
     "data": {
      "application/vnd.jupyter.widget-view+json": {
       "model_id": "a6bfc7e890354d53b338e26672e7227a",
       "version_major": 2,
       "version_minor": 0
      },
      "text/plain": [
       "Validation: 0it [00:00, ?it/s]"
      ]
     },
     "metadata": {},
     "output_type": "display_data"
    },
    {
     "data": {
      "application/vnd.jupyter.widget-view+json": {
       "model_id": "3413091c61cf4f998197c44bf48395b6",
       "version_major": 2,
       "version_minor": 0
      },
      "text/plain": [
       "Validation: 0it [00:00, ?it/s]"
      ]
     },
     "metadata": {},
     "output_type": "display_data"
    },
    {
     "name": "stderr",
     "output_type": "stream",
     "text": [
      "`Trainer.fit` stopped: `max_epochs=30` reached.\n"
     ]
    }
   ],
   "source": [
    "trainer.fit(model)"
   ]
  },
  {
   "cell_type": "code",
   "execution_count": 32,
   "id": "92ea8a7d",
   "metadata": {},
   "outputs": [],
   "source": [
    "trainer.save_checkpoint('t5models/rut5-small')"
   ]
  },
  {
   "cell_type": "code",
   "execution_count": 33,
   "id": "77f1d1c9",
   "metadata": {},
   "outputs": [
    {
     "name": "stderr",
     "output_type": "stream",
     "text": [
      "LOCAL_RANK: 0 - CUDA_VISIBLE_DEVICES: [4]\n"
     ]
    },
    {
     "data": {
      "application/vnd.jupyter.widget-view+json": {
       "model_id": "5fe203139018457897b2de878647be9c",
       "version_major": 2,
       "version_minor": 0
      },
      "text/plain": [
       "Predicting: 225it [00:00, ?it/s]"
      ]
     },
     "metadata": {},
     "output_type": "display_data"
    }
   ],
   "source": [
    "val_predictions = trainer.predict(model, dataloaders=model.dm.val_dataloader())"
   ]
  },
  {
   "cell_type": "code",
   "execution_count": 34,
   "id": "0e43fa69",
   "metadata": {},
   "outputs": [],
   "source": [
    "val_df, test_df = model.dm.val_df.copy(), model.dm.test_df.copy()"
   ]
  },
  {
   "cell_type": "code",
   "execution_count": 35,
   "id": "aac6f72f",
   "metadata": {},
   "outputs": [],
   "source": [
    "val_df['predict'] = sum(val_predictions, start=[])"
   ]
  },
  {
   "cell_type": "code",
   "execution_count": 36,
   "id": "a083e165",
   "metadata": {},
   "outputs": [],
   "source": [
    "val_df[['good_gt', 'brand_gt']] = np.column_stack(val_df['target_text'].apply(lambda x: get_entities(x))).T\n",
    "val_df[['good_pred', 'brand_pred']] = np.column_stack(val_df['predict'].apply(lambda x: get_entities(x))).T"
   ]
  },
  {
   "cell_type": "code",
   "execution_count": 37,
   "id": "2b9a10c9",
   "metadata": {},
   "outputs": [
    {
     "data": {
      "text/plain": [
       "0.883668903803132"
      ]
     },
     "execution_count": 37,
     "metadata": {},
     "output_type": "execute_result"
    }
   ],
   "source": [
    "f1_good = f1score(val_df['good_pred'], val_df['good_gt'])\n",
    "f1_good"
   ]
  },
  {
   "cell_type": "code",
   "execution_count": 38,
   "id": "72e34454",
   "metadata": {},
   "outputs": [
    {
     "data": {
      "text/plain": [
       "0.6952526799387443"
      ]
     },
     "execution_count": 38,
     "metadata": {},
     "output_type": "execute_result"
    }
   ],
   "source": [
    "f1_brand = f1score(val_df['brand_pred'], val_df['brand_gt'])\n",
    "f1_brand"
   ]
  },
  {
   "cell_type": "code",
   "execution_count": 39,
   "id": "34326193",
   "metadata": {},
   "outputs": [
    {
     "data": {
      "text/plain": [
       "0.7580580878935402"
      ]
     },
     "execution_count": 39,
     "metadata": {},
     "output_type": "execute_result"
    }
   ],
   "source": [
    "(f1_good + 2 * f1_brand) / 3"
   ]
  },
  {
   "cell_type": "code",
   "execution_count": 50,
   "id": "d7efea37",
   "metadata": {
    "collapsed": true
   },
   "outputs": [
    {
     "data": {
      "text/html": [
       "<div>\n",
       "<style scoped>\n",
       "    .dataframe tbody tr th:only-of-type {\n",
       "        vertical-align: middle;\n",
       "    }\n",
       "\n",
       "    .dataframe tbody tr th {\n",
       "        vertical-align: top;\n",
       "    }\n",
       "\n",
       "    .dataframe thead th {\n",
       "        text-align: right;\n",
       "    }\n",
       "</style>\n",
       "<table border=\"1\" class=\"dataframe\">\n",
       "  <thead>\n",
       "    <tr style=\"text-align: right;\">\n",
       "      <th></th>\n",
       "      <th>input_text</th>\n",
       "      <th>target_text</th>\n",
       "      <th>predict</th>\n",
       "    </tr>\n",
       "  </thead>\n",
       "  <tbody>\n",
       "    <tr>\n",
       "      <th>10981</th>\n",
       "      <td>462709958184 болт din933 с шестигранной головк...</td>\n",
       "      <td>good: болт; brand: tech krep &lt;\\s&gt;</td>\n",
       "      <td>good: болт; brand: tech-krep &lt;\\s&gt;</td>\n",
       "    </tr>\n",
       "    <tr>\n",
       "      <th>960</th>\n",
       "      <td>чай 7 трав травяной чай 45 г р</td>\n",
       "      <td>good: чай; brand: 7 трав &lt;\\s&gt;</td>\n",
       "      <td>good: чай; brand: травяной чай &lt;\\s&gt;</td>\n",
       "    </tr>\n",
       "    <tr>\n",
       "      <th>21176</th>\n",
       "      <td>подклад стрейч, черный-79</td>\n",
       "      <td>good: подклад; brand:  &lt;\\s&gt;</td>\n",
       "      <td>good: подклад; brand: стрейч &lt;\\s&gt;</td>\n",
       "    </tr>\n",
       "    <tr>\n",
       "      <th>15537</th>\n",
       "      <td>ванна  морская вода</td>\n",
       "      <td>good: вода; brand:  &lt;\\s&gt;</td>\n",
       "      <td>good: вода; brand: ванна &lt;\\s&gt;</td>\n",
       "    </tr>\n",
       "    <tr>\n",
       "      <th>21511</th>\n",
       "      <td>мармелад бебето жевательный 0,35</td>\n",
       "      <td>good: мармелад; brand: bebeto &lt;\\s&gt;</td>\n",
       "      <td>good: мармелад; brand: бебето &lt;\\s&gt;</td>\n",
       "    </tr>\n",
       "    <tr>\n",
       "      <th>...</th>\n",
       "      <td>...</td>\n",
       "      <td>...</td>\n",
       "      <td>...</td>\n",
       "    </tr>\n",
       "    <tr>\n",
       "      <th>24954</th>\n",
       "      <td>зефир  глаз. маша и медведь банан-клубника 1шт</td>\n",
       "      <td>good: зефир; brand: маша и медведь &lt;\\s&gt;</td>\n",
       "      <td>good: зефир; brand: маша &lt;\\s&gt;</td>\n",
       "    </tr>\n",
       "    <tr>\n",
       "      <th>1972</th>\n",
       "      <td>аппетитка рест.обломов томаты/перец пепперони ...</td>\n",
       "      <td>good: аппетитка; brand: ресторация обломов &lt;\\s&gt;</td>\n",
       "      <td>good: аппетитка; brand: &lt;\\s&gt;</td>\n",
       "    </tr>\n",
       "    <tr>\n",
       "      <th>3070</th>\n",
       "      <td>1. лактобаланс №28 капс.</td>\n",
       "      <td>good: капсулы; brand: лактобаланс &lt;\\s&gt;</td>\n",
       "      <td>good: лактобаланс; brand: &lt;\\s&gt;</td>\n",
       "    </tr>\n",
       "    <tr>\n",
       "      <th>1393</th>\n",
       "      <td>сувенир заяц (дерево), н30см, натур. (шт)</td>\n",
       "      <td>good: сувенир; brand:  &lt;\\s&gt;</td>\n",
       "      <td>good: сувенир; brand: заяц &lt;\\s&gt;</td>\n",
       "    </tr>\n",
       "    <tr>\n",
       "      <th>24850</th>\n",
       "      <td>чикаго бургер_</td>\n",
       "      <td>good: бургер; brand:  &lt;\\s&gt;</td>\n",
       "      <td>good: бургер; brand: чикаго &lt;\\s&gt;</td>\n",
       "    </tr>\n",
       "  </tbody>\n",
       "</table>\n",
       "<p>100 rows × 3 columns</p>\n",
       "</div>"
      ],
      "text/plain": [
       "                                              input_text  \\\n",
       "10981  462709958184 болт din933 с шестигранной головк...   \n",
       "960                       чай 7 трав травяной чай 45 г р   \n",
       "21176                          подклад стрейч, черный-79   \n",
       "15537                               ванна  морская вода    \n",
       "21511                   мармелад бебето жевательный 0,35   \n",
       "...                                                  ...   \n",
       "24954     зефир  глаз. маша и медведь банан-клубника 1шт   \n",
       "1972   аппетитка рест.обломов томаты/перец пепперони ...   \n",
       "3070                            1. лактобаланс №28 капс.   \n",
       "1393           сувенир заяц (дерево), н30см, натур. (шт)   \n",
       "24850                                     чикаго бургер_   \n",
       "\n",
       "                                           target_text  \\\n",
       "10981                good: болт; brand: tech krep <\\s>   \n",
       "960                      good: чай; brand: 7 трав <\\s>   \n",
       "21176                      good: подклад; brand:  <\\s>   \n",
       "15537                         good: вода; brand:  <\\s>   \n",
       "21511               good: мармелад; brand: bebeto <\\s>   \n",
       "...                                                ...   \n",
       "24954          good: зефир; brand: маша и медведь <\\s>   \n",
       "1972   good: аппетитка; brand: ресторация обломов <\\s>   \n",
       "3070            good: капсулы; brand: лактобаланс <\\s>   \n",
       "1393                       good: сувенир; brand:  <\\s>   \n",
       "24850                       good: бургер; brand:  <\\s>   \n",
       "\n",
       "                                   predict  \n",
       "10981    good: болт; brand: tech-krep <\\s>  \n",
       "960    good: чай; brand: травяной чай <\\s>  \n",
       "21176    good: подклад; brand: стрейч <\\s>  \n",
       "15537        good: вода; brand: ванна <\\s>  \n",
       "21511   good: мармелад; brand: бебето <\\s>  \n",
       "...                                    ...  \n",
       "24954        good: зефир; brand: маша <\\s>  \n",
       "1972          good: аппетитка; brand: <\\s>  \n",
       "3070        good: лактобаланс; brand: <\\s>  \n",
       "1393       good: сувенир; brand: заяц <\\s>  \n",
       "24850     good: бургер; brand: чикаго <\\s>  \n",
       "\n",
       "[100 rows x 3 columns]"
      ]
     },
     "execution_count": 50,
     "metadata": {},
     "output_type": "execute_result"
    }
   ],
   "source": [
    "val_df[val_df['brand_pred'] != val_df['brand_gt']][['input_text', 'target_text', 'predict']].sample(100)"
   ]
  },
  {
   "cell_type": "code",
   "execution_count": 40,
   "id": "f86f8c12",
   "metadata": {},
   "outputs": [
    {
     "name": "stderr",
     "output_type": "stream",
     "text": [
      "LOCAL_RANK: 0 - CUDA_VISIBLE_DEVICES: [4]\n"
     ]
    },
    {
     "data": {
      "application/vnd.jupyter.widget-view+json": {
       "model_id": "f581515c956147de8848bd9fa35f9dc5",
       "version_major": 2,
       "version_minor": 0
      },
      "text/plain": [
       "Predicting: 225it [00:00, ?it/s]"
      ]
     },
     "metadata": {},
     "output_type": "display_data"
    }
   ],
   "source": [
    "test_predictions = trainer.predict(model, dataloaders=model.dm.predict_dataloader())"
   ]
  },
  {
   "cell_type": "code",
   "execution_count": 41,
   "id": "52dad8ec",
   "metadata": {},
   "outputs": [],
   "source": [
    "test_df['predict'] = sum(test_predictions, start=[])"
   ]
  },
  {
   "cell_type": "code",
   "execution_count": 42,
   "id": "0c307ad0",
   "metadata": {},
   "outputs": [],
   "source": [
    "test_df[['good', 'brand']] = np.column_stack(test_df['predict'].apply(lambda x: get_entities(x))).T"
   ]
  },
  {
   "cell_type": "code",
   "execution_count": 65,
   "id": "e8033f54",
   "metadata": {},
   "outputs": [
    {
     "data": {
      "text/plain": [
       "'cointegrated/rut5-small'"
      ]
     },
     "execution_count": 65,
     "metadata": {},
     "output_type": "execute_result"
    }
   ],
   "source": [
    "MODEL_NAME"
   ]
  },
  {
   "cell_type": "code",
   "execution_count": 43,
   "id": "ef6ad60f",
   "metadata": {},
   "outputs": [
    {
     "data": {
      "text/html": [
       "<div>\n",
       "<style scoped>\n",
       "    .dataframe tbody tr th:only-of-type {\n",
       "        vertical-align: middle;\n",
       "    }\n",
       "\n",
       "    .dataframe tbody tr th {\n",
       "        vertical-align: top;\n",
       "    }\n",
       "\n",
       "    .dataframe thead th {\n",
       "        text-align: right;\n",
       "    }\n",
       "</style>\n",
       "<table border=\"1\" class=\"dataframe\">\n",
       "  <thead>\n",
       "    <tr style=\"text-align: right;\">\n",
       "      <th></th>\n",
       "      <th>id</th>\n",
       "      <th>good</th>\n",
       "      <th>brand</th>\n",
       "    </tr>\n",
       "  </thead>\n",
       "  <tbody>\n",
       "    <tr>\n",
       "      <th>0</th>\n",
       "      <td>0</td>\n",
       "      <td>клей</td>\n",
       "      <td>ермак</td>\n",
       "    </tr>\n",
       "    <tr>\n",
       "      <th>1</th>\n",
       "      <td>1</td>\n",
       "      <td>торт</td>\n",
       "      <td>сладушка</td>\n",
       "    </tr>\n",
       "    <tr>\n",
       "      <th>2</th>\n",
       "      <td>2</td>\n",
       "      <td>смеситель</td>\n",
       "      <td>calorie</td>\n",
       "    </tr>\n",
       "    <tr>\n",
       "      <th>3</th>\n",
       "      <td>3</td>\n",
       "      <td>лимон</td>\n",
       "      <td>бар</td>\n",
       "    </tr>\n",
       "    <tr>\n",
       "      <th>4</th>\n",
       "      <td>4</td>\n",
       "      <td>коньяк</td>\n",
       "      <td>сараджишвили</td>\n",
       "    </tr>\n",
       "    <tr>\n",
       "      <th>...</th>\n",
       "      <td>...</td>\n",
       "      <td>...</td>\n",
       "      <td>...</td>\n",
       "    </tr>\n",
       "    <tr>\n",
       "      <th>4995</th>\n",
       "      <td>4995</td>\n",
       "      <td>рамка</td>\n",
       "      <td></td>\n",
       "    </tr>\n",
       "    <tr>\n",
       "      <th>4996</th>\n",
       "      <td>4996</td>\n",
       "      <td>напиток</td>\n",
       "      <td>red bull</td>\n",
       "    </tr>\n",
       "    <tr>\n",
       "      <th>4997</th>\n",
       "      <td>4997</td>\n",
       "      <td>наконечники</td>\n",
       "      <td></td>\n",
       "    </tr>\n",
       "    <tr>\n",
       "      <th>4998</th>\n",
       "      <td>4998</td>\n",
       "      <td>шоколад</td>\n",
       "      <td>риттерспорт</td>\n",
       "    </tr>\n",
       "    <tr>\n",
       "      <th>4999</th>\n",
       "      <td>4999</td>\n",
       "      <td>опора</td>\n",
       "      <td></td>\n",
       "    </tr>\n",
       "  </tbody>\n",
       "</table>\n",
       "<p>5000 rows × 3 columns</p>\n",
       "</div>"
      ],
      "text/plain": [
       "        id         good         brand\n",
       "0        0         клей         ермак\n",
       "1        1         торт      сладушка\n",
       "2        2    смеситель       calorie\n",
       "3        3        лимон           бар\n",
       "4        4       коньяк  сараджишвили\n",
       "...    ...          ...           ...\n",
       "4995  4995        рамка              \n",
       "4996  4996      напиток      red bull\n",
       "4997  4997  наконечники              \n",
       "4998  4998      шоколад   риттерспорт\n",
       "4999  4999        опора              \n",
       "\n",
       "[5000 rows x 3 columns]"
      ]
     },
     "execution_count": 43,
     "metadata": {},
     "output_type": "execute_result"
    }
   ],
   "source": [
    "test_df[['id', 'good', 'brand']]"
   ]
  },
  {
   "cell_type": "code",
   "execution_count": 44,
   "id": "c6d326c9",
   "metadata": {},
   "outputs": [
    {
     "data": {
      "text/html": [
       "<div>\n",
       "<style scoped>\n",
       "    .dataframe tbody tr th:only-of-type {\n",
       "        vertical-align: middle;\n",
       "    }\n",
       "\n",
       "    .dataframe tbody tr th {\n",
       "        vertical-align: top;\n",
       "    }\n",
       "\n",
       "    .dataframe thead th {\n",
       "        text-align: right;\n",
       "    }\n",
       "</style>\n",
       "<table border=\"1\" class=\"dataframe\">\n",
       "  <thead>\n",
       "    <tr style=\"text-align: right;\">\n",
       "      <th></th>\n",
       "      <th>id</th>\n",
       "      <th>input_text</th>\n",
       "      <th>good</th>\n",
       "      <th>brand</th>\n",
       "    </tr>\n",
       "  </thead>\n",
       "  <tbody>\n",
       "    <tr>\n",
       "      <th>0</th>\n",
       "      <td>0</td>\n",
       "      <td>469-210 ермак клей универсальный, 15мл, блистер</td>\n",
       "      <td>клей</td>\n",
       "      <td>ермак</td>\n",
       "    </tr>\n",
       "    <tr>\n",
       "      <th>1</th>\n",
       "      <td>1</td>\n",
       "      <td>торт сладушка зимняя вишня 700г</td>\n",
       "      <td>торт</td>\n",
       "      <td>сладушка</td>\n",
       "    </tr>\n",
       "    <tr>\n",
       "      <th>2</th>\n",
       "      <td>2</td>\n",
       "      <td>смеситель \"calorie\" 1023 а06 д/кухни</td>\n",
       "      <td>смеситель</td>\n",
       "      <td>calorie</td>\n",
       "    </tr>\n",
       "    <tr>\n",
       "      <th>3</th>\n",
       "      <td>3</td>\n",
       "      <td>лимон 50гр бар</td>\n",
       "      <td>лимон</td>\n",
       "      <td>бар</td>\n",
       "    </tr>\n",
       "    <tr>\n",
       "      <th>4</th>\n",
       "      <td>4</td>\n",
       "      <td>коньяк сараджишвили 5 лет 0,5л грузия</td>\n",
       "      <td>коньяк</td>\n",
       "      <td>сараджишвили</td>\n",
       "    </tr>\n",
       "    <tr>\n",
       "      <th>...</th>\n",
       "      <td>...</td>\n",
       "      <td>...</td>\n",
       "      <td>...</td>\n",
       "      <td>...</td>\n",
       "    </tr>\n",
       "    <tr>\n",
       "      <th>4995</th>\n",
       "      <td>4995</td>\n",
       "      <td>774352 рамка 2п., сл. кость</td>\n",
       "      <td>рамка</td>\n",
       "      <td></td>\n",
       "    </tr>\n",
       "    <tr>\n",
       "      <th>4996</th>\n",
       "      <td>4996</td>\n",
       "      <td>энерг. напиток red bull 0.25л</td>\n",
       "      <td>напиток</td>\n",
       "      <td>red bull</td>\n",
       "    </tr>\n",
       "    <tr>\n",
       "      <th>4997</th>\n",
       "      <td>4997</td>\n",
       "      <td>36/025 наконечники (т. никель) шт</td>\n",
       "      <td>наконечники</td>\n",
       "      <td></td>\n",
       "    </tr>\n",
       "    <tr>\n",
       "      <th>4998</th>\n",
       "      <td>4998</td>\n",
       "      <td>шоколад риттерспорт мол.с цел.миндалем 100г</td>\n",
       "      <td>шоколад</td>\n",
       "      <td>риттерспорт</td>\n",
       "    </tr>\n",
       "    <tr>\n",
       "      <th>4999</th>\n",
       "      <td>4999</td>\n",
       "      <td>00264242 опора шаровая l=r</td>\n",
       "      <td>опора</td>\n",
       "      <td></td>\n",
       "    </tr>\n",
       "  </tbody>\n",
       "</table>\n",
       "<p>5000 rows × 4 columns</p>\n",
       "</div>"
      ],
      "text/plain": [
       "        id                                       input_text         good  \\\n",
       "0        0  469-210 ермак клей универсальный, 15мл, блистер         клей   \n",
       "1        1                  торт сладушка зимняя вишня 700г         торт   \n",
       "2        2             смеситель \"calorie\" 1023 а06 д/кухни    смеситель   \n",
       "3        3                                   лимон 50гр бар        лимон   \n",
       "4        4            коньяк сараджишвили 5 лет 0,5л грузия       коньяк   \n",
       "...    ...                                              ...          ...   \n",
       "4995  4995                      774352 рамка 2п., сл. кость        рамка   \n",
       "4996  4996                    энерг. напиток red bull 0.25л      напиток   \n",
       "4997  4997                36/025 наконечники (т. никель) шт  наконечники   \n",
       "4998  4998      шоколад риттерспорт мол.с цел.миндалем 100г      шоколад   \n",
       "4999  4999                       00264242 опора шаровая l=r        опора   \n",
       "\n",
       "             brand  \n",
       "0            ермак  \n",
       "1         сладушка  \n",
       "2          calorie  \n",
       "3              бар  \n",
       "4     сараджишвили  \n",
       "...            ...  \n",
       "4995                \n",
       "4996      red bull  \n",
       "4997                \n",
       "4998   риттерспорт  \n",
       "4999                \n",
       "\n",
       "[5000 rows x 4 columns]"
      ]
     },
     "execution_count": 44,
     "metadata": {},
     "output_type": "execute_result"
    }
   ],
   "source": [
    "test_df[['id', 'input_text', 'good', 'brand']]"
   ]
  },
  {
   "cell_type": "code",
   "execution_count": 45,
   "id": "fd21dfea",
   "metadata": {},
   "outputs": [],
   "source": [
    "test_df[['id', 'good', 'brand']].to_csv(f'submissions/submision-rut5-small.csv', index=False)"
   ]
  }
 ],
 "metadata": {
  "kernelspec": {
   "display_name": "py",
   "language": "python",
   "name": "py"
  },
  "language_info": {
   "codemirror_mode": {
    "name": "ipython",
    "version": 3
   },
   "file_extension": ".py",
   "mimetype": "text/x-python",
   "name": "python",
   "nbconvert_exporter": "python",
   "pygments_lexer": "ipython3",
   "version": "3.9.16"
  }
 },
 "nbformat": 4,
 "nbformat_minor": 5
}
