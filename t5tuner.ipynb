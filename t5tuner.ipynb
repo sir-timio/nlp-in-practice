{
 "cells": [
  {
   "cell_type": "code",
   "execution_count": 1,
   "id": "7e740225",
   "metadata": {
    "ExecuteTime": {
     "end_time": "2023-06-08T10:54:51.745439800Z",
     "start_time": "2023-06-08T10:54:49.267906Z"
    }
   },
   "outputs": [
    {
     "name": "stderr",
     "output_type": "stream",
     "text": [
      "2023-06-29 08:36:27.355610: I tensorflow/core/util/port.cc:110] oneDNN custom operations are on. You may see slightly different numerical results due to floating-point round-off errors from different computation orders. To turn them off, set the environment variable `TF_ENABLE_ONEDNN_OPTS=0`.\n",
      "2023-06-29 08:36:27.401886: I tensorflow/core/platform/cpu_feature_guard.cc:182] This TensorFlow binary is optimized to use available CPU instructions in performance-critical operations.\n",
      "To enable the following instructions: AVX2 AVX512F AVX512_VNNI FMA, in other operations, rebuild TensorFlow with the appropriate compiler flags.\n",
      "2023-06-29 08:36:28.288096: W tensorflow/compiler/tf2tensorrt/utils/py_utils.cc:38] TF-TRT Warning: Could not find TensorRT\n"
     ]
    }
   ],
   "source": [
    "import re\n",
    "import pandas as pd\n",
    "import pytorch_lightning as pl\n",
    "from sklearn.model_selection import train_test_split\n",
    "import numpy as np\n",
    "import random\n",
    "import torch\n",
    "import torch.nn as nn\n",
    "from torch.nn.utils.rnn import pad_sequence\n",
    "from torch.utils.data import Dataset, DataLoader, random_split\n",
    "from tqdm import tqdm\n",
    "torch.set_float32_matmul_precision(\"high\")"
   ]
  },
  {
   "cell_type": "code",
   "execution_count": 2,
   "id": "d78266c5",
   "metadata": {},
   "outputs": [
    {
     "data": {
      "text/plain": [
       "True"
      ]
     },
     "execution_count": 2,
     "metadata": {},
     "output_type": "execute_result"
    }
   ],
   "source": [
    "torch.cuda.is_available()"
   ]
  },
  {
   "cell_type": "code",
   "execution_count": 4,
   "id": "3babbae2",
   "metadata": {},
   "outputs": [],
   "source": [
    "from transformers.optimization import AdafactorSchedule, Adafactor, AdamW, get_adafactor_schedule, get_linear_schedule_with_warmup\n",
    "\n",
    "from transformers import(\n",
    "    T5Model,\n",
    "    T5ForConditionalGeneration,\n",
    "    T5Tokenizer,\n",
    ")"
   ]
  },
  {
   "cell_type": "code",
   "execution_count": 5,
   "id": "6fa052ac",
   "metadata": {},
   "outputs": [],
   "source": [
    "from torch.utils.data import Dataset,DataLoader, random_split\n",
    "import pytorch_lightning as pl\n",
    "from pytorch_lightning.callbacks import ModelCheckpoint\n",
    "from pytorch_lightning import Trainer\n",
    "\n",
    "from utils import f1score, get_entities, set_seed\n",
    "from addict import Dict\n",
    "from dataset import ReceiptsDataModule, ReceiptsDataset"
   ]
  },
  {
   "cell_type": "code",
   "execution_count": 6,
   "id": "bde17cdc",
   "metadata": {},
   "outputs": [],
   "source": [
    "set_seed(42)"
   ]
  },
  {
   "cell_type": "code",
   "execution_count": 67,
   "id": "857b8865",
   "metadata": {},
   "outputs": [],
   "source": [
    "MODEL_NAME = \"cointegrated/rut5-small\"\n",
    "# MODEL_NAME = \"cointegrated/rut5-base\""
   ]
  },
  {
   "cell_type": "code",
   "execution_count": 68,
   "id": "e91a463d",
   "metadata": {},
   "outputs": [],
   "source": [
    "name = MODEL_NAME.split('/')[-1]"
   ]
  },
  {
   "cell_type": "code",
   "execution_count": 69,
   "id": "8c3aac1b",
   "metadata": {
    "ExecuteTime": {
     "end_time": "2023-06-08T10:54:51.804924800Z",
     "start_time": "2023-06-08T10:54:51.794242200Z"
    }
   },
   "outputs": [],
   "source": [
    "root = 'data'\n",
    "TRAIN_DATASET_PATH = f\"{root}/train_ner.csv\"\n",
    "TEST_DATASET_PATH = f\"{root}/test_ner.csv\"\n",
    "VAL_SPLIT_SIZE = 0.1\n",
    "BATCH_SIZE = 256\n",
    "NUM_WORKERS = 6"
   ]
  },
  {
   "cell_type": "code",
   "execution_count": 70,
   "id": "07ed150d",
   "metadata": {},
   "outputs": [],
   "source": [
    "data_module_args = Dict(**dict(\n",
    "    tokenizer_name=MODEL_NAME,\n",
    "    train_dataset_path=TRAIN_DATASET_PATH,\n",
    "    test_dataset_path=TEST_DATASET_PATH,\n",
    "    val_split_size=VAL_SPLIT_SIZE,\n",
    "    batch_size=BATCH_SIZE,\n",
    "    num_workers=NUM_WORKERS,    \n",
    "))"
   ]
  },
  {
   "cell_type": "code",
   "execution_count": 71,
   "id": "8c641742",
   "metadata": {
    "ExecuteTime": {
     "end_time": "2023-06-08T10:54:51.814434200Z",
     "start_time": "2023-06-08T10:54:51.805924300Z"
    }
   },
   "outputs": [],
   "source": [
    "dm = ReceiptsDataModule(data_module_args)"
   ]
  },
  {
   "cell_type": "code",
   "execution_count": 72,
   "id": "4d1d4678",
   "metadata": {},
   "outputs": [],
   "source": [
    "dm.prepare_data()\n",
    "dm.setup('train')"
   ]
  },
  {
   "cell_type": "code",
   "execution_count": 73,
   "id": "f93cef85",
   "metadata": {},
   "outputs": [
    {
     "data": {
      "text/html": [
       "<div>\n",
       "<style scoped>\n",
       "    .dataframe tbody tr th:only-of-type {\n",
       "        vertical-align: middle;\n",
       "    }\n",
       "\n",
       "    .dataframe tbody tr th {\n",
       "        vertical-align: top;\n",
       "    }\n",
       "\n",
       "    .dataframe thead th {\n",
       "        text-align: right;\n",
       "    }\n",
       "</style>\n",
       "<table border=\"1\" class=\"dataframe\">\n",
       "  <thead>\n",
       "    <tr style=\"text-align: right;\">\n",
       "      <th></th>\n",
       "      <th>input_text</th>\n",
       "      <th>target_text</th>\n",
       "    </tr>\n",
       "  </thead>\n",
       "  <tbody>\n",
       "    <tr>\n",
       "      <th>4484</th>\n",
       "      <td>блуза acoola rep12445011</td>\n",
       "      <td>good: блуза; brand: acoola &lt;\\s&gt;</td>\n",
       "    </tr>\n",
       "    <tr>\n",
       "      <th>11558</th>\n",
       "      <td>vladi toys. магнитный театр. (россия)</td>\n",
       "      <td>good: театр; brand: vladi toys &lt;\\s&gt;</td>\n",
       "    </tr>\n",
       "    <tr>\n",
       "      <th>22322</th>\n",
       "      <td>машина на радиоуправлении 1:24 арт в1112555 pl</td>\n",
       "      <td>good: машина; brand:  &lt;\\s&gt;</td>\n",
       "    </tr>\n",
       "  </tbody>\n",
       "</table>\n",
       "</div>"
      ],
      "text/plain": [
       "                                           input_text  \\\n",
       "4484                         блуза acoola rep12445011   \n",
       "11558           vladi toys. магнитный театр. (россия)   \n",
       "22322  машина на радиоуправлении 1:24 арт в1112555 pl   \n",
       "\n",
       "                               target_text  \n",
       "4484       good: блуза; brand: acoola <\\s>  \n",
       "11558  good: театр; brand: vladi toys <\\s>  \n",
       "22322           good: машина; brand:  <\\s>  "
      ]
     },
     "execution_count": 73,
     "metadata": {},
     "output_type": "execute_result"
    }
   ],
   "source": [
    "dm.train_df.head(3)"
   ]
  },
  {
   "cell_type": "code",
   "execution_count": 74,
   "id": "4c63a5be",
   "metadata": {},
   "outputs": [
    {
     "data": {
      "text/plain": [
       "dict_keys(['input_text', 'target_text', 'input_ids', 'attention_mask', 'labels'])"
      ]
     },
     "execution_count": 74,
     "metadata": {},
     "output_type": "execute_result"
    }
   ],
   "source": [
    "for batch in dm.train_dataloader():\n",
    "    break\n",
    "batch.keys()"
   ]
  },
  {
   "cell_type": "code",
   "execution_count": 75,
   "id": "469a277a",
   "metadata": {
    "ExecuteTime": {
     "end_time": "2023-06-08T10:54:51.841898200Z",
     "start_time": "2023-06-08T10:54:51.832413Z"
    }
   },
   "outputs": [],
   "source": [
    "class T5FineTuner(pl.LightningModule):\n",
    "    def __init__(self, hparam):\n",
    "        super(T5FineTuner, self).__init__()\n",
    "        self.learning_rate = hparam.learning_rate\n",
    "        self.hparam = hparam\n",
    "\n",
    "        self.dm = ReceiptsDataModule(hparam)\n",
    "        self.dm.prepare_data()\n",
    "        self.dm.setup('train')\n",
    "        \n",
    "        self.model = T5ForConditionalGeneration.from_pretrained(\n",
    "            hparam.model_name)\n",
    "        self.tokenizer = T5Tokenizer.from_pretrained(\n",
    "            hparam.model_name\n",
    "        )\n",
    "#         self.save_hyperparameters()\n",
    "    \n",
    "    def forward(self, input_ids, attention_mask, labels=None):\n",
    "        output = self.model(\n",
    "            input_ids=input_ids,\n",
    "            attention_mask=attention_mask,\n",
    "            labels=labels\n",
    "        )\n",
    "        return output.loss, output.logits\n",
    "    \n",
    "    \n",
    "    def shared_step(self, batch, stage='train'):\n",
    "        input_ids = batch[\"input_ids\"]\n",
    "        attention_mask = batch['attention_mask']\n",
    "        labels = batch[\"labels\"]\n",
    "        loss, outputs = self(input_ids,attention_mask,labels)\n",
    "        self.log(f\"loss/{stage}\", loss, prog_bar=True, logger=True)\n",
    "\n",
    "        return loss\n",
    "    \n",
    "    def training_step(self, batch, _):\n",
    "        loss = self.shared_step(batch, 'train')\n",
    "        return loss\n",
    "\n",
    "    def validation_step(self, batch, _):\n",
    "        loss = self.shared_step(batch, 'val')\n",
    "        return loss\n",
    "        \n",
    "    def predict_step(self, batch, _=None):\n",
    "        \n",
    "        generated_ids = trainer.model.model.generate(\n",
    "          input_ids=batch[\"input_ids\"],\n",
    "          attention_mask=batch[\"attention_mask\"],\n",
    "          num_beams=3,\n",
    "          max_length=80,\n",
    "          repetition_penalty=1.0,\n",
    "          early_stopping=True,\n",
    "          use_cache=True\n",
    "        )\n",
    "        preds = [\n",
    "           self.tokenizer.decode(generated_id,\n",
    "                                 skip_special_tokens=True, \n",
    "                                 clean_up_tokenization_spaces=True)\n",
    "           for generated_id in generated_ids\n",
    "        ]\n",
    "        \n",
    "        return preds\n",
    "    \n",
    "    \n",
    "    def configure_optimizers(self):\n",
    "        \"Prepare optimizer and schedule (linear warmup and decay)\"\n",
    "\n",
    "        model = self.model\n",
    "        no_decay = [\"bias\", \"LayerNorm.weight\"]\n",
    "        optimizer_grouped_parameters = [\n",
    "            {\n",
    "                \"params\": [p for n, p in model.named_parameters() if not any(nd in n for nd in no_decay)],\n",
    "                \"weight_decay\": self.hparam.weight_decay,\n",
    "            },\n",
    "            {\n",
    "                \"params\": [p for n, p in model.named_parameters() if any(nd in n for nd in no_decay)],\n",
    "                \"weight_decay\": 0.0,\n",
    "            },\n",
    "        ]\n",
    "#         optimizer = AdamW(optimizer_grouped_parameters,\n",
    "#                           lr=self.learning_rate, eps=self.hparam.adam_epsilon)\n",
    "        optimizer = Adafactor(optimizer_grouped_parameters, lr=self.learning_rate, scale_parameter=False, relative_step=False)\n",
    "        self.opt = optimizer\n",
    "        return [optimizer]\n",
    "\n",
    "#     def optimizer_step(self,\n",
    "#                        epoch=None,\n",
    "#                        batch_idx=None,\n",
    "#                        optimizer=None,\n",
    "#                        optimizer_idx=None,\n",
    "#                        optimizer_closure=None,\n",
    "#                        on_tpu=None,\n",
    "#                        using_native_amp=None,\n",
    "#                        using_lbfgs=None\n",
    "#                        ):\n",
    "\n",
    "#         optimizer.step(closure=optimizer_closure)\n",
    "#         optimizer.zero_grad()\n",
    "#         self.lr_scheduler.step()\n",
    "#         self.log('lr', self.lr_scheduler.get_last_lr()[-1])\n",
    "\n",
    "    \n",
    "    def train_dataloader(self):        \n",
    "        dataloader = self.dm.train_dataloader()\n",
    "        \n",
    "        t_total = (\n",
    "            (len(dataloader.dataset) //\n",
    "             (self.hparam.batch_size))\n",
    "            // self.hparam.gradient_accumulation_steps\n",
    "            * float(self.hparam.num_train_epochs)\n",
    "        )\n",
    "        dummy_adam = AdamW(params=[torch.nn.Parameter(torch.tensor([0.], \n",
    "                                    requires_grad=True, dtype=torch.float64))])\n",
    "                           \n",
    "                \n",
    "        scheduler = get_linear_schedule_with_warmup(dummy_adam, num_warmup_steps=self.hparam.warmup_steps, num_training_steps=t_total\n",
    "        )\n",
    "        self.lr_scheduler = scheduler\n",
    "        return dataloader\n",
    "\n",
    "    def val_dataloader(self):\n",
    "        return self.dm.val_dataloader()\n",
    "\n",
    "    def predict_dataloader(self):\n",
    "        return self.dm.predict_dataloader()"
   ]
  },
  {
   "cell_type": "code",
   "execution_count": 76,
   "id": "bf3dfaf9",
   "metadata": {},
   "outputs": [],
   "source": [
    "model_args = Dict(**dict(\n",
    "    model_name=MODEL_NAME,\n",
    "    learning_rate=1e-3,\n",
    "    weight_decay=1e-4,\n",
    "    adam_epsilon=1e-8,\n",
    "    warmup_steps=3,\n",
    "    num_train_epochs=80,\n",
    "    gradient_accumulation_steps=32,\n",
    "    early_stop_callback=False,\n",
    "    seed=42,\n",
    "    output_dir='t5models',\n",
    "))"
   ]
  },
  {
   "cell_type": "code",
   "execution_count": 77,
   "id": "0474fd59",
   "metadata": {},
   "outputs": [
    {
     "data": {
      "text/plain": [
       "0.001"
      ]
     },
     "execution_count": 77,
     "metadata": {},
     "output_type": "execute_result"
    }
   ],
   "source": [
    "1e-3"
   ]
  },
  {
   "cell_type": "code",
   "execution_count": 78,
   "id": "7e02c5a3",
   "metadata": {},
   "outputs": [],
   "source": [
    "args = model_args | data_module_args"
   ]
  },
  {
   "cell_type": "code",
   "execution_count": 79,
   "id": "7c6e6593",
   "metadata": {
    "ExecuteTime": {
     "end_time": "2023-06-08T10:54:51.855590100Z",
     "start_time": "2023-06-08T10:54:51.838893600Z"
    },
    "scrolled": false
   },
   "outputs": [],
   "source": [
    "model = T5FineTuner(args)"
   ]
  },
  {
   "cell_type": "code",
   "execution_count": 80,
   "id": "9feb1b1b",
   "metadata": {},
   "outputs": [
    {
     "data": {
      "text/plain": [
       "'rut5-base'"
      ]
     },
     "execution_count": 80,
     "metadata": {},
     "output_type": "execute_result"
    }
   ],
   "source": [
    "name"
   ]
  },
  {
   "cell_type": "code",
   "execution_count": 81,
   "id": "6cd1c5fc",
   "metadata": {},
   "outputs": [],
   "source": [
    "checkpoint_callback = pl.callbacks.ModelCheckpoint(\n",
    "    filename=args.output_dir+\"/checkpoint.pth\", monitor=\"loss/val\", mode=\"min\", save_top_k=1\n",
    ")"
   ]
  },
  {
   "cell_type": "code",
   "execution_count": 82,
   "id": "87bbedf0",
   "metadata": {
    "ExecuteTime": {
     "end_time": "2023-06-08T10:54:51.960372Z",
     "start_time": "2023-06-08T10:54:51.856590400Z"
    },
    "scrolled": true
   },
   "outputs": [
    {
     "name": "stderr",
     "output_type": "stream",
     "text": [
      "GPU available: True (cuda), used: True\n",
      "TPU available: False, using: 0 TPU cores\n",
      "IPU available: False, using: 0 IPUs\n",
      "HPU available: False, using: 0 HPUs\n"
     ]
    }
   ],
   "source": [
    "trainer = pl.Trainer(\n",
    "    accumulate_grad_batches=args.gradient_accumulation_steps,\n",
    "#     auto_lr_find=True,\n",
    "    max_epochs=args.num_train_epochs,\n",
    "    precision=32,\n",
    "    devices=[0],\n",
    "    callbacks=[checkpoint_callback],\n",
    "    log_every_n_steps=1,\n",
    "    logger=pl.loggers.TensorBoardLogger(\"tb_logs\", name=name),\n",
    "    accelerator=\"gpu\"\n",
    ")"
   ]
  },
  {
   "cell_type": "code",
   "execution_count": 44,
   "id": "458b2b06",
   "metadata": {},
   "outputs": [],
   "source": [
    "# lr_finder = trainer.tuner.lr_find(model)\n",
    "\n",
    "# # Plot with\n",
    "# fig = lr_finder.plot(suggest=True)\n",
    "# fig.show()"
   ]
  },
  {
   "cell_type": "code",
   "execution_count": 45,
   "id": "86f8d59f",
   "metadata": {},
   "outputs": [],
   "source": [
    "# Pick point based on plot, or get suggestion\n",
    "# new_lr = lr_finder.suggestion()"
   ]
  },
  {
   "cell_type": "code",
   "execution_count": 46,
   "id": "ca1076b2",
   "metadata": {},
   "outputs": [],
   "source": [
    "# new_lr"
   ]
  },
  {
   "cell_type": "code",
   "execution_count": 47,
   "id": "5cee207b",
   "metadata": {},
   "outputs": [],
   "source": [
    "# model.learning_rate = new_lr"
   ]
  },
  {
   "cell_type": "code",
   "execution_count": null,
   "id": "855166b1",
   "metadata": {
    "ExecuteTime": {
     "end_time": "2023-06-08T10:57:08.087368500Z",
     "start_time": "2023-06-08T10:54:52.005941600Z"
    },
    "scrolled": true
   },
   "outputs": [
    {
     "name": "stderr",
     "output_type": "stream",
     "text": [
      "LOCAL_RANK: 0 - CUDA_VISIBLE_DEVICES: [4]\n",
      "\n",
      "  | Name  | Type                       | Params\n",
      "-----------------------------------------------------\n",
      "0 | model | T5ForConditionalGeneration | 244 M \n",
      "-----------------------------------------------------\n",
      "244 M     Trainable params\n",
      "0         Non-trainable params\n",
      "244 M     Total params\n",
      "977.237   Total estimated model params size (MB)\n"
     ]
    },
    {
     "data": {
      "application/vnd.jupyter.widget-view+json": {
       "model_id": "d7b2fc4762d141b0b8a103d4c4952179",
       "version_major": 2,
       "version_minor": 0
      },
      "text/plain": [
       "Sanity Checking: 0it [00:00, ?it/s]"
      ]
     },
     "metadata": {},
     "output_type": "display_data"
    },
    {
     "name": "stderr",
     "output_type": "stream",
     "text": [
      "/home/worker/.local/lib/python3.9/site-packages/transformers/optimization.py:407: FutureWarning: This implementation of AdamW is deprecated and will be removed in a future version. Use the PyTorch implementation torch.optim.AdamW instead, or set `no_deprecation_warning=True` to disable this warning\n",
      "  warnings.warn(\n"
     ]
    },
    {
     "data": {
      "application/vnd.jupyter.widget-view+json": {
       "model_id": "429b005b94e5494d87dfca3319253603",
       "version_major": 2,
       "version_minor": 0
      },
      "text/plain": [
       "Training: 0it [00:00, ?it/s]"
      ]
     },
     "metadata": {},
     "output_type": "display_data"
    },
    {
     "data": {
      "application/vnd.jupyter.widget-view+json": {
       "model_id": "c004f0f099e84d64af42aaa8cdef9bcb",
       "version_major": 2,
       "version_minor": 0
      },
      "text/plain": [
       "Validation: 0it [00:00, ?it/s]"
      ]
     },
     "metadata": {},
     "output_type": "display_data"
    },
    {
     "data": {
      "application/vnd.jupyter.widget-view+json": {
       "model_id": "199b4fb209694e978ed7a403ddf3cf49",
       "version_major": 2,
       "version_minor": 0
      },
      "text/plain": [
       "Validation: 0it [00:00, ?it/s]"
      ]
     },
     "metadata": {},
     "output_type": "display_data"
    }
   ],
   "source": [
    "trainer.fit(model)"
   ]
  },
  {
   "cell_type": "code",
   "execution_count": null,
   "id": "aafb91e7",
   "metadata": {},
   "outputs": [],
   "source": [
    "trainer.save_checkpoint(f't5models/{name}-adafactor')"
   ]
  },
  {
   "cell_type": "code",
   "execution_count": null,
   "id": "9a093283",
   "metadata": {},
   "outputs": [],
   "source": [
    "val_predictions = trainer.predict(model, dataloaders=model.dm.val_dataloader())"
   ]
  },
  {
   "cell_type": "code",
   "execution_count": null,
   "id": "a31ce2a8",
   "metadata": {},
   "outputs": [],
   "source": [
    "val_df, test_df = model.dm.val_df.copy(), model.dm.test_df.copy()"
   ]
  },
  {
   "cell_type": "code",
   "execution_count": null,
   "id": "fa33fc36",
   "metadata": {},
   "outputs": [],
   "source": [
    "val_df['predict'] = sum(val_predictions, start=[])"
   ]
  },
  {
   "cell_type": "code",
   "execution_count": null,
   "id": "a083e165",
   "metadata": {},
   "outputs": [],
   "source": [
    "val_df[['good_gt', 'brand_gt']] = np.column_stack(val_df['target_text'].apply(lambda x: get_entities(x))).T\n",
    "val_df[['good_pred', 'brand_pred']] = np.column_stack(val_df['predict'].apply(lambda x: get_entities(x))).T"
   ]
  },
  {
   "cell_type": "code",
   "execution_count": null,
   "id": "2b9a10c9",
   "metadata": {},
   "outputs": [],
   "source": [
    "f1_good = f1score(val_df['good_pred'], val_df['good_gt'])\n",
    "f1_good"
   ]
  },
  {
   "cell_type": "code",
   "execution_count": null,
   "id": "33517eb8",
   "metadata": {},
   "outputs": [],
   "source": [
    "f1_brand = f1score(val_df['brand_pred'], val_df['brand_gt'])\n",
    "f1_brand"
   ]
  },
  {
   "cell_type": "code",
   "execution_count": null,
   "id": "34326193",
   "metadata": {},
   "outputs": [],
   "source": [
    "(f1_good + 2 * f1_brand) / 3"
   ]
  },
  {
   "cell_type": "code",
   "execution_count": 57,
   "id": "d7efea37",
   "metadata": {},
   "outputs": [
    {
     "data": {
      "text/html": [
       "<div>\n",
       "<style scoped>\n",
       "    .dataframe tbody tr th:only-of-type {\n",
       "        vertical-align: middle;\n",
       "    }\n",
       "\n",
       "    .dataframe tbody tr th {\n",
       "        vertical-align: top;\n",
       "    }\n",
       "\n",
       "    .dataframe thead th {\n",
       "        text-align: right;\n",
       "    }\n",
       "</style>\n",
       "<table border=\"1\" class=\"dataframe\">\n",
       "  <thead>\n",
       "    <tr style=\"text-align: right;\">\n",
       "      <th></th>\n",
       "      <th>input_text</th>\n",
       "      <th>target_text</th>\n",
       "      <th>predict</th>\n",
       "    </tr>\n",
       "  </thead>\n",
       "  <tbody>\n",
       "    <tr>\n",
       "      <th>23315</th>\n",
       "      <td>872530-xl196-пижама из джерси eco-conception</td>\n",
       "      <td>good: пижама; brand: eco-conception &lt;\\s&gt;</td>\n",
       "      <td>good: пижама; brand: eco conception &lt;\\s&gt;</td>\n",
       "    </tr>\n",
       "    <tr>\n",
       "      <th>11178</th>\n",
       "      <td>чизкейк \"new-york\" 200гр/2куска</td>\n",
       "      <td>good: чизкейк; brand:  &lt;\\s&gt;</td>\n",
       "      <td>good: чизкейк; brand: new-york &lt;\\s&gt;</td>\n",
       "    </tr>\n",
       "    <tr>\n",
       "      <th>199</th>\n",
       "      <td>капитан сильвер батончик в шоколадной глазури ...</td>\n",
       "      <td>good: батончик; brand: капитан сильвер &lt;\\s&gt;</td>\n",
       "      <td>good: батончик; brand: капитан &lt;\\s&gt;</td>\n",
       "    </tr>\n",
       "    <tr>\n",
       "      <th>9161</th>\n",
       "      <td>9 2456567063299 джинсы муж/ltb/5055</td>\n",
       "      <td>good: джинсы; brand: ltb &lt;\\s&gt;</td>\n",
       "      <td>good: джинсы; brand: &lt;\\s&gt;</td>\n",
       "    </tr>\n",
       "    <tr>\n",
       "      <th>10321</th>\n",
       "      <td>суп дачный грибной с вермишелью</td>\n",
       "      <td>good: суп; brand: дачный &lt;\\s&gt;</td>\n",
       "      <td>good: суп; brand: &lt;\\s&gt;</td>\n",
       "    </tr>\n",
       "    <tr>\n",
       "      <th>...</th>\n",
       "      <td>...</td>\n",
       "      <td>...</td>\n",
       "      <td>...</td>\n",
       "    </tr>\n",
       "    <tr>\n",
       "      <th>18675</th>\n",
       "      <td>реамберин р-р д/инф 1.5% 250мл конт.пл. n32</td>\n",
       "      <td>good: раствор; brand:  &lt;\\s&gt;</td>\n",
       "      <td>good: раствор; brand: реамберин &lt;\\s&gt;</td>\n",
       "    </tr>\n",
       "    <tr>\n",
       "      <th>4246</th>\n",
       "      <td>kpl00000146 хит  аида 307  канекалон, дл.1,3м ...</td>\n",
       "      <td>good: канекалон; brand:  &lt;\\s&gt;</td>\n",
       "      <td>good: хит; brand: аида &lt;\\s&gt;</td>\n",
       "    </tr>\n",
       "    <tr>\n",
       "      <th>2842</th>\n",
       "      <td>2 2157348581475 топ жен/pull/9238</td>\n",
       "      <td>good: топ; brand: pull&amp;bear &lt;\\s&gt;</td>\n",
       "      <td>good: топ; brand: &lt;\\s&gt;</td>\n",
       "    </tr>\n",
       "    <tr>\n",
       "      <th>3282</th>\n",
       "      <td>делитель digital 1-2</td>\n",
       "      <td>good: делитель; brand: digital &lt;\\s&gt;</td>\n",
       "      <td>good: делитель; brand: &lt;\\s&gt;</td>\n",
       "    </tr>\n",
       "    <tr>\n",
       "      <th>20710</th>\n",
       "      <td>пшеничная крупа прозапас 10 фас</td>\n",
       "      <td>good: крупа; brand: прозапас &lt;\\s&gt;</td>\n",
       "      <td>good: крупа; brand: &lt;\\s&gt;</td>\n",
       "    </tr>\n",
       "  </tbody>\n",
       "</table>\n",
       "<p>100 rows × 3 columns</p>\n",
       "</div>"
      ],
      "text/plain": [
       "                                              input_text  \\\n",
       "23315       872530-xl196-пижама из джерси eco-conception   \n",
       "11178                    чизкейк \"new-york\" 200гр/2куска   \n",
       "199    капитан сильвер батончик в шоколадной глазури ...   \n",
       "9161                 9 2456567063299 джинсы муж/ltb/5055   \n",
       "10321                    суп дачный грибной с вермишелью   \n",
       "...                                                  ...   \n",
       "18675        реамберин р-р д/инф 1.5% 250мл конт.пл. n32   \n",
       "4246   kpl00000146 хит  аида 307  канекалон, дл.1,3м ...   \n",
       "2842                   2 2157348581475 топ жен/pull/9238   \n",
       "3282                                делитель digital 1-2   \n",
       "20710                    пшеничная крупа прозапас 10 фас   \n",
       "\n",
       "                                       target_text  \\\n",
       "23315     good: пижама; brand: eco-conception <\\s>   \n",
       "11178                  good: чизкейк; brand:  <\\s>   \n",
       "199    good: батончик; brand: капитан сильвер <\\s>   \n",
       "9161                 good: джинсы; brand: ltb <\\s>   \n",
       "10321                good: суп; brand: дачный <\\s>   \n",
       "...                                            ...   \n",
       "18675                  good: раствор; brand:  <\\s>   \n",
       "4246                 good: канекалон; brand:  <\\s>   \n",
       "2842              good: топ; brand: pull&bear <\\s>   \n",
       "3282           good: делитель; brand: digital <\\s>   \n",
       "20710            good: крупа; brand: прозапас <\\s>   \n",
       "\n",
       "                                        predict  \n",
       "23315  good: пижама; brand: eco conception <\\s>  \n",
       "11178       good: чизкейк; brand: new-york <\\s>  \n",
       "199         good: батончик; brand: капитан <\\s>  \n",
       "9161                  good: джинсы; brand: <\\s>  \n",
       "10321                    good: суп; brand: <\\s>  \n",
       "...                                         ...  \n",
       "18675      good: раствор; brand: реамберин <\\s>  \n",
       "4246                good: хит; brand: аида <\\s>  \n",
       "2842                     good: топ; brand: <\\s>  \n",
       "3282                good: делитель; brand: <\\s>  \n",
       "20710                  good: крупа; brand: <\\s>  \n",
       "\n",
       "[100 rows x 3 columns]"
      ]
     },
     "execution_count": 57,
     "metadata": {},
     "output_type": "execute_result"
    }
   ],
   "source": [
    "val_df[val_df['brand_pred'] != val_df['brand_gt']][['input_text', 'target_text', 'predict']].sample(100)"
   ]
  },
  {
   "cell_type": "code",
   "execution_count": 58,
   "id": "324be8a3",
   "metadata": {},
   "outputs": [
    {
     "name": "stderr",
     "output_type": "stream",
     "text": [
      "LOCAL_RANK: 0 - CUDA_VISIBLE_DEVICES: [4]\n"
     ]
    },
    {
     "data": {
      "application/vnd.jupyter.widget-view+json": {
       "model_id": "58e68a48a4434a9f8be0e252ee3daec2",
       "version_major": 2,
       "version_minor": 0
      },
      "text/plain": [
       "Predicting: 39it [00:00, ?it/s]"
      ]
     },
     "metadata": {},
     "output_type": "display_data"
    }
   ],
   "source": [
    "test_predictions = trainer.predict(model, dataloaders=model.dm.predict_dataloader())"
   ]
  },
  {
   "cell_type": "code",
   "execution_count": 59,
   "id": "52dad8ec",
   "metadata": {},
   "outputs": [],
   "source": [
    "test_df['predict'] = sum(test_predictions, start=[])"
   ]
  },
  {
   "cell_type": "code",
   "execution_count": 60,
   "id": "0c307ad0",
   "metadata": {},
   "outputs": [],
   "source": [
    "test_df[['good', 'brand']] = np.column_stack(test_df['predict'].apply(lambda x: get_entities(x))).T"
   ]
  },
  {
   "cell_type": "code",
   "execution_count": 61,
   "id": "e8033f54",
   "metadata": {},
   "outputs": [
    {
     "data": {
      "text/plain": [
       "'cointegrated/rut5-small'"
      ]
     },
     "execution_count": 61,
     "metadata": {},
     "output_type": "execute_result"
    }
   ],
   "source": [
    "MODEL_NAME"
   ]
  },
  {
   "cell_type": "code",
   "execution_count": 62,
   "id": "ef6ad60f",
   "metadata": {},
   "outputs": [
    {
     "data": {
      "text/html": [
       "<div>\n",
       "<style scoped>\n",
       "    .dataframe tbody tr th:only-of-type {\n",
       "        vertical-align: middle;\n",
       "    }\n",
       "\n",
       "    .dataframe tbody tr th {\n",
       "        vertical-align: top;\n",
       "    }\n",
       "\n",
       "    .dataframe thead th {\n",
       "        text-align: right;\n",
       "    }\n",
       "</style>\n",
       "<table border=\"1\" class=\"dataframe\">\n",
       "  <thead>\n",
       "    <tr style=\"text-align: right;\">\n",
       "      <th></th>\n",
       "      <th>id</th>\n",
       "      <th>good</th>\n",
       "      <th>brand</th>\n",
       "    </tr>\n",
       "  </thead>\n",
       "  <tbody>\n",
       "    <tr>\n",
       "      <th>0</th>\n",
       "      <td>0</td>\n",
       "      <td>клей</td>\n",
       "      <td>ермак</td>\n",
       "    </tr>\n",
       "    <tr>\n",
       "      <th>1</th>\n",
       "      <td>1</td>\n",
       "      <td>торт</td>\n",
       "      <td>сладушка</td>\n",
       "    </tr>\n",
       "    <tr>\n",
       "      <th>2</th>\n",
       "      <td>2</td>\n",
       "      <td>смеситель</td>\n",
       "      <td>calorie</td>\n",
       "    </tr>\n",
       "    <tr>\n",
       "      <th>3</th>\n",
       "      <td>3</td>\n",
       "      <td>лимон</td>\n",
       "      <td></td>\n",
       "    </tr>\n",
       "    <tr>\n",
       "      <th>4</th>\n",
       "      <td>4</td>\n",
       "      <td>коньяк</td>\n",
       "      <td>сараджишвили</td>\n",
       "    </tr>\n",
       "    <tr>\n",
       "      <th>...</th>\n",
       "      <td>...</td>\n",
       "      <td>...</td>\n",
       "      <td>...</td>\n",
       "    </tr>\n",
       "    <tr>\n",
       "      <th>4995</th>\n",
       "      <td>4995</td>\n",
       "      <td>рамка</td>\n",
       "      <td></td>\n",
       "    </tr>\n",
       "    <tr>\n",
       "      <th>4996</th>\n",
       "      <td>4996</td>\n",
       "      <td>напиток</td>\n",
       "      <td>red bull</td>\n",
       "    </tr>\n",
       "    <tr>\n",
       "      <th>4997</th>\n",
       "      <td>4997</td>\n",
       "      <td>наконечники</td>\n",
       "      <td></td>\n",
       "    </tr>\n",
       "    <tr>\n",
       "      <th>4998</th>\n",
       "      <td>4998</td>\n",
       "      <td>шоколад</td>\n",
       "      <td>rиттерспорт</td>\n",
       "    </tr>\n",
       "    <tr>\n",
       "      <th>4999</th>\n",
       "      <td>4999</td>\n",
       "      <td>опора</td>\n",
       "      <td></td>\n",
       "    </tr>\n",
       "  </tbody>\n",
       "</table>\n",
       "<p>5000 rows × 3 columns</p>\n",
       "</div>"
      ],
      "text/plain": [
       "        id         good         brand\n",
       "0        0         клей         ермак\n",
       "1        1         торт      сладушка\n",
       "2        2    смеситель       calorie\n",
       "3        3        лимон              \n",
       "4        4       коньяк  сараджишвили\n",
       "...    ...          ...           ...\n",
       "4995  4995        рамка              \n",
       "4996  4996      напиток      red bull\n",
       "4997  4997  наконечники              \n",
       "4998  4998      шоколад   rиттерспорт\n",
       "4999  4999        опора              \n",
       "\n",
       "[5000 rows x 3 columns]"
      ]
     },
     "execution_count": 62,
     "metadata": {},
     "output_type": "execute_result"
    }
   ],
   "source": [
    "test_df[['id', 'good', 'brand']]"
   ]
  },
  {
   "cell_type": "code",
   "execution_count": 63,
   "id": "c6d326c9",
   "metadata": {},
   "outputs": [
    {
     "data": {
      "text/html": [
       "<div>\n",
       "<style scoped>\n",
       "    .dataframe tbody tr th:only-of-type {\n",
       "        vertical-align: middle;\n",
       "    }\n",
       "\n",
       "    .dataframe tbody tr th {\n",
       "        vertical-align: top;\n",
       "    }\n",
       "\n",
       "    .dataframe thead th {\n",
       "        text-align: right;\n",
       "    }\n",
       "</style>\n",
       "<table border=\"1\" class=\"dataframe\">\n",
       "  <thead>\n",
       "    <tr style=\"text-align: right;\">\n",
       "      <th></th>\n",
       "      <th>id</th>\n",
       "      <th>input_text</th>\n",
       "      <th>good</th>\n",
       "      <th>brand</th>\n",
       "    </tr>\n",
       "  </thead>\n",
       "  <tbody>\n",
       "    <tr>\n",
       "      <th>0</th>\n",
       "      <td>0</td>\n",
       "      <td>469-210 ермак клей универсальный, 15мл, блистер</td>\n",
       "      <td>клей</td>\n",
       "      <td>ермак</td>\n",
       "    </tr>\n",
       "    <tr>\n",
       "      <th>1</th>\n",
       "      <td>1</td>\n",
       "      <td>торт сладушка зимняя вишня 700г</td>\n",
       "      <td>торт</td>\n",
       "      <td>сладушка</td>\n",
       "    </tr>\n",
       "    <tr>\n",
       "      <th>2</th>\n",
       "      <td>2</td>\n",
       "      <td>смеситель \"calorie\" 1023 а06 д/кухни</td>\n",
       "      <td>смеситель</td>\n",
       "      <td>calorie</td>\n",
       "    </tr>\n",
       "    <tr>\n",
       "      <th>3</th>\n",
       "      <td>3</td>\n",
       "      <td>лимон 50гр бар</td>\n",
       "      <td>лимон</td>\n",
       "      <td></td>\n",
       "    </tr>\n",
       "    <tr>\n",
       "      <th>4</th>\n",
       "      <td>4</td>\n",
       "      <td>коньяк сараджишвили 5 лет 0,5л грузия</td>\n",
       "      <td>коньяк</td>\n",
       "      <td>сараджишвили</td>\n",
       "    </tr>\n",
       "    <tr>\n",
       "      <th>...</th>\n",
       "      <td>...</td>\n",
       "      <td>...</td>\n",
       "      <td>...</td>\n",
       "      <td>...</td>\n",
       "    </tr>\n",
       "    <tr>\n",
       "      <th>4995</th>\n",
       "      <td>4995</td>\n",
       "      <td>774352 рамка 2п., сл. кость</td>\n",
       "      <td>рамка</td>\n",
       "      <td></td>\n",
       "    </tr>\n",
       "    <tr>\n",
       "      <th>4996</th>\n",
       "      <td>4996</td>\n",
       "      <td>энерг. напиток red bull 0.25л</td>\n",
       "      <td>напиток</td>\n",
       "      <td>red bull</td>\n",
       "    </tr>\n",
       "    <tr>\n",
       "      <th>4997</th>\n",
       "      <td>4997</td>\n",
       "      <td>36/025 наконечники (т. никель) шт</td>\n",
       "      <td>наконечники</td>\n",
       "      <td></td>\n",
       "    </tr>\n",
       "    <tr>\n",
       "      <th>4998</th>\n",
       "      <td>4998</td>\n",
       "      <td>шоколад риттерспорт мол.с цел.миндалем 100г</td>\n",
       "      <td>шоколад</td>\n",
       "      <td>rиттерспорт</td>\n",
       "    </tr>\n",
       "    <tr>\n",
       "      <th>4999</th>\n",
       "      <td>4999</td>\n",
       "      <td>00264242 опора шаровая l=r</td>\n",
       "      <td>опора</td>\n",
       "      <td></td>\n",
       "    </tr>\n",
       "  </tbody>\n",
       "</table>\n",
       "<p>5000 rows × 4 columns</p>\n",
       "</div>"
      ],
      "text/plain": [
       "        id                                       input_text         good  \\\n",
       "0        0  469-210 ермак клей универсальный, 15мл, блистер         клей   \n",
       "1        1                  торт сладушка зимняя вишня 700г         торт   \n",
       "2        2             смеситель \"calorie\" 1023 а06 д/кухни    смеситель   \n",
       "3        3                                   лимон 50гр бар        лимон   \n",
       "4        4            коньяк сараджишвили 5 лет 0,5л грузия       коньяк   \n",
       "...    ...                                              ...          ...   \n",
       "4995  4995                      774352 рамка 2п., сл. кость        рамка   \n",
       "4996  4996                    энерг. напиток red bull 0.25л      напиток   \n",
       "4997  4997                36/025 наконечники (т. никель) шт  наконечники   \n",
       "4998  4998      шоколад риттерспорт мол.с цел.миндалем 100г      шоколад   \n",
       "4999  4999                       00264242 опора шаровая l=r        опора   \n",
       "\n",
       "             brand  \n",
       "0            ермак  \n",
       "1         сладушка  \n",
       "2          calorie  \n",
       "3                   \n",
       "4     сараджишвили  \n",
       "...            ...  \n",
       "4995                \n",
       "4996      red bull  \n",
       "4997                \n",
       "4998   rиттерспорт  \n",
       "4999                \n",
       "\n",
       "[5000 rows x 4 columns]"
      ]
     },
     "execution_count": 63,
     "metadata": {},
     "output_type": "execute_result"
    }
   ],
   "source": [
    "test_df[['id', 'input_text', 'good', 'brand']]"
   ]
  },
  {
   "cell_type": "code",
   "execution_count": 65,
   "id": "fd21dfea",
   "metadata": {},
   "outputs": [],
   "source": [
    "test_df[['id', 'good', 'brand']].to_csv(f'submissions/submision-adafactor.csv', index=False)"
   ]
  },
  {
   "cell_type": "code",
   "execution_count": null,
   "id": "6a278387",
   "metadata": {},
   "outputs": [],
   "source": []
  }
 ],
 "metadata": {
  "kernelspec": {
   "display_name": "py",
   "language": "python",
   "name": "py"
  },
  "language_info": {
   "codemirror_mode": {
    "name": "ipython",
    "version": 3
   },
   "file_extension": ".py",
   "mimetype": "text/x-python",
   "name": "python",
   "nbconvert_exporter": "python",
   "pygments_lexer": "ipython3",
   "version": "3.9.16"
  }
 },
 "nbformat": 4,
 "nbformat_minor": 5
}
