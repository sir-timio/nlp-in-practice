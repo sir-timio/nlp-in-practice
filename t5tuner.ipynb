{
 "cells": [
  {
   "cell_type": "code",
   "execution_count": 1,
   "id": "7e740225",
   "metadata": {
    "ExecuteTime": {
     "end_time": "2023-06-08T10:54:51.745439800Z",
     "start_time": "2023-06-08T10:54:49.267906Z"
    }
   },
   "outputs": [
    {
     "name": "stderr",
     "output_type": "stream",
     "text": [
      "2023-06-28 12:03:42.141099: I tensorflow/core/util/port.cc:110] oneDNN custom operations are on. You may see slightly different numerical results due to floating-point round-off errors from different computation orders. To turn them off, set the environment variable `TF_ENABLE_ONEDNN_OPTS=0`.\n",
      "2023-06-28 12:03:42.192391: I tensorflow/core/platform/cpu_feature_guard.cc:182] This TensorFlow binary is optimized to use available CPU instructions in performance-critical operations.\n",
      "To enable the following instructions: AVX2 AVX512F AVX512_VNNI FMA, in other operations, rebuild TensorFlow with the appropriate compiler flags.\n",
      "2023-06-28 12:03:43.013635: W tensorflow/compiler/tf2tensorrt/utils/py_utils.cc:38] TF-TRT Warning: Could not find TensorRT\n"
     ]
    }
   ],
   "source": [
    "import re\n",
    "from gensim.models.fasttext import FastText\n",
    "import pandas as pd\n",
    "import pytorch_lightning as pl\n",
    "from seqeval.metrics.sequence_labeling import get_entities\n",
    "from sklearn.model_selection import train_test_split\n",
    "import numpy as np\n",
    "import random\n",
    "import torch\n",
    "import torch.nn as nn\n",
    "from torch.nn.utils.rnn import pad_sequence\n",
    "from torch.utils.data import Dataset, DataLoader, random_split\n",
    "\n",
    "torch.set_float32_matmul_precision(\"high\")"
   ]
  },
  {
   "cell_type": "code",
   "execution_count": null,
   "id": "e1ff0040",
   "metadata": {},
   "outputs": [],
   "source": [
    "from tqdm import tqdm"
   ]
  },
  {
   "cell_type": "code",
   "execution_count": 2,
   "id": "470b6262",
   "metadata": {},
   "outputs": [
    {
     "data": {
      "text/plain": [
       "True"
      ]
     },
     "execution_count": 2,
     "metadata": {},
     "output_type": "execute_result"
    }
   ],
   "source": [
    "torch.cuda.is_available()"
   ]
  },
  {
   "cell_type": "code",
   "execution_count": 54,
   "id": "6fa052ac",
   "metadata": {},
   "outputs": [
    {
     "data": {
      "text/html": [
       "<pre style=\"white-space:pre;overflow-x:auto;line-height:normal;font-family:Menlo,'DejaVu Sans Mono',consolas,'Courier New',monospace\"><span style=\"color: #800000; text-decoration-color: #800000\">╭─────────────────────────────── </span><span style=\"color: #800000; text-decoration-color: #800000; font-weight: bold\">Traceback </span><span style=\"color: #bf7f7f; text-decoration-color: #bf7f7f; font-weight: bold\">(most recent call last)</span><span style=\"color: #800000; text-decoration-color: #800000\"> ────────────────────────────────╮</span>\n",
       "<span style=\"color: #800000; text-decoration-color: #800000\">│</span> in <span style=\"color: #00ff00; text-decoration-color: #00ff00\">&lt;module&gt;</span>:<span style=\"color: #0000ff; text-decoration-color: #0000ff\">13</span>                                                                                   <span style=\"color: #800000; text-decoration-color: #800000\">│</span>\n",
       "<span style=\"color: #800000; text-decoration-color: #800000\">│</span>                                                                                                  <span style=\"color: #800000; text-decoration-color: #800000\">│</span>\n",
       "<span style=\"color: #800000; text-decoration-color: #800000\">│</span>   <span style=\"color: #7f7f7f; text-decoration-color: #7f7f7f\">10 │   </span>T5Tokenizer,                                                                            <span style=\"color: #800000; text-decoration-color: #800000\">│</span>\n",
       "<span style=\"color: #800000; text-decoration-color: #800000\">│</span>   <span style=\"color: #7f7f7f; text-decoration-color: #7f7f7f\">11 │   </span>get_linear_schedule_with_warmup                                                         <span style=\"color: #800000; text-decoration-color: #800000\">│</span>\n",
       "<span style=\"color: #800000; text-decoration-color: #800000\">│</span>   <span style=\"color: #7f7f7f; text-decoration-color: #7f7f7f\">12 </span>)                                                                                           <span style=\"color: #800000; text-decoration-color: #800000\">│</span>\n",
       "<span style=\"color: #800000; text-decoration-color: #800000\">│</span> <span style=\"color: #800000; text-decoration-color: #800000\">❱ </span>13 <span style=\"color: #0000ff; text-decoration-color: #0000ff\">from</span> <span style=\"color: #00ffff; text-decoration-color: #00ffff; text-decoration: underline\">utils</span> <span style=\"color: #0000ff; text-decoration-color: #0000ff\">import</span> F1Score, f1score                                                          <span style=\"color: #800000; text-decoration-color: #800000\">│</span>\n",
       "<span style=\"color: #800000; text-decoration-color: #800000\">│</span>   <span style=\"color: #7f7f7f; text-decoration-color: #7f7f7f\">14 </span><span style=\"color: #0000ff; text-decoration-color: #0000ff\">from</span> <span style=\"color: #00ffff; text-decoration-color: #00ffff; text-decoration: underline\">addict</span> <span style=\"color: #0000ff; text-decoration-color: #0000ff\">import</span> Dict                                                                     <span style=\"color: #800000; text-decoration-color: #800000\">│</span>\n",
       "<span style=\"color: #800000; text-decoration-color: #800000\">│</span>   <span style=\"color: #7f7f7f; text-decoration-color: #7f7f7f\">15 </span>                                                                                            <span style=\"color: #800000; text-decoration-color: #800000\">│</span>\n",
       "<span style=\"color: #800000; text-decoration-color: #800000\">╰──────────────────────────────────────────────────────────────────────────────────────────────────╯</span>\n",
       "<span style=\"color: #ff0000; text-decoration-color: #ff0000; font-weight: bold\">ImportError: </span>cannot import name <span style=\"color: #008000; text-decoration-color: #008000\">'f1score'</span> from <span style=\"color: #008000; text-decoration-color: #008000\">'utils'</span> <span style=\"font-weight: bold\">(</span><span style=\"color: #800080; text-decoration-color: #800080\">/home/worker/workspace/hacks/nlp_in_practice/</span><span style=\"color: #ff00ff; text-decoration-color: #ff00ff\">utils.py</span><span style=\"font-weight: bold\">)</span>\n",
       "</pre>\n"
      ],
      "text/plain": [
       "\u001b[31m╭─\u001b[0m\u001b[31m──────────────────────────────\u001b[0m\u001b[31m \u001b[0m\u001b[1;31mTraceback \u001b[0m\u001b[1;2;31m(most recent call last)\u001b[0m\u001b[31m \u001b[0m\u001b[31m───────────────────────────────\u001b[0m\u001b[31m─╮\u001b[0m\n",
       "\u001b[31m│\u001b[0m in \u001b[92m<module>\u001b[0m:\u001b[94m13\u001b[0m                                                                                   \u001b[31m│\u001b[0m\n",
       "\u001b[31m│\u001b[0m                                                                                                  \u001b[31m│\u001b[0m\n",
       "\u001b[31m│\u001b[0m   \u001b[2m10 \u001b[0m\u001b[2m│   \u001b[0mT5Tokenizer,                                                                            \u001b[31m│\u001b[0m\n",
       "\u001b[31m│\u001b[0m   \u001b[2m11 \u001b[0m\u001b[2m│   \u001b[0mget_linear_schedule_with_warmup                                                         \u001b[31m│\u001b[0m\n",
       "\u001b[31m│\u001b[0m   \u001b[2m12 \u001b[0m)                                                                                           \u001b[31m│\u001b[0m\n",
       "\u001b[31m│\u001b[0m \u001b[31m❱ \u001b[0m13 \u001b[94mfrom\u001b[0m \u001b[4;96mutils\u001b[0m \u001b[94mimport\u001b[0m F1Score, f1score                                                          \u001b[31m│\u001b[0m\n",
       "\u001b[31m│\u001b[0m   \u001b[2m14 \u001b[0m\u001b[94mfrom\u001b[0m \u001b[4;96maddict\u001b[0m \u001b[94mimport\u001b[0m Dict                                                                     \u001b[31m│\u001b[0m\n",
       "\u001b[31m│\u001b[0m   \u001b[2m15 \u001b[0m                                                                                            \u001b[31m│\u001b[0m\n",
       "\u001b[31m╰──────────────────────────────────────────────────────────────────────────────────────────────────╯\u001b[0m\n",
       "\u001b[1;91mImportError: \u001b[0mcannot import name \u001b[32m'f1score'\u001b[0m from \u001b[32m'utils'\u001b[0m \u001b[1m(\u001b[0m\u001b[35m/home/worker/workspace/hacks/nlp_in_practice/\u001b[0m\u001b[95mutils.py\u001b[0m\u001b[1m)\u001b[0m\n"
      ]
     },
     "metadata": {},
     "output_type": "display_data"
    }
   ],
   "source": [
    "from torch.utils.data import Dataset,DataLoader, random_split\n",
    "import pytorch_lightning as pl\n",
    "from pytorch_lightning.callbacks import ModelCheckpoint\n",
    "from pytorch_lightning import Trainer\n",
    "\n",
    "from transformers import(\n",
    "    AdamW,\n",
    "    T5Model,\n",
    "    T5ForConditionalGeneration,\n",
    "    T5Tokenizer,\n",
    "    get_linear_schedule_with_warmup\n",
    ")\n",
    "from utils import F1Score, f1score\n",
    "from addict import Dict"
   ]
  },
  {
   "cell_type": "code",
   "execution_count": 4,
   "id": "bde17cdc",
   "metadata": {},
   "outputs": [],
   "source": [
    "def set_seed(seed):\n",
    "    random.seed(seed)\n",
    "    np.random.seed(seed)\n",
    "    torch.manual_seed(seed)\n",
    "    if torch.cuda.is_available():\n",
    "        torch.cuda.manual_seed_all(seed)\n",
    "\n",
    "set_seed(42)"
   ]
  },
  {
   "cell_type": "code",
   "execution_count": 5,
   "id": "58c5aaec",
   "metadata": {
    "ExecuteTime": {
     "end_time": "2023-06-08T10:54:51.770658400Z",
     "start_time": "2023-06-08T10:54:51.763150200Z"
    }
   },
   "outputs": [],
   "source": [
    "class ReceiptsDataset(Dataset):\n",
    "    def __init__(\n",
    "        self,\n",
    "        df: pd.DataFrame,\n",
    "        tokenizer: T5Tokenizer,\n",
    "        source_max_token_length: int = 256,\n",
    "        target_max_token_length: int = 32\n",
    "    ):\n",
    "        super().__init__()\n",
    "        self.is_predict = \"target_text\" not in df.columns\n",
    "        self.data = df[[\"input_text\", \"target_text\"]] if not self.is_predict else df[[\"input_text\"]]\n",
    "        self.data = self.data.values\n",
    "        self.tokenizer = tokenizer\n",
    "        self.source_max_token_length = source_max_token_length\n",
    "        self.target_max_token_length = target_max_token_length\n",
    "        \n",
    "    def __getitem__(self, index):\n",
    "        input_text = self.data[index][0]\n",
    "        target_text = self.data[index][1] if not self.is_predict else \"\"\n",
    "        \n",
    "        source_encoding = self.tokenizer(\n",
    "          input_text,\n",
    "          max_length=self.source_max_token_length,\n",
    "          padding=\"max_length\",\n",
    "          truncation=\"only_second\",\n",
    "          return_attention_mask=True,\n",
    "          add_special_tokens=True,\n",
    "          return_tensors=\"pt\"\n",
    "        )\n",
    "        if target_text != '':\n",
    "            target_encoding = self.tokenizer(\n",
    "              target_text,\n",
    "              max_length=self.target_max_token_length,\n",
    "              padding=\"max_length\",\n",
    "              truncation=True,\n",
    "              return_attention_mask=True,\n",
    "              add_special_tokens=True,\n",
    "              return_tensors=\"pt\"\n",
    "            )\n",
    "\n",
    "            labels = target_encoding['input_ids']\n",
    "            labels[labels == 0] = -100\n",
    "        else:\n",
    "            target_encoding = torch.zeros(1)\n",
    "            labels = torch.zeros(1)\n",
    "\n",
    "        return dict(\n",
    "            input_text=input_text,\n",
    "            target_text=target_text,\n",
    "            input_ids=source_encoding['input_ids'].flatten(),\n",
    "            attention_mask=source_encoding['attention_mask'].flatten(),\n",
    "            labels=labels.flatten()\n",
    "        )\n",
    "\n",
    "    def __len__(self):\n",
    "        return len(self.data)"
   ]
  },
  {
   "cell_type": "code",
   "execution_count": 6,
   "id": "e64d6d1c",
   "metadata": {},
   "outputs": [],
   "source": [
    "class ReceiptsDataModule(pl.LightningDataModule):\n",
    "    def __init__(self, hparam):\n",
    "        super().__init__()\n",
    "        self.hparam = hparam\n",
    "        self.tokenizer = T5Tokenizer.from_pretrained(self.hparam.tokenizer_name)\n",
    "\n",
    "    def prepare_data(self):\n",
    "        self.train_df = pd.read_csv(self.hparam.train_dataset_path).fillna(\"\")\n",
    "        self.test_df = pd.read_csv(self.hparam.test_dataset_path)\n",
    "    \n",
    "    def setup(self, stage: str):\n",
    "        self.train_df, self.val_df = train_test_split(self.train_df, test_size=self.hparam.val_split_size, random_state=42)\n",
    "\n",
    "        self.train_dataset = ReceiptsDataset(self.train_df, self.tokenizer)\n",
    "        self.val_dataset = ReceiptsDataset(self.val_df, self.tokenizer)\n",
    "        self.predict_dataset = ReceiptsDataset(self.test_df, self.tokenizer)\n",
    "\n",
    "    def train_dataloader(self):\n",
    "        return DataLoader(self.train_dataset,\n",
    "                          batch_size=self.hparam.batch_size,\n",
    "                          num_workers=self.hparam.num_workers)\n",
    "\n",
    "    def val_dataloader(self):\n",
    "        return DataLoader(self.val_dataset,\n",
    "                          batch_size=self.hparam.batch_size,\n",
    "                          num_workers=self.hparam.num_workers)\n",
    "\n",
    "    def predict_dataloader(self):\n",
    "        return DataLoader(self.predict_dataset,\n",
    "                                           batch_size=self.hparam.batch_size,\n",
    "                                           num_workers=self.hparam.num_workers)"
   ]
  },
  {
   "cell_type": "code",
   "execution_count": 71,
   "id": "857b8865",
   "metadata": {},
   "outputs": [],
   "source": [
    "# MODEL_NAME = \"cointegrated/rut5-small\"\n",
    "MODEL_NAME = \"cointegrated/rut5-base\"\n",
    "# MODEL_NAME = \"alenusch/mt5small-ruparaphraser\"\n",
    "# MODEL_NAME = \"cointegrated/rut5-base\"\n",
    "# MODEL_NAME = \"sberbank-ai/ruT5-base \""
   ]
  },
  {
   "cell_type": "code",
   "execution_count": 72,
   "id": "8c3aac1b",
   "metadata": {
    "ExecuteTime": {
     "end_time": "2023-06-08T10:54:51.804924800Z",
     "start_time": "2023-06-08T10:54:51.794242200Z"
    }
   },
   "outputs": [],
   "source": [
    "root = 'data'\n",
    "TRAIN_DATASET_PATH = f\"{root}/train_ner.csv\"\n",
    "TEST_DATASET_PATH = f\"{root}/test_ner.csv\"\n",
    "VAL_SPLIT_SIZE = 0.1\n",
    "BATCH_SIZE = 256\n",
    "NUM_WORKERS = 4"
   ]
  },
  {
   "cell_type": "code",
   "execution_count": 73,
   "id": "07ed150d",
   "metadata": {},
   "outputs": [],
   "source": [
    "data_module_args = Dict(**dict(\n",
    "    tokenizer_name=MODEL_NAME,\n",
    "    train_dataset_path=TRAIN_DATASET_PATH,\n",
    "    test_dataset_path=TEST_DATASET_PATH,\n",
    "    val_split_size=VAL_SPLIT_SIZE,\n",
    "    batch_size=BATCH_SIZE,\n",
    "    num_workers=NUM_WORKERS,    \n",
    "))"
   ]
  },
  {
   "cell_type": "code",
   "execution_count": 10,
   "id": "8c641742",
   "metadata": {
    "ExecuteTime": {
     "end_time": "2023-06-08T10:54:51.814434200Z",
     "start_time": "2023-06-08T10:54:51.805924300Z"
    }
   },
   "outputs": [],
   "source": [
    "dm = ReceiptsDataModule(data_module_args)"
   ]
  },
  {
   "cell_type": "code",
   "execution_count": 11,
   "id": "4d1d4678",
   "metadata": {},
   "outputs": [],
   "source": [
    "dm.prepare_data()\n",
    "dm.setup('train')"
   ]
  },
  {
   "cell_type": "code",
   "execution_count": 12,
   "id": "f93cef85",
   "metadata": {},
   "outputs": [
    {
     "data": {
      "text/html": [
       "<div>\n",
       "<style scoped>\n",
       "    .dataframe tbody tr th:only-of-type {\n",
       "        vertical-align: middle;\n",
       "    }\n",
       "\n",
       "    .dataframe tbody tr th {\n",
       "        vertical-align: top;\n",
       "    }\n",
       "\n",
       "    .dataframe thead th {\n",
       "        text-align: right;\n",
       "    }\n",
       "</style>\n",
       "<table border=\"1\" class=\"dataframe\">\n",
       "  <thead>\n",
       "    <tr style=\"text-align: right;\">\n",
       "      <th></th>\n",
       "      <th>input_text</th>\n",
       "      <th>target_text</th>\n",
       "    </tr>\n",
       "  </thead>\n",
       "  <tbody>\n",
       "    <tr>\n",
       "      <th>4484</th>\n",
       "      <td>блуза acoola rep12445011</td>\n",
       "      <td>good: блуза; brand: acoola &lt;\\s&gt;</td>\n",
       "    </tr>\n",
       "    <tr>\n",
       "      <th>11558</th>\n",
       "      <td>vladi toys. магнитный театр. (россия)</td>\n",
       "      <td>good: театр; brand: vladi toys &lt;\\s&gt;</td>\n",
       "    </tr>\n",
       "    <tr>\n",
       "      <th>22322</th>\n",
       "      <td>машина на радиоуправлении 1:24 арт в1112555 pl</td>\n",
       "      <td>good: машина; brand:  &lt;\\s&gt;</td>\n",
       "    </tr>\n",
       "  </tbody>\n",
       "</table>\n",
       "</div>"
      ],
      "text/plain": [
       "                                           input_text  \\\n",
       "4484                         блуза acoola rep12445011   \n",
       "11558           vladi toys. магнитный театр. (россия)   \n",
       "22322  машина на радиоуправлении 1:24 арт в1112555 pl   \n",
       "\n",
       "                               target_text  \n",
       "4484       good: блуза; brand: acoola <\\s>  \n",
       "11558  good: театр; brand: vladi toys <\\s>  \n",
       "22322           good: машина; brand:  <\\s>  "
      ]
     },
     "execution_count": 12,
     "metadata": {},
     "output_type": "execute_result"
    }
   ],
   "source": [
    "dm.train_df.head(3)"
   ]
  },
  {
   "cell_type": "code",
   "execution_count": 13,
   "id": "4c63a5be",
   "metadata": {},
   "outputs": [
    {
     "data": {
      "text/plain": [
       "dict_keys(['input_text', 'target_text', 'input_ids', 'attention_mask', 'labels'])"
      ]
     },
     "execution_count": 13,
     "metadata": {},
     "output_type": "execute_result"
    }
   ],
   "source": [
    "for batch in dm.train_dataloader():\n",
    "    break\n",
    "batch.keys()"
   ]
  },
  {
   "cell_type": "code",
   "execution_count": 14,
   "id": "95ad8f2f",
   "metadata": {},
   "outputs": [],
   "source": [
    "def get_entities(label):\n",
    "    label = label.replace('<\\s>', '')\n",
    "    good_regex = r\"good:\\s(.*?)(?:;|\\s<|$)\"\n",
    "    brand_regex = r\"brand:\\s(.*?)(?:;|\\s<|$)\"\n",
    "    good, brand = '', ''\n",
    "    good_match = re.search(good_regex, label)\n",
    "    brand_match = re.search(brand_regex, label)\n",
    "    if good_match:\n",
    "        good = good_match.group(1).strip()\n",
    "    if brand_match:\n",
    "        brand = brand_match.group(1).strip()\n",
    "    return good, brand"
   ]
  },
  {
   "cell_type": "code",
   "execution_count": 15,
   "id": "469a277a",
   "metadata": {
    "ExecuteTime": {
     "end_time": "2023-06-08T10:54:51.841898200Z",
     "start_time": "2023-06-08T10:54:51.832413Z"
    }
   },
   "outputs": [],
   "source": [
    "class T5FineTuner(pl.LightningModule):\n",
    "    def __init__(self, hparam):\n",
    "        super(T5FineTuner, self).__init__()\n",
    "        self.hparam = hparam\n",
    "\n",
    "        self.dm = ReceiptsDataModule(hparam)\n",
    "        self.dm.prepare_data()\n",
    "        self.dm.setup('train')\n",
    "        \n",
    "        \n",
    "        self.model = T5ForConditionalGeneration.from_pretrained(\n",
    "            hparam.model_name)\n",
    "        self.tokenizer = T5Tokenizer.from_pretrained(\n",
    "            hparam.model_name\n",
    "        )\n",
    "        \n",
    "        \n",
    "#         self.save_hyperparameters()\n",
    "    \n",
    "    def forward(self, input_ids, attention_mask, labels=None):\n",
    "        output = self.model(\n",
    "            input_ids=input_ids,\n",
    "            attention_mask=attention_mask,\n",
    "            labels=labels\n",
    "        )\n",
    "        return output.loss, output.logits\n",
    "    \n",
    "    \n",
    "    def shared_step(self, batch, stage='train'):\n",
    "        input_ids = batch[\"input_ids\"]\n",
    "        attention_mask = batch['attention_mask']\n",
    "        labels = batch[\"labels\"]\n",
    "        loss, outputs = self(input_ids,attention_mask,labels)\n",
    "        self.log(f\"loss/{stage}\", loss, prog_bar=True, logger=True)\n",
    "\n",
    "        return loss\n",
    "    \n",
    "    def training_step(self, batch, _):\n",
    "        loss = self.shared_step(batch, 'train')\n",
    "        return loss\n",
    "\n",
    "    def validation_step(self, batch, _):\n",
    "        loss = self.shared_step(batch, 'val')\n",
    "        return loss\n",
    "    \n",
    "    def predict_step(self, batch, _):\n",
    "        \n",
    "        generated_ids = trainer.model.model.generate(\n",
    "          input_ids=batch[\"input_ids\"],\n",
    "          attention_mask=batch[\"attention_mask\"],\n",
    "          num_beams=3,\n",
    "          max_length=80,\n",
    "          repetition_penalty=1.0,\n",
    "          early_stopping=True,\n",
    "          use_cache=True\n",
    "        )\n",
    "        preds = [\n",
    "           self.tokenizer.decode(generated_id,\n",
    "                                 skip_special_tokens=True, \n",
    "                                 clean_up_tokenization_spaces=True)\n",
    "           for generated_id in generated_ids\n",
    "        ]\n",
    "        \n",
    "        return preds\n",
    "    \n",
    "    \n",
    "    def configure_optimizers(self):\n",
    "        \"Prepare optimizer and schedule (linear warmup and decay)\"\n",
    "\n",
    "        model = self.model\n",
    "        no_decay = [\"bias\", \"LayerNorm.weight\"]\n",
    "        optimizer_grouped_parameters = [\n",
    "            {\n",
    "                \"params\": [p for n, p in model.named_parameters() if not any(nd in n for nd in no_decay)],\n",
    "                \"weight_decay\": self.hparam.weight_decay,\n",
    "            },\n",
    "            {\n",
    "                \"params\": [p for n, p in model.named_parameters() if any(nd in n for nd in no_decay)],\n",
    "                \"weight_decay\": 0.0,\n",
    "            },\n",
    "        ]\n",
    "        optimizer = AdamW(optimizer_grouped_parameters,\n",
    "                          lr=self.hparam.learning_rate, eps=self.hparam.adam_epsilon)\n",
    "        self.opt = optimizer\n",
    "        return [optimizer]\n",
    "\n",
    "    def optimizer_step(self,\n",
    "                       epoch=None,\n",
    "                       batch_idx=None,\n",
    "                       optimizer=None,\n",
    "                       optimizer_idx=None,\n",
    "                       optimizer_closure=None,\n",
    "                       on_tpu=None,\n",
    "                       using_native_amp=None,\n",
    "                       using_lbfgs=None\n",
    "                       ):\n",
    "\n",
    "        optimizer.step(closure=optimizer_closure)\n",
    "        optimizer.zero_grad()\n",
    "        self.lr_scheduler.step()\n",
    "\n",
    "    def get_tqdm_dict(self):\n",
    "        tqdm_dict = {\"loss\": \"{:.3f}\".format(\n",
    "            self.trainer.avg_loss), \"lr\": self.lr_scheduler.get_last_lr()[-1]}\n",
    "\n",
    "        return tqdm_dict\n",
    "    \n",
    "    def train_dataloader(self):        \n",
    "        dataloader = self.dm.train_dataloader()\n",
    "        \n",
    "        t_total = (\n",
    "            (len(dataloader.dataset) //\n",
    "             (self.hparam.batch_size))\n",
    "            // self.hparam.gradient_accumulation_steps\n",
    "            * float(self.hparam.num_train_epochs)\n",
    "        )\n",
    "        scheduler = get_linear_schedule_with_warmup(\n",
    "            self.opt, num_warmup_steps=self.hparam.warmup_steps, num_training_steps=t_total\n",
    "        )\n",
    "        self.lr_scheduler = scheduler\n",
    "        return dataloader\n",
    "\n",
    "    def val_dataloader(self):\n",
    "        return self.dm.val_dataloader()\n",
    "\n",
    "    def predict_dataloader(self):\n",
    "        return self.dm.predict_dataloader()"
   ]
  },
  {
   "cell_type": "code",
   "execution_count": 16,
   "id": "bf3dfaf9",
   "metadata": {},
   "outputs": [],
   "source": [
    "model_args = Dict(**dict(\n",
    "    model_name=MODEL_NAME,\n",
    "    learning_rate=3e-4,\n",
    "    weight_decay=0.0,\n",
    "    adam_epsilon=1e-8,\n",
    "    warmup_steps=0,\n",
    "    num_train_epochs=30,\n",
    "    gradient_accumulation_steps=16,\n",
    "    early_stop_callback=False,\n",
    "    seed=42,\n",
    "    output_dir='t5models',\n",
    "))"
   ]
  },
  {
   "cell_type": "code",
   "execution_count": 17,
   "id": "7e02c5a3",
   "metadata": {},
   "outputs": [],
   "source": [
    "args = model_args | data_module_args"
   ]
  },
  {
   "cell_type": "code",
   "execution_count": 18,
   "id": "7c6e6593",
   "metadata": {
    "ExecuteTime": {
     "end_time": "2023-06-08T10:54:51.855590100Z",
     "start_time": "2023-06-08T10:54:51.838893600Z"
    },
    "scrolled": false
   },
   "outputs": [
    {
     "name": "stderr",
     "output_type": "stream",
     "text": [
      "You are using a model of type mt5 to instantiate a model of type t5. This is not supported for all configurations of models and can yield errors.\n"
     ]
    }
   ],
   "source": [
    "model = T5FineTuner(args)"
   ]
  },
  {
   "cell_type": "code",
   "execution_count": 19,
   "id": "6cd1c5fc",
   "metadata": {},
   "outputs": [],
   "source": [
    "checkpoint_callback = pl.callbacks.ModelCheckpoint(\n",
    "    filename=args.output_dir+\"/checkpoint.pth\", monitor=\"loss/val\", mode=\"min\", save_top_k=1\n",
    ")"
   ]
  },
  {
   "cell_type": "code",
   "execution_count": 20,
   "id": "87bbedf0",
   "metadata": {
    "ExecuteTime": {
     "end_time": "2023-06-08T10:54:51.960372Z",
     "start_time": "2023-06-08T10:54:51.856590400Z"
    }
   },
   "outputs": [
    {
     "name": "stderr",
     "output_type": "stream",
     "text": [
      "GPU available: True (cuda), used: True\n",
      "TPU available: False, using: 0 TPU cores\n",
      "IPU available: False, using: 0 IPUs\n",
      "HPU available: False, using: 0 HPUs\n"
     ]
    }
   ],
   "source": [
    "trainer = pl.Trainer(\n",
    "    accumulate_grad_batches=args.gradient_accumulation_steps,\n",
    "    max_epochs=args.num_train_epochs,\n",
    "    precision= 32,\n",
    "    devices=[0],\n",
    "    callbacks=[checkpoint_callback],\n",
    "    log_every_n_steps=1,\n",
    "    logger=pl.loggers.TensorBoardLogger(\"tb_logs\", name=\"rut5-small\"),\n",
    "    accelerator=\"gpu\"\n",
    ")"
   ]
  },
  {
   "cell_type": "markdown",
   "id": "5f2a3d96",
   "metadata": {},
   "source": [
    "Обучение модели"
   ]
  },
  {
   "cell_type": "code",
   "execution_count": 21,
   "id": "c1dc13ac",
   "metadata": {},
   "outputs": [],
   "source": [
    "# best: tb_logs/ner_crf_lstm_2_512_pre_renamed_20e/version_0"
   ]
  },
  {
   "cell_type": "code",
   "execution_count": 22,
   "id": "855166b1",
   "metadata": {
    "ExecuteTime": {
     "end_time": "2023-06-08T10:57:08.087368500Z",
     "start_time": "2023-06-08T10:54:52.005941600Z"
    },
    "scrolled": true
   },
   "outputs": [
    {
     "name": "stderr",
     "output_type": "stream",
     "text": [
      "/home/worker/anaconda3/envs/py/lib/python3.9/site-packages/pytorch_lightning/trainer/configuration_validator.py:92: UserWarning: When using `Trainer(accumulate_grad_batches != 1)` and overriding `LightningModule.optimizer_{step,zero_grad}`, the hooks will not be called on every batch (rather, they are called on every optimization step).\n",
      "  rank_zero_warn(\n",
      "LOCAL_RANK: 0 - CUDA_VISIBLE_DEVICES: [4]\n",
      "/home/worker/.local/lib/python3.9/site-packages/transformers/optimization.py:407: FutureWarning: This implementation of AdamW is deprecated and will be removed in a future version. Use the PyTorch implementation torch.optim.AdamW instead, or set `no_deprecation_warning=True` to disable this warning\n",
      "  warnings.warn(\n",
      "\n",
      "  | Name  | Type                       | Params\n",
      "-----------------------------------------------------\n",
      "0 | model | T5ForConditionalGeneration | 64.6 M\n",
      "-----------------------------------------------------\n",
      "64.6 M    Trainable params\n",
      "0         Non-trainable params\n",
      "64.6 M    Total params\n",
      "258.578   Total estimated model params size (MB)\n"
     ]
    },
    {
     "data": {
      "application/vnd.jupyter.widget-view+json": {
       "model_id": "01e6a06c2661468bada5b2a6a16d538f",
       "version_major": 2,
       "version_minor": 0
      },
      "text/plain": [
       "Sanity Checking: 0it [00:00, ?it/s]"
      ]
     },
     "metadata": {},
     "output_type": "display_data"
    },
    {
     "data": {
      "application/vnd.jupyter.widget-view+json": {
       "model_id": "7cd9382f9ce44d95a83be4e960d64303",
       "version_major": 2,
       "version_minor": 0
      },
      "text/plain": [
       "Training: 0it [00:00, ?it/s]"
      ]
     },
     "metadata": {},
     "output_type": "display_data"
    },
    {
     "data": {
      "application/vnd.jupyter.widget-view+json": {
       "model_id": "ce705de641a0440f8cb634ff587f76b2",
       "version_major": 2,
       "version_minor": 0
      },
      "text/plain": [
       "Validation: 0it [00:00, ?it/s]"
      ]
     },
     "metadata": {},
     "output_type": "display_data"
    },
    {
     "data": {
      "application/vnd.jupyter.widget-view+json": {
       "model_id": "5c8e01a67992426fb7331028ffd4c346",
       "version_major": 2,
       "version_minor": 0
      },
      "text/plain": [
       "Validation: 0it [00:00, ?it/s]"
      ]
     },
     "metadata": {},
     "output_type": "display_data"
    },
    {
     "data": {
      "application/vnd.jupyter.widget-view+json": {
       "model_id": "a548d10c1fa648859ac555ade44c9683",
       "version_major": 2,
       "version_minor": 0
      },
      "text/plain": [
       "Validation: 0it [00:00, ?it/s]"
      ]
     },
     "metadata": {},
     "output_type": "display_data"
    },
    {
     "data": {
      "application/vnd.jupyter.widget-view+json": {
       "model_id": "541ea4ec8e634f7e92b08d23332d695b",
       "version_major": 2,
       "version_minor": 0
      },
      "text/plain": [
       "Validation: 0it [00:00, ?it/s]"
      ]
     },
     "metadata": {},
     "output_type": "display_data"
    },
    {
     "data": {
      "application/vnd.jupyter.widget-view+json": {
       "model_id": "bd32aea1b599413eb5b3a70a904aa422",
       "version_major": 2,
       "version_minor": 0
      },
      "text/plain": [
       "Validation: 0it [00:00, ?it/s]"
      ]
     },
     "metadata": {},
     "output_type": "display_data"
    },
    {
     "data": {
      "application/vnd.jupyter.widget-view+json": {
       "model_id": "f01b7311c80f4ac2bca165bce2aa7947",
       "version_major": 2,
       "version_minor": 0
      },
      "text/plain": [
       "Validation: 0it [00:00, ?it/s]"
      ]
     },
     "metadata": {},
     "output_type": "display_data"
    },
    {
     "data": {
      "application/vnd.jupyter.widget-view+json": {
       "model_id": "3c72a9955289435f9aee5d9502584215",
       "version_major": 2,
       "version_minor": 0
      },
      "text/plain": [
       "Validation: 0it [00:00, ?it/s]"
      ]
     },
     "metadata": {},
     "output_type": "display_data"
    },
    {
     "data": {
      "application/vnd.jupyter.widget-view+json": {
       "model_id": "a84a3c1eb56547748873d659afa811c5",
       "version_major": 2,
       "version_minor": 0
      },
      "text/plain": [
       "Validation: 0it [00:00, ?it/s]"
      ]
     },
     "metadata": {},
     "output_type": "display_data"
    },
    {
     "data": {
      "application/vnd.jupyter.widget-view+json": {
       "model_id": "937401f9f11c451baee521417041ee17",
       "version_major": 2,
       "version_minor": 0
      },
      "text/plain": [
       "Validation: 0it [00:00, ?it/s]"
      ]
     },
     "metadata": {},
     "output_type": "display_data"
    },
    {
     "data": {
      "application/vnd.jupyter.widget-view+json": {
       "model_id": "83d57c23c90a4cbc9b37810e2e26fdec",
       "version_major": 2,
       "version_minor": 0
      },
      "text/plain": [
       "Validation: 0it [00:00, ?it/s]"
      ]
     },
     "metadata": {},
     "output_type": "display_data"
    },
    {
     "data": {
      "application/vnd.jupyter.widget-view+json": {
       "model_id": "1d285d637d1f4438b8527160cfe52331",
       "version_major": 2,
       "version_minor": 0
      },
      "text/plain": [
       "Validation: 0it [00:00, ?it/s]"
      ]
     },
     "metadata": {},
     "output_type": "display_data"
    },
    {
     "data": {
      "application/vnd.jupyter.widget-view+json": {
       "model_id": "e7386b9d2b0b4f6d9068d5570b192414",
       "version_major": 2,
       "version_minor": 0
      },
      "text/plain": [
       "Validation: 0it [00:00, ?it/s]"
      ]
     },
     "metadata": {},
     "output_type": "display_data"
    },
    {
     "data": {
      "application/vnd.jupyter.widget-view+json": {
       "model_id": "6e9920a69d354f838c96047c2ec9b0ec",
       "version_major": 2,
       "version_minor": 0
      },
      "text/plain": [
       "Validation: 0it [00:00, ?it/s]"
      ]
     },
     "metadata": {},
     "output_type": "display_data"
    },
    {
     "data": {
      "application/vnd.jupyter.widget-view+json": {
       "model_id": "4a6d161e73814dbab885955461e8bab1",
       "version_major": 2,
       "version_minor": 0
      },
      "text/plain": [
       "Validation: 0it [00:00, ?it/s]"
      ]
     },
     "metadata": {},
     "output_type": "display_data"
    },
    {
     "data": {
      "application/vnd.jupyter.widget-view+json": {
       "model_id": "dda5737349ab4a659e1a687747d3d473",
       "version_major": 2,
       "version_minor": 0
      },
      "text/plain": [
       "Validation: 0it [00:00, ?it/s]"
      ]
     },
     "metadata": {},
     "output_type": "display_data"
    },
    {
     "data": {
      "application/vnd.jupyter.widget-view+json": {
       "model_id": "a6156ef960ad49448bcbfb5fa9a9638b",
       "version_major": 2,
       "version_minor": 0
      },
      "text/plain": [
       "Validation: 0it [00:00, ?it/s]"
      ]
     },
     "metadata": {},
     "output_type": "display_data"
    },
    {
     "data": {
      "application/vnd.jupyter.widget-view+json": {
       "model_id": "2b02cf35b5d34384a129ec1170f4db0e",
       "version_major": 2,
       "version_minor": 0
      },
      "text/plain": [
       "Validation: 0it [00:00, ?it/s]"
      ]
     },
     "metadata": {},
     "output_type": "display_data"
    },
    {
     "data": {
      "application/vnd.jupyter.widget-view+json": {
       "model_id": "3e4b98d53d624899bdfc595f5a1e80c5",
       "version_major": 2,
       "version_minor": 0
      },
      "text/plain": [
       "Validation: 0it [00:00, ?it/s]"
      ]
     },
     "metadata": {},
     "output_type": "display_data"
    },
    {
     "data": {
      "application/vnd.jupyter.widget-view+json": {
       "model_id": "d921df537a7140e4bebc3a3af24150dc",
       "version_major": 2,
       "version_minor": 0
      },
      "text/plain": [
       "Validation: 0it [00:00, ?it/s]"
      ]
     },
     "metadata": {},
     "output_type": "display_data"
    },
    {
     "data": {
      "application/vnd.jupyter.widget-view+json": {
       "model_id": "8d28fbea1e5a44599b5441e0063d1d16",
       "version_major": 2,
       "version_minor": 0
      },
      "text/plain": [
       "Validation: 0it [00:00, ?it/s]"
      ]
     },
     "metadata": {},
     "output_type": "display_data"
    },
    {
     "data": {
      "application/vnd.jupyter.widget-view+json": {
       "model_id": "23cb07d3ebe94d938ff39c9988878997",
       "version_major": 2,
       "version_minor": 0
      },
      "text/plain": [
       "Validation: 0it [00:00, ?it/s]"
      ]
     },
     "metadata": {},
     "output_type": "display_data"
    },
    {
     "data": {
      "application/vnd.jupyter.widget-view+json": {
       "model_id": "784d6f1c842a49f796e9949ec4532411",
       "version_major": 2,
       "version_minor": 0
      },
      "text/plain": [
       "Validation: 0it [00:00, ?it/s]"
      ]
     },
     "metadata": {},
     "output_type": "display_data"
    },
    {
     "data": {
      "application/vnd.jupyter.widget-view+json": {
       "model_id": "50c53e2f956849cfb0d5b10ed81fefe2",
       "version_major": 2,
       "version_minor": 0
      },
      "text/plain": [
       "Validation: 0it [00:00, ?it/s]"
      ]
     },
     "metadata": {},
     "output_type": "display_data"
    },
    {
     "data": {
      "application/vnd.jupyter.widget-view+json": {
       "model_id": "408c24808810485e9e6163a2e095b03a",
       "version_major": 2,
       "version_minor": 0
      },
      "text/plain": [
       "Validation: 0it [00:00, ?it/s]"
      ]
     },
     "metadata": {},
     "output_type": "display_data"
    },
    {
     "data": {
      "application/vnd.jupyter.widget-view+json": {
       "model_id": "4dbc039e3c824433bd733f40177f479d",
       "version_major": 2,
       "version_minor": 0
      },
      "text/plain": [
       "Validation: 0it [00:00, ?it/s]"
      ]
     },
     "metadata": {},
     "output_type": "display_data"
    },
    {
     "data": {
      "application/vnd.jupyter.widget-view+json": {
       "model_id": "3b20e61194e94169a967f29ee80ba588",
       "version_major": 2,
       "version_minor": 0
      },
      "text/plain": [
       "Validation: 0it [00:00, ?it/s]"
      ]
     },
     "metadata": {},
     "output_type": "display_data"
    },
    {
     "data": {
      "application/vnd.jupyter.widget-view+json": {
       "model_id": "47e6e48fcfcc40bca8130139e120a2c4",
       "version_major": 2,
       "version_minor": 0
      },
      "text/plain": [
       "Validation: 0it [00:00, ?it/s]"
      ]
     },
     "metadata": {},
     "output_type": "display_data"
    },
    {
     "data": {
      "application/vnd.jupyter.widget-view+json": {
       "model_id": "a7b3b274ace9423eba2bfe5018ecf8f5",
       "version_major": 2,
       "version_minor": 0
      },
      "text/plain": [
       "Validation: 0it [00:00, ?it/s]"
      ]
     },
     "metadata": {},
     "output_type": "display_data"
    },
    {
     "data": {
      "application/vnd.jupyter.widget-view+json": {
       "model_id": "dfd1fba2877945b88921285e9f660e16",
       "version_major": 2,
       "version_minor": 0
      },
      "text/plain": [
       "Validation: 0it [00:00, ?it/s]"
      ]
     },
     "metadata": {},
     "output_type": "display_data"
    },
    {
     "data": {
      "application/vnd.jupyter.widget-view+json": {
       "model_id": "d8eb3269935d416f92915edcb6ade67e",
       "version_major": 2,
       "version_minor": 0
      },
      "text/plain": [
       "Validation: 0it [00:00, ?it/s]"
      ]
     },
     "metadata": {},
     "output_type": "display_data"
    },
    {
     "name": "stderr",
     "output_type": "stream",
     "text": [
      "`Trainer.fit` stopped: `max_epochs=30` reached.\n"
     ]
    }
   ],
   "source": [
    "trainer.fit(model)"
   ]
  },
  {
   "cell_type": "code",
   "execution_count": 25,
   "id": "0a569606",
   "metadata": {},
   "outputs": [
    {
     "name": "stderr",
     "output_type": "stream",
     "text": [
      "LOCAL_RANK: 0 - CUDA_VISIBLE_DEVICES: [4]\n"
     ]
    },
    {
     "data": {
      "application/vnd.jupyter.widget-view+json": {
       "model_id": "e41a5ae50b0743e69adedafacaef41d5",
       "version_major": 2,
       "version_minor": 0
      },
      "text/plain": [
       "Predicting: 88it [00:00, ?it/s]"
      ]
     },
     "metadata": {},
     "output_type": "display_data"
    }
   ],
   "source": [
    "val_predictions = trainer.predict(model, dataloaders=model.dm.val_dataloader())"
   ]
  },
  {
   "cell_type": "code",
   "execution_count": 39,
   "id": "50eaee7c",
   "metadata": {},
   "outputs": [],
   "source": [
    "val_df, test_df = model.dm.val_df.copy(), model.dm.test_df.copy()"
   ]
  },
  {
   "cell_type": "code",
   "execution_count": 42,
   "id": "c8022647",
   "metadata": {},
   "outputs": [],
   "source": [
    "val_df['predict'] = sum(val_predictions, start=[])"
   ]
  },
  {
   "cell_type": "code",
   "execution_count": 77,
   "id": "d21af1c2",
   "metadata": {},
   "outputs": [],
   "source": [
    "trainer.save_checkpoint('t5models/rut5-small')"
   ]
  },
  {
   "cell_type": "code",
   "execution_count": 43,
   "id": "a083e165",
   "metadata": {},
   "outputs": [],
   "source": [
    "val_df[['good_gt', 'brand_gt']] = np.column_stack(val_df['target_text'].apply(lambda x: get_entities(x))).T\n",
    "val_df[['good_pred', 'brand_pred']] = np.column_stack(val_df['predict'].apply(lambda x: get_entities(x))).T"
   ]
  },
  {
   "cell_type": "code",
   "execution_count": 59,
   "id": "2b9a10c9",
   "metadata": {},
   "outputs": [
    {
     "data": {
      "text/plain": [
       "0.8348773841961853"
      ]
     },
     "execution_count": 59,
     "metadata": {},
     "output_type": "execute_result"
    }
   ],
   "source": [
    "f1_good = f1score(val_df['good_pred'], val_df['good_gt'])\n",
    "f1_good"
   ]
  },
  {
   "cell_type": "code",
   "execution_count": 60,
   "id": "3146b460",
   "metadata": {},
   "outputs": [
    {
     "data": {
      "text/plain": [
       "0.6172175249807839"
      ]
     },
     "execution_count": 60,
     "metadata": {},
     "output_type": "execute_result"
    }
   ],
   "source": [
    "f1_brand = f1score(val_df['brand_pred'], val_df['brand_gt'])\n",
    "f1_brand"
   ]
  },
  {
   "cell_type": "code",
   "execution_count": 61,
   "id": "34326193",
   "metadata": {},
   "outputs": [
    {
     "data": {
      "text/plain": [
       "0.6897708113859177"
      ]
     },
     "execution_count": 61,
     "metadata": {},
     "output_type": "execute_result"
    }
   ],
   "source": [
    "(f1_good + 2 * f1_brand) / 3"
   ]
  },
  {
   "cell_type": "code",
   "execution_count": 50,
   "id": "d7efea37",
   "metadata": {
    "collapsed": true
   },
   "outputs": [
    {
     "data": {
      "text/html": [
       "<div>\n",
       "<style scoped>\n",
       "    .dataframe tbody tr th:only-of-type {\n",
       "        vertical-align: middle;\n",
       "    }\n",
       "\n",
       "    .dataframe tbody tr th {\n",
       "        vertical-align: top;\n",
       "    }\n",
       "\n",
       "    .dataframe thead th {\n",
       "        text-align: right;\n",
       "    }\n",
       "</style>\n",
       "<table border=\"1\" class=\"dataframe\">\n",
       "  <thead>\n",
       "    <tr style=\"text-align: right;\">\n",
       "      <th></th>\n",
       "      <th>input_text</th>\n",
       "      <th>target_text</th>\n",
       "      <th>predict</th>\n",
       "    </tr>\n",
       "  </thead>\n",
       "  <tbody>\n",
       "    <tr>\n",
       "      <th>10981</th>\n",
       "      <td>462709958184 болт din933 с шестигранной головк...</td>\n",
       "      <td>good: болт; brand: tech krep &lt;\\s&gt;</td>\n",
       "      <td>good: болт; brand: tech-krep &lt;\\s&gt;</td>\n",
       "    </tr>\n",
       "    <tr>\n",
       "      <th>960</th>\n",
       "      <td>чай 7 трав травяной чай 45 г р</td>\n",
       "      <td>good: чай; brand: 7 трав &lt;\\s&gt;</td>\n",
       "      <td>good: чай; brand: травяной чай &lt;\\s&gt;</td>\n",
       "    </tr>\n",
       "    <tr>\n",
       "      <th>21176</th>\n",
       "      <td>подклад стрейч, черный-79</td>\n",
       "      <td>good: подклад; brand:  &lt;\\s&gt;</td>\n",
       "      <td>good: подклад; brand: стрейч &lt;\\s&gt;</td>\n",
       "    </tr>\n",
       "    <tr>\n",
       "      <th>15537</th>\n",
       "      <td>ванна  морская вода</td>\n",
       "      <td>good: вода; brand:  &lt;\\s&gt;</td>\n",
       "      <td>good: вода; brand: ванна &lt;\\s&gt;</td>\n",
       "    </tr>\n",
       "    <tr>\n",
       "      <th>21511</th>\n",
       "      <td>мармелад бебето жевательный 0,35</td>\n",
       "      <td>good: мармелад; brand: bebeto &lt;\\s&gt;</td>\n",
       "      <td>good: мармелад; brand: бебето &lt;\\s&gt;</td>\n",
       "    </tr>\n",
       "    <tr>\n",
       "      <th>...</th>\n",
       "      <td>...</td>\n",
       "      <td>...</td>\n",
       "      <td>...</td>\n",
       "    </tr>\n",
       "    <tr>\n",
       "      <th>24954</th>\n",
       "      <td>зефир  глаз. маша и медведь банан-клубника 1шт</td>\n",
       "      <td>good: зефир; brand: маша и медведь &lt;\\s&gt;</td>\n",
       "      <td>good: зефир; brand: маша &lt;\\s&gt;</td>\n",
       "    </tr>\n",
       "    <tr>\n",
       "      <th>1972</th>\n",
       "      <td>аппетитка рест.обломов томаты/перец пепперони ...</td>\n",
       "      <td>good: аппетитка; brand: ресторация обломов &lt;\\s&gt;</td>\n",
       "      <td>good: аппетитка; brand: &lt;\\s&gt;</td>\n",
       "    </tr>\n",
       "    <tr>\n",
       "      <th>3070</th>\n",
       "      <td>1. лактобаланс №28 капс.</td>\n",
       "      <td>good: капсулы; brand: лактобаланс &lt;\\s&gt;</td>\n",
       "      <td>good: лактобаланс; brand: &lt;\\s&gt;</td>\n",
       "    </tr>\n",
       "    <tr>\n",
       "      <th>1393</th>\n",
       "      <td>сувенир заяц (дерево), н30см, натур. (шт)</td>\n",
       "      <td>good: сувенир; brand:  &lt;\\s&gt;</td>\n",
       "      <td>good: сувенир; brand: заяц &lt;\\s&gt;</td>\n",
       "    </tr>\n",
       "    <tr>\n",
       "      <th>24850</th>\n",
       "      <td>чикаго бургер_</td>\n",
       "      <td>good: бургер; brand:  &lt;\\s&gt;</td>\n",
       "      <td>good: бургер; brand: чикаго &lt;\\s&gt;</td>\n",
       "    </tr>\n",
       "  </tbody>\n",
       "</table>\n",
       "<p>100 rows × 3 columns</p>\n",
       "</div>"
      ],
      "text/plain": [
       "                                              input_text  \\\n",
       "10981  462709958184 болт din933 с шестигранной головк...   \n",
       "960                       чай 7 трав травяной чай 45 г р   \n",
       "21176                          подклад стрейч, черный-79   \n",
       "15537                               ванна  морская вода    \n",
       "21511                   мармелад бебето жевательный 0,35   \n",
       "...                                                  ...   \n",
       "24954     зефир  глаз. маша и медведь банан-клубника 1шт   \n",
       "1972   аппетитка рест.обломов томаты/перец пепперони ...   \n",
       "3070                            1. лактобаланс №28 капс.   \n",
       "1393           сувенир заяц (дерево), н30см, натур. (шт)   \n",
       "24850                                     чикаго бургер_   \n",
       "\n",
       "                                           target_text  \\\n",
       "10981                good: болт; brand: tech krep <\\s>   \n",
       "960                      good: чай; brand: 7 трав <\\s>   \n",
       "21176                      good: подклад; brand:  <\\s>   \n",
       "15537                         good: вода; brand:  <\\s>   \n",
       "21511               good: мармелад; brand: bebeto <\\s>   \n",
       "...                                                ...   \n",
       "24954          good: зефир; brand: маша и медведь <\\s>   \n",
       "1972   good: аппетитка; brand: ресторация обломов <\\s>   \n",
       "3070            good: капсулы; brand: лактобаланс <\\s>   \n",
       "1393                       good: сувенир; brand:  <\\s>   \n",
       "24850                       good: бургер; brand:  <\\s>   \n",
       "\n",
       "                                   predict  \n",
       "10981    good: болт; brand: tech-krep <\\s>  \n",
       "960    good: чай; brand: травяной чай <\\s>  \n",
       "21176    good: подклад; brand: стрейч <\\s>  \n",
       "15537        good: вода; brand: ванна <\\s>  \n",
       "21511   good: мармелад; brand: бебето <\\s>  \n",
       "...                                    ...  \n",
       "24954        good: зефир; brand: маша <\\s>  \n",
       "1972          good: аппетитка; brand: <\\s>  \n",
       "3070        good: лактобаланс; brand: <\\s>  \n",
       "1393       good: сувенир; brand: заяц <\\s>  \n",
       "24850     good: бургер; brand: чикаго <\\s>  \n",
       "\n",
       "[100 rows x 3 columns]"
      ]
     },
     "execution_count": 50,
     "metadata": {},
     "output_type": "execute_result"
    }
   ],
   "source": [
    "val_df[val_df['brand_pred'] != val_df['brand_gt']][['input_text', 'target_text', 'predict']].sample(100)"
   ]
  },
  {
   "cell_type": "code",
   "execution_count": 51,
   "id": "b450e1f4",
   "metadata": {},
   "outputs": [
    {
     "name": "stderr",
     "output_type": "stream",
     "text": [
      "LOCAL_RANK: 0 - CUDA_VISIBLE_DEVICES: [4]\n"
     ]
    },
    {
     "data": {
      "application/vnd.jupyter.widget-view+json": {
       "model_id": "368ea3f01e584090a61a0a4f2462b3d8",
       "version_major": 2,
       "version_minor": 0
      },
      "text/plain": [
       "Predicting: 88it [00:00, ?it/s]"
      ]
     },
     "metadata": {},
     "output_type": "display_data"
    }
   ],
   "source": [
    "test_predictions = trainer.predict(model, dataloaders=model.dm.predict_dataloader())"
   ]
  },
  {
   "cell_type": "code",
   "execution_count": 62,
   "id": "52dad8ec",
   "metadata": {},
   "outputs": [],
   "source": [
    "test_df['predict'] = sum(test_predictions, start=[])"
   ]
  },
  {
   "cell_type": "code",
   "execution_count": 64,
   "id": "0c307ad0",
   "metadata": {},
   "outputs": [],
   "source": [
    "test_df[['good', 'brand']] = np.column_stack(test_df['predict'].apply(lambda x: get_entities(x))).T"
   ]
  },
  {
   "cell_type": "code",
   "execution_count": 65,
   "id": "e8033f54",
   "metadata": {},
   "outputs": [
    {
     "data": {
      "text/plain": [
       "'cointegrated/rut5-small'"
      ]
     },
     "execution_count": 65,
     "metadata": {},
     "output_type": "execute_result"
    }
   ],
   "source": [
    "MODEL_NAME"
   ]
  },
  {
   "cell_type": "code",
   "execution_count": 66,
   "id": "ef6ad60f",
   "metadata": {},
   "outputs": [
    {
     "data": {
      "text/html": [
       "<div>\n",
       "<style scoped>\n",
       "    .dataframe tbody tr th:only-of-type {\n",
       "        vertical-align: middle;\n",
       "    }\n",
       "\n",
       "    .dataframe tbody tr th {\n",
       "        vertical-align: top;\n",
       "    }\n",
       "\n",
       "    .dataframe thead th {\n",
       "        text-align: right;\n",
       "    }\n",
       "</style>\n",
       "<table border=\"1\" class=\"dataframe\">\n",
       "  <thead>\n",
       "    <tr style=\"text-align: right;\">\n",
       "      <th></th>\n",
       "      <th>id</th>\n",
       "      <th>good</th>\n",
       "      <th>brand</th>\n",
       "    </tr>\n",
       "  </thead>\n",
       "  <tbody>\n",
       "    <tr>\n",
       "      <th>0</th>\n",
       "      <td>0</td>\n",
       "      <td>клей</td>\n",
       "      <td>ермак</td>\n",
       "    </tr>\n",
       "    <tr>\n",
       "      <th>1</th>\n",
       "      <td>1</td>\n",
       "      <td>торт</td>\n",
       "      <td>сладушка</td>\n",
       "    </tr>\n",
       "    <tr>\n",
       "      <th>2</th>\n",
       "      <td>2</td>\n",
       "      <td>смеситель</td>\n",
       "      <td>calorie</td>\n",
       "    </tr>\n",
       "    <tr>\n",
       "      <th>3</th>\n",
       "      <td>3</td>\n",
       "      <td>лимон</td>\n",
       "      <td>бар</td>\n",
       "    </tr>\n",
       "    <tr>\n",
       "      <th>4</th>\n",
       "      <td>4</td>\n",
       "      <td>коньяк</td>\n",
       "      <td>сараджишвили</td>\n",
       "    </tr>\n",
       "    <tr>\n",
       "      <th>...</th>\n",
       "      <td>...</td>\n",
       "      <td>...</td>\n",
       "      <td>...</td>\n",
       "    </tr>\n",
       "    <tr>\n",
       "      <th>4995</th>\n",
       "      <td>4995</td>\n",
       "      <td>рамка</td>\n",
       "      <td></td>\n",
       "    </tr>\n",
       "    <tr>\n",
       "      <th>4996</th>\n",
       "      <td>4996</td>\n",
       "      <td>напиток</td>\n",
       "      <td>red bull</td>\n",
       "    </tr>\n",
       "    <tr>\n",
       "      <th>4997</th>\n",
       "      <td>4997</td>\n",
       "      <td>наконечники</td>\n",
       "      <td></td>\n",
       "    </tr>\n",
       "    <tr>\n",
       "      <th>4998</th>\n",
       "      <td>4998</td>\n",
       "      <td>шоколад</td>\n",
       "      <td>риттерспорт</td>\n",
       "    </tr>\n",
       "    <tr>\n",
       "      <th>4999</th>\n",
       "      <td>4999</td>\n",
       "      <td>опора</td>\n",
       "      <td></td>\n",
       "    </tr>\n",
       "  </tbody>\n",
       "</table>\n",
       "<p>5000 rows × 3 columns</p>\n",
       "</div>"
      ],
      "text/plain": [
       "        id         good         brand\n",
       "0        0         клей         ермак\n",
       "1        1         торт      сладушка\n",
       "2        2    смеситель       calorie\n",
       "3        3        лимон           бар\n",
       "4        4       коньяк  сараджишвили\n",
       "...    ...          ...           ...\n",
       "4995  4995        рамка              \n",
       "4996  4996      напиток      red bull\n",
       "4997  4997  наконечники              \n",
       "4998  4998      шоколад   риттерспорт\n",
       "4999  4999        опора              \n",
       "\n",
       "[5000 rows x 3 columns]"
      ]
     },
     "execution_count": 66,
     "metadata": {},
     "output_type": "execute_result"
    }
   ],
   "source": [
    "test_df[['id', 'good', 'brand']]"
   ]
  },
  {
   "cell_type": "code",
   "execution_count": 67,
   "id": "c6d326c9",
   "metadata": {},
   "outputs": [
    {
     "data": {
      "text/html": [
       "<div>\n",
       "<style scoped>\n",
       "    .dataframe tbody tr th:only-of-type {\n",
       "        vertical-align: middle;\n",
       "    }\n",
       "\n",
       "    .dataframe tbody tr th {\n",
       "        vertical-align: top;\n",
       "    }\n",
       "\n",
       "    .dataframe thead th {\n",
       "        text-align: right;\n",
       "    }\n",
       "</style>\n",
       "<table border=\"1\" class=\"dataframe\">\n",
       "  <thead>\n",
       "    <tr style=\"text-align: right;\">\n",
       "      <th></th>\n",
       "      <th>id</th>\n",
       "      <th>good</th>\n",
       "      <th>input_text</th>\n",
       "      <th>good</th>\n",
       "      <th>brand</th>\n",
       "    </tr>\n",
       "  </thead>\n",
       "  <tbody>\n",
       "    <tr>\n",
       "      <th>0</th>\n",
       "      <td>0</td>\n",
       "      <td>клей</td>\n",
       "      <td>469-210 ермак клей универсальный, 15мл, блистер</td>\n",
       "      <td>клей</td>\n",
       "      <td>ермак</td>\n",
       "    </tr>\n",
       "    <tr>\n",
       "      <th>1</th>\n",
       "      <td>1</td>\n",
       "      <td>торт</td>\n",
       "      <td>торт сладушка зимняя вишня 700г</td>\n",
       "      <td>торт</td>\n",
       "      <td>сладушка</td>\n",
       "    </tr>\n",
       "    <tr>\n",
       "      <th>2</th>\n",
       "      <td>2</td>\n",
       "      <td>смеситель</td>\n",
       "      <td>смеситель \"calorie\" 1023 а06 д/кухни</td>\n",
       "      <td>смеситель</td>\n",
       "      <td>calorie</td>\n",
       "    </tr>\n",
       "    <tr>\n",
       "      <th>3</th>\n",
       "      <td>3</td>\n",
       "      <td>лимон</td>\n",
       "      <td>лимон 50гр бар</td>\n",
       "      <td>лимон</td>\n",
       "      <td>бар</td>\n",
       "    </tr>\n",
       "    <tr>\n",
       "      <th>4</th>\n",
       "      <td>4</td>\n",
       "      <td>коньяк</td>\n",
       "      <td>коньяк сараджишвили 5 лет 0,5л грузия</td>\n",
       "      <td>коньяк</td>\n",
       "      <td>сараджишвили</td>\n",
       "    </tr>\n",
       "    <tr>\n",
       "      <th>...</th>\n",
       "      <td>...</td>\n",
       "      <td>...</td>\n",
       "      <td>...</td>\n",
       "      <td>...</td>\n",
       "      <td>...</td>\n",
       "    </tr>\n",
       "    <tr>\n",
       "      <th>4995</th>\n",
       "      <td>4995</td>\n",
       "      <td>рамка</td>\n",
       "      <td>774352 рамка 2п., сл. кость</td>\n",
       "      <td>рамка</td>\n",
       "      <td></td>\n",
       "    </tr>\n",
       "    <tr>\n",
       "      <th>4996</th>\n",
       "      <td>4996</td>\n",
       "      <td>напиток</td>\n",
       "      <td>энерг. напиток red bull 0.25л</td>\n",
       "      <td>напиток</td>\n",
       "      <td>red bull</td>\n",
       "    </tr>\n",
       "    <tr>\n",
       "      <th>4997</th>\n",
       "      <td>4997</td>\n",
       "      <td>наконечники</td>\n",
       "      <td>36/025 наконечники (т. никель) шт</td>\n",
       "      <td>наконечники</td>\n",
       "      <td></td>\n",
       "    </tr>\n",
       "    <tr>\n",
       "      <th>4998</th>\n",
       "      <td>4998</td>\n",
       "      <td>шоколад</td>\n",
       "      <td>шоколад риттерспорт мол.с цел.миндалем 100г</td>\n",
       "      <td>шоколад</td>\n",
       "      <td>риттерспорт</td>\n",
       "    </tr>\n",
       "    <tr>\n",
       "      <th>4999</th>\n",
       "      <td>4999</td>\n",
       "      <td>опора</td>\n",
       "      <td>00264242 опора шаровая l=r</td>\n",
       "      <td>опора</td>\n",
       "      <td></td>\n",
       "    </tr>\n",
       "  </tbody>\n",
       "</table>\n",
       "<p>5000 rows × 5 columns</p>\n",
       "</div>"
      ],
      "text/plain": [
       "        id         good                                       input_text  \\\n",
       "0        0         клей  469-210 ермак клей универсальный, 15мл, блистер   \n",
       "1        1         торт                  торт сладушка зимняя вишня 700г   \n",
       "2        2    смеситель             смеситель \"calorie\" 1023 а06 д/кухни   \n",
       "3        3        лимон                                   лимон 50гр бар   \n",
       "4        4       коньяк            коньяк сараджишвили 5 лет 0,5л грузия   \n",
       "...    ...          ...                                              ...   \n",
       "4995  4995        рамка                      774352 рамка 2п., сл. кость   \n",
       "4996  4996      напиток                    энерг. напиток red bull 0.25л   \n",
       "4997  4997  наконечники                36/025 наконечники (т. никель) шт   \n",
       "4998  4998      шоколад      шоколад риттерспорт мол.с цел.миндалем 100г   \n",
       "4999  4999        опора                       00264242 опора шаровая l=r   \n",
       "\n",
       "             good         brand  \n",
       "0            клей         ермак  \n",
       "1            торт      сладушка  \n",
       "2       смеситель       calorie  \n",
       "3           лимон           бар  \n",
       "4          коньяк  сараджишвили  \n",
       "...           ...           ...  \n",
       "4995        рамка                \n",
       "4996      напиток      red bull  \n",
       "4997  наконечники                \n",
       "4998      шоколад   риттерспорт  \n",
       "4999        опора                \n",
       "\n",
       "[5000 rows x 5 columns]"
      ]
     },
     "execution_count": 67,
     "metadata": {},
     "output_type": "execute_result"
    }
   ],
   "source": [
    "test_df[['id', 'good', 'input_text', 'good', 'brand']]"
   ]
  },
  {
   "cell_type": "code",
   "execution_count": 70,
   "id": "fd21dfea",
   "metadata": {},
   "outputs": [],
   "source": [
    "test_df[['id', 'good', 'brand']].to_csv(f'submissions/submision-rut5-small.csv', index=False)"
   ]
  }
 ],
 "metadata": {
  "kernelspec": {
   "display_name": "py",
   "language": "python",
   "name": "py"
  },
  "language_info": {
   "codemirror_mode": {
    "name": "ipython",
    "version": 3
   },
   "file_extension": ".py",
   "mimetype": "text/x-python",
   "name": "python",
   "nbconvert_exporter": "python",
   "pygments_lexer": "ipython3",
   "version": "3.9.16"
  }
 },
 "nbformat": 4,
 "nbformat_minor": 5
}
