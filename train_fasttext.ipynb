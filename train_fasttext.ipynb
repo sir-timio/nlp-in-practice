{
 "cells": [
  {
   "cell_type": "markdown",
   "id": "ed64b487",
   "metadata": {},
   "source": [
    "# Обучение FastText\n",
    "\n",
    "В бейзлайне предполагается использовать векторы из библиотеки FastText, которые в данном ноутбуке обучатся на домен чеков"
   ]
  },
  {
   "cell_type": "code",
   "execution_count": 1,
   "id": "0025de88",
   "metadata": {
    "ExecuteTime": {
     "end_time": "2023-06-08T10:20:03.393807600Z",
     "start_time": "2023-06-08T10:20:02.596348500Z"
    }
   },
   "outputs": [],
   "source": [
    "from gensim.models.fasttext import FastText\n",
    "import pandas as pd\n",
    "import numpy as np"
   ]
  },
  {
   "cell_type": "markdown",
   "id": "23e7a9f8",
   "metadata": {},
   "source": [
    "Выгрузим все чеки из размеченного датасета для обучения, а также из тестового датасета"
   ]
  },
  {
   "cell_type": "code",
   "execution_count": 2,
   "id": "066858b0",
   "metadata": {
    "ExecuteTime": {
     "end_time": "2023-06-08T10:20:03.493889400Z",
     "start_time": "2023-06-08T10:20:03.396902400Z"
    }
   },
   "outputs": [
    {
     "data": {
      "text/html": [
       "<div>\n",
       "<style scoped>\n",
       "    .dataframe tbody tr th:only-of-type {\n",
       "        vertical-align: middle;\n",
       "    }\n",
       "\n",
       "    .dataframe tbody tr th {\n",
       "        vertical-align: top;\n",
       "    }\n",
       "\n",
       "    .dataframe thead th {\n",
       "        text-align: right;\n",
       "    }\n",
       "</style>\n",
       "<table border=\"1\" class=\"dataframe\">\n",
       "  <thead>\n",
       "    <tr style=\"text-align: right;\">\n",
       "      <th></th>\n",
       "      <th>name</th>\n",
       "      <th>id</th>\n",
       "    </tr>\n",
       "  </thead>\n",
       "  <tbody>\n",
       "    <tr>\n",
       "      <th>0</th>\n",
       "      <td>Petmax Бантик леопард с красн розой 2шт</td>\n",
       "      <td>NaN</td>\n",
       "    </tr>\n",
       "    <tr>\n",
       "      <th>1</th>\n",
       "      <td>87191 Бусы для елки шарики_87191</td>\n",
       "      <td>NaN</td>\n",
       "    </tr>\n",
       "    <tr>\n",
       "      <th>2</th>\n",
       "      <td>Футболка Piazza Italia WR011446881</td>\n",
       "      <td>NaN</td>\n",
       "    </tr>\n",
       "    <tr>\n",
       "      <th>3</th>\n",
       "      <td>7) YI572-03X-ONE ЗАКОЛКА ДЛЯ ВОЛОС ДЛЯ ДЕВОЧКИ</td>\n",
       "      <td>NaN</td>\n",
       "    </tr>\n",
       "    <tr>\n",
       "      <th>4</th>\n",
       "      <td>Одежда (вес) 1500</td>\n",
       "      <td>NaN</td>\n",
       "    </tr>\n",
       "    <tr>\n",
       "      <th>...</th>\n",
       "      <td>...</td>\n",
       "      <td>...</td>\n",
       "    </tr>\n",
       "    <tr>\n",
       "      <th>1029995</th>\n",
       "      <td>F-2296  Спонж д/макияжа фигурный (шт)</td>\n",
       "      <td>NaN</td>\n",
       "    </tr>\n",
       "    <tr>\n",
       "      <th>1029996</th>\n",
       "      <td>4 5702737510597 69.88 Дифф/Arom/1601</td>\n",
       "      <td>NaN</td>\n",
       "    </tr>\n",
       "    <tr>\n",
       "      <th>1029997</th>\n",
       "      <td>Матрас надувной 540*74см Tropical Bird запл.д/...</td>\n",
       "      <td>NaN</td>\n",
       "    </tr>\n",
       "    <tr>\n",
       "      <th>1029998</th>\n",
       "      <td>пододеяльник СТМ Страйп 3-сп, размер: 796х185с...</td>\n",
       "      <td>NaN</td>\n",
       "    </tr>\n",
       "    <tr>\n",
       "      <th>1029999</th>\n",
       "      <td>Пакет ламинированный вертикальный ?Чудесных мг...</td>\n",
       "      <td>NaN</td>\n",
       "    </tr>\n",
       "  </tbody>\n",
       "</table>\n",
       "<p>1030000 rows × 2 columns</p>\n",
       "</div>"
      ],
      "text/plain": [
       "                                                      name  id\n",
       "0                  Petmax Бантик леопард с красн розой 2шт NaN\n",
       "1                         87191 Бусы для елки шарики_87191 NaN\n",
       "2                       Футболка Piazza Italia WR011446881 NaN\n",
       "3           7) YI572-03X-ONE ЗАКОЛКА ДЛЯ ВОЛОС ДЛЯ ДЕВОЧКИ NaN\n",
       "4                                        Одежда (вес) 1500 NaN\n",
       "...                                                    ...  ..\n",
       "1029995              F-2296  Спонж д/макияжа фигурный (шт) NaN\n",
       "1029996               4 5702737510597 69.88 Дифф/Arom/1601 NaN\n",
       "1029997  Матрас надувной 540*74см Tropical Bird запл.д/... NaN\n",
       "1029998  пододеяльник СТМ Страйп 3-сп, размер: 796х185с... NaN\n",
       "1029999  Пакет ламинированный вертикальный ?Чудесных мг... NaN\n",
       "\n",
       "[1030000 rows x 2 columns]"
      ]
     },
     "execution_count": 2,
     "metadata": {},
     "output_type": "execute_result"
    }
   ],
   "source": [
    "train_df = pd.read_csv(\"data/train_supervised_dataset.csv\").fillna(\"\")\n",
    "uns_train_df = pd.read_csv(\"data/train_unsupervised_dataset.csv\").fillna(\"\")\n",
    "test_df = pd.read_csv(\"data/test_dataset.csv\")\n",
    "names = pd.concat((train_df[[\"name\"]], test_df, uns_train_df[[\"name\"]])).reset_index(drop=True)\n",
    "names"
   ]
  },
  {
   "cell_type": "code",
   "execution_count": 3,
   "id": "6a84a741",
   "metadata": {},
   "outputs": [],
   "source": [
    "brands = train_df[['brand']].values"
   ]
  },
  {
   "cell_type": "code",
   "execution_count": 4,
   "id": "c3205a3d",
   "metadata": {
    "scrolled": false
   },
   "outputs": [
    {
     "data": {
      "text/plain": [
       "array(['', '1toy', '21 век', ..., 'ячменное поле', 'яшкино', '№1 school'],\n",
       "      dtype=object)"
      ]
     },
     "execution_count": 4,
     "metadata": {},
     "output_type": "execute_result"
    }
   ],
   "source": [
    "np.unique(brands)"
   ]
  },
  {
   "cell_type": "code",
   "execution_count": 5,
   "id": "ad32086a",
   "metadata": {},
   "outputs": [],
   "source": [
    "from natasha import (\n",
    "    Segmenter,\n",
    "    MorphVocab,\n",
    "    \n",
    "    NewsEmbedding,\n",
    "    NewsMorphTagger,\n",
    "    NewsSyntaxParser,\n",
    "    NewsNERTagger,\n",
    "    \n",
    "    PER,\n",
    "    NamesExtractor,\n",
    "\n",
    "    Doc\n",
    ")"
   ]
  },
  {
   "cell_type": "code",
   "execution_count": 6,
   "id": "b45b8291",
   "metadata": {},
   "outputs": [],
   "source": [
    "segmenter = Segmenter()\n",
    "morph_vocab = MorphVocab()\n",
    "emb = NewsEmbedding()\n",
    "morph_tagger = NewsMorphTagger(emb)\n",
    "syntax_parser = NewsSyntaxParser(emb)\n",
    "\n",
    "names_extractor = NamesExtractor(morph_vocab)"
   ]
  },
  {
   "cell_type": "code",
   "execution_count": 7,
   "id": "e5f3349a",
   "metadata": {},
   "outputs": [],
   "source": [
    "def lemmatize(words):\n",
    "    text = ' '.join(words)\n",
    "    \n",
    "    doc = Doc(text)\n",
    "    doc.segment(segmenter)\n",
    "    doc.tag_morph(morph_tagger)\n",
    "    for token in doc.tokens:\n",
    "        token.lemmatize(morph_vocab)\n",
    "    \n",
    "    words = []\n",
    "    for token in doc.tokens:\n",
    "        words.append(token.lemma)\n",
    "    return words"
   ]
  },
  {
   "cell_type": "code",
   "execution_count": 8,
   "id": "df74a803",
   "metadata": {},
   "outputs": [],
   "source": [
    "import re\n",
    "\n",
    "from cyrtranslit import to_cyrillic\n",
    "\n",
    "def preprocess_text(text):\n",
    "    \n",
    "    text = re.sub('\\d+', '<NUM>', text)  # replace numbers to 0\n",
    "    text = re.sub(r'\\s+', ' ', text)  # remove extra spaces\n",
    "    text = re.sub(r'[^\\w\\s]', ' ', text)  # remove punctuation\n",
    "#     text = text.replace('0', '')\n",
    "    \n",
    "    words = []\n",
    "    for w in text.lower().split():\n",
    "        if bool(re.search('[a-z]', w)) and bool(re.search('[а-я]', w)):\n",
    "            words.append(to_cyrillic(w))\n",
    "        else:\n",
    "            words.append(w)\n",
    "#     words = lemmatize(words)\n",
    "    return words"
   ]
  },
  {
   "cell_type": "code",
   "execution_count": 9,
   "id": "5ea07941",
   "metadata": {},
   "outputs": [],
   "source": [
    "text = names['name'].sample().values[0]"
   ]
  },
  {
   "cell_type": "code",
   "execution_count": 10,
   "id": "2dddc22e",
   "metadata": {
    "ExecuteTime": {
     "end_time": "2023-06-08T10:20:03.638597600Z",
     "start_time": "2023-06-08T10:20:03.495407300Z"
    }
   },
   "outputs": [
    {
     "name": "stdout",
     "output_type": "stream",
     "text": [
      "CPU times: user 8 µs, sys: 20 µs, total: 28 µs\n",
      "Wall time: 56 µs\n"
     ]
    },
    {
     "data": {
      "text/html": [
       "<div>\n",
       "<style scoped>\n",
       "    .dataframe tbody tr th:only-of-type {\n",
       "        vertical-align: middle;\n",
       "    }\n",
       "\n",
       "    .dataframe tbody tr th {\n",
       "        vertical-align: top;\n",
       "    }\n",
       "\n",
       "    .dataframe thead th {\n",
       "        text-align: right;\n",
       "    }\n",
       "</style>\n",
       "<table border=\"1\" class=\"dataframe\">\n",
       "  <thead>\n",
       "    <tr style=\"text-align: right;\">\n",
       "      <th></th>\n",
       "      <th>name</th>\n",
       "      <th>id</th>\n",
       "      <th>tokens</th>\n",
       "    </tr>\n",
       "  </thead>\n",
       "  <tbody>\n",
       "    <tr>\n",
       "      <th>0</th>\n",
       "      <td>Petmax Бантик леопард с красн розой 2шт</td>\n",
       "      <td>NaN</td>\n",
       "      <td>[petmax, бантик, леопард, с, красн, розой, num...</td>\n",
       "    </tr>\n",
       "    <tr>\n",
       "      <th>1</th>\n",
       "      <td>87191 Бусы для елки шарики_87191</td>\n",
       "      <td>NaN</td>\n",
       "      <td>[num, бусы, для, елки, шарики_, num]</td>\n",
       "    </tr>\n",
       "    <tr>\n",
       "      <th>2</th>\n",
       "      <td>Футболка Piazza Italia WR011446881</td>\n",
       "      <td>NaN</td>\n",
       "      <td>[футболка, piazza, italia, wr, num]</td>\n",
       "    </tr>\n",
       "    <tr>\n",
       "      <th>3</th>\n",
       "      <td>7) YI572-03X-ONE ЗАКОЛКА ДЛЯ ВОЛОС ДЛЯ ДЕВОЧКИ</td>\n",
       "      <td>NaN</td>\n",
       "      <td>[num, yi, num, num, x, one, заколка, для, воло...</td>\n",
       "    </tr>\n",
       "    <tr>\n",
       "      <th>4</th>\n",
       "      <td>Одежда (вес) 1500</td>\n",
       "      <td>NaN</td>\n",
       "      <td>[одежда, вес, num]</td>\n",
       "    </tr>\n",
       "    <tr>\n",
       "      <th>...</th>\n",
       "      <td>...</td>\n",
       "      <td>...</td>\n",
       "      <td>...</td>\n",
       "    </tr>\n",
       "    <tr>\n",
       "      <th>1029995</th>\n",
       "      <td>F-2296  Спонж д/макияжа фигурный (шт)</td>\n",
       "      <td>NaN</td>\n",
       "      <td>[f, num, спонж, д, макияжа, фигурный, шт]</td>\n",
       "    </tr>\n",
       "    <tr>\n",
       "      <th>1029996</th>\n",
       "      <td>4 5702737510597 69.88 Дифф/Arom/1601</td>\n",
       "      <td>NaN</td>\n",
       "      <td>[num, num, num, num, дифф, arom, num]</td>\n",
       "    </tr>\n",
       "    <tr>\n",
       "      <th>1029997</th>\n",
       "      <td>Матрас надувной 540*74см Tropical Bird запл.д/...</td>\n",
       "      <td>NaN</td>\n",
       "      <td>[матрас, надувной, num, num, см, tropical, bir...</td>\n",
       "    </tr>\n",
       "    <tr>\n",
       "      <th>1029998</th>\n",
       "      <td>пододеяльник СТМ Страйп 3-сп, размер: 796х185с...</td>\n",
       "      <td>NaN</td>\n",
       "      <td>[пододеяльник, стм, страйп, num, сп, размер, n...</td>\n",
       "    </tr>\n",
       "    <tr>\n",
       "      <th>1029999</th>\n",
       "      <td>Пакет ламинированный вертикальный ?Чудесных мг...</td>\n",
       "      <td>NaN</td>\n",
       "      <td>[пакет, ламинированный, вертикальный, чудесных...</td>\n",
       "    </tr>\n",
       "  </tbody>\n",
       "</table>\n",
       "<p>1030000 rows × 3 columns</p>\n",
       "</div>"
      ],
      "text/plain": [
       "                                                      name  id  \\\n",
       "0                  Petmax Бантик леопард с красн розой 2шт NaN   \n",
       "1                         87191 Бусы для елки шарики_87191 NaN   \n",
       "2                       Футболка Piazza Italia WR011446881 NaN   \n",
       "3           7) YI572-03X-ONE ЗАКОЛКА ДЛЯ ВОЛОС ДЛЯ ДЕВОЧКИ NaN   \n",
       "4                                        Одежда (вес) 1500 NaN   \n",
       "...                                                    ...  ..   \n",
       "1029995              F-2296  Спонж д/макияжа фигурный (шт) NaN   \n",
       "1029996               4 5702737510597 69.88 Дифф/Arom/1601 NaN   \n",
       "1029997  Матрас надувной 540*74см Tropical Bird запл.д/... NaN   \n",
       "1029998  пододеяльник СТМ Страйп 3-сп, размер: 796х185с... NaN   \n",
       "1029999  Пакет ламинированный вертикальный ?Чудесных мг... NaN   \n",
       "\n",
       "                                                    tokens  \n",
       "0        [petmax, бантик, леопард, с, красн, розой, num...  \n",
       "1                     [num, бусы, для, елки, шарики_, num]  \n",
       "2                      [футболка, piazza, italia, wr, num]  \n",
       "3        [num, yi, num, num, x, one, заколка, для, воло...  \n",
       "4                                       [одежда, вес, num]  \n",
       "...                                                    ...  \n",
       "1029995          [f, num, спонж, д, макияжа, фигурный, шт]  \n",
       "1029996              [num, num, num, num, дифф, arom, num]  \n",
       "1029997  [матрас, надувной, num, num, см, tropical, bir...  \n",
       "1029998  [пододеяльник, стм, страйп, num, сп, размер, n...  \n",
       "1029999  [пакет, ламинированный, вертикальный, чудесных...  \n",
       "\n",
       "[1030000 rows x 3 columns]"
      ]
     },
     "execution_count": 10,
     "metadata": {},
     "output_type": "execute_result"
    }
   ],
   "source": [
    "%%time\n",
    "names[\"tokens\"] = names[\"name\"].apply(preprocess_text)\n",
    "names"
   ]
  },
  {
   "cell_type": "code",
   "execution_count": 11,
   "id": "230f8c69",
   "metadata": {},
   "outputs": [],
   "source": [
    "# names.to_csv('data/natasha_preprocc_names.csv', index=False)"
   ]
  },
  {
   "cell_type": "code",
   "execution_count": 11,
   "id": "cd1db0b8",
   "metadata": {},
   "outputs": [
    {
     "name": "stdout",
     "output_type": "stream",
     "text": [
      "['Petmax Бантик леопард с красн розой 2шт'\n",
      " '87191 Бусы для елки шарики_87191' 'Футболка Piazza Italia WR011446881'\n",
      " ... 'Матрас надувной 540*74см Tropical Bird запл.д/ремонта 5 дизайна'\n",
      " 'пододеяльник СТМ Страйп 3-сп, размер: 796х185см, страйп-сатин, 736% хлопок, 158гр/м1, сиреневый'\n",
      " 'Пакет ламинированный вертикальный ?Чудесных мгновений!?, 52 ? 44']\n"
     ]
    }
   ],
   "source": [
    "print(names['name'].values)"
   ]
  },
  {
   "cell_type": "code",
   "execution_count": 12,
   "id": "32ba0d72",
   "metadata": {},
   "outputs": [
    {
     "data": {
      "text/html": [
       "<div>\n",
       "<style scoped>\n",
       "    .dataframe tbody tr th:only-of-type {\n",
       "        vertical-align: middle;\n",
       "    }\n",
       "\n",
       "    .dataframe tbody tr th {\n",
       "        vertical-align: top;\n",
       "    }\n",
       "\n",
       "    .dataframe thead th {\n",
       "        text-align: right;\n",
       "    }\n",
       "</style>\n",
       "<table border=\"1\" class=\"dataframe\">\n",
       "  <thead>\n",
       "    <tr style=\"text-align: right;\">\n",
       "      <th></th>\n",
       "      <th>name</th>\n",
       "      <th>id</th>\n",
       "      <th>tokens</th>\n",
       "    </tr>\n",
       "  </thead>\n",
       "  <tbody>\n",
       "    <tr>\n",
       "      <th>0</th>\n",
       "      <td>Petmax Бантик леопард с красн розой 2шт</td>\n",
       "      <td>NaN</td>\n",
       "      <td>[petmax, бантик, леопард, с, красн, розой, num...</td>\n",
       "    </tr>\n",
       "    <tr>\n",
       "      <th>1</th>\n",
       "      <td>87191 Бусы для елки шарики_87191</td>\n",
       "      <td>NaN</td>\n",
       "      <td>[num, бусы, для, елки, шарики_, num]</td>\n",
       "    </tr>\n",
       "    <tr>\n",
       "      <th>2</th>\n",
       "      <td>Футболка Piazza Italia WR011446881</td>\n",
       "      <td>NaN</td>\n",
       "      <td>[футболка, piazza, italia, wr, num]</td>\n",
       "    </tr>\n",
       "    <tr>\n",
       "      <th>3</th>\n",
       "      <td>7) YI572-03X-ONE ЗАКОЛКА ДЛЯ ВОЛОС ДЛЯ ДЕВОЧКИ</td>\n",
       "      <td>NaN</td>\n",
       "      <td>[num, yi, num, num, x, one, заколка, для, воло...</td>\n",
       "    </tr>\n",
       "    <tr>\n",
       "      <th>4</th>\n",
       "      <td>Одежда (вес) 1500</td>\n",
       "      <td>NaN</td>\n",
       "      <td>[одежда, вес, num]</td>\n",
       "    </tr>\n",
       "    <tr>\n",
       "      <th>...</th>\n",
       "      <td>...</td>\n",
       "      <td>...</td>\n",
       "      <td>...</td>\n",
       "    </tr>\n",
       "    <tr>\n",
       "      <th>1029995</th>\n",
       "      <td>F-2296  Спонж д/макияжа фигурный (шт)</td>\n",
       "      <td>NaN</td>\n",
       "      <td>[f, num, спонж, д, макияжа, фигурный, шт]</td>\n",
       "    </tr>\n",
       "    <tr>\n",
       "      <th>1029996</th>\n",
       "      <td>4 5702737510597 69.88 Дифф/Arom/1601</td>\n",
       "      <td>NaN</td>\n",
       "      <td>[num, num, num, num, дифф, arom, num]</td>\n",
       "    </tr>\n",
       "    <tr>\n",
       "      <th>1029997</th>\n",
       "      <td>Матрас надувной 540*74см Tropical Bird запл.д/...</td>\n",
       "      <td>NaN</td>\n",
       "      <td>[матрас, надувной, num, num, см, tropical, bir...</td>\n",
       "    </tr>\n",
       "    <tr>\n",
       "      <th>1029998</th>\n",
       "      <td>пододеяльник СТМ Страйп 3-сп, размер: 796х185с...</td>\n",
       "      <td>NaN</td>\n",
       "      <td>[пододеяльник, стм, страйп, num, сп, размер, n...</td>\n",
       "    </tr>\n",
       "    <tr>\n",
       "      <th>1029999</th>\n",
       "      <td>Пакет ламинированный вертикальный ?Чудесных мг...</td>\n",
       "      <td>NaN</td>\n",
       "      <td>[пакет, ламинированный, вертикальный, чудесных...</td>\n",
       "    </tr>\n",
       "  </tbody>\n",
       "</table>\n",
       "<p>1030000 rows × 3 columns</p>\n",
       "</div>"
      ],
      "text/plain": [
       "                                                      name  id  \\\n",
       "0                  Petmax Бантик леопард с красн розой 2шт NaN   \n",
       "1                         87191 Бусы для елки шарики_87191 NaN   \n",
       "2                       Футболка Piazza Italia WR011446881 NaN   \n",
       "3           7) YI572-03X-ONE ЗАКОЛКА ДЛЯ ВОЛОС ДЛЯ ДЕВОЧКИ NaN   \n",
       "4                                        Одежда (вес) 1500 NaN   \n",
       "...                                                    ...  ..   \n",
       "1029995              F-2296  Спонж д/макияжа фигурный (шт) NaN   \n",
       "1029996               4 5702737510597 69.88 Дифф/Arom/1601 NaN   \n",
       "1029997  Матрас надувной 540*74см Tropical Bird запл.д/... NaN   \n",
       "1029998  пододеяльник СТМ Страйп 3-сп, размер: 796х185с... NaN   \n",
       "1029999  Пакет ламинированный вертикальный ?Чудесных мг... NaN   \n",
       "\n",
       "                                                    tokens  \n",
       "0        [petmax, бантик, леопард, с, красн, розой, num...  \n",
       "1                     [num, бусы, для, елки, шарики_, num]  \n",
       "2                      [футболка, piazza, italia, wr, num]  \n",
       "3        [num, yi, num, num, x, one, заколка, для, воло...  \n",
       "4                                       [одежда, вес, num]  \n",
       "...                                                    ...  \n",
       "1029995          [f, num, спонж, д, макияжа, фигурный, шт]  \n",
       "1029996              [num, num, num, num, дифф, arom, num]  \n",
       "1029997  [матрас, надувной, num, num, см, tropical, bir...  \n",
       "1029998  [пододеяльник, стм, страйп, num, сп, размер, n...  \n",
       "1029999  [пакет, ламинированный, вертикальный, чудесных...  \n",
       "\n",
       "[1030000 rows x 3 columns]"
      ]
     },
     "execution_count": 12,
     "metadata": {},
     "output_type": "execute_result"
    }
   ],
   "source": [
    "names"
   ]
  },
  {
   "cell_type": "code",
   "execution_count": 13,
   "id": "034fb1c5",
   "metadata": {},
   "outputs": [],
   "source": [
    "class SentenceGenerator(object):\n",
    "    def __init__(self, dataframe):\n",
    "        self.dataframe = dataframe\n",
    "\n",
    "    def __iter__(self):\n",
    "        for index, row in self.dataframe.iterrows():\n",
    "            yield row['tokens']\n",
    "\n",
    "sentences = SentenceGenerator(names)"
   ]
  },
  {
   "cell_type": "markdown",
   "id": "6036dc55",
   "metadata": {},
   "source": [
    "Обученные векторы положим в файл `fasttext.model` для использования в моделях"
   ]
  },
  {
   "cell_type": "code",
   "execution_count": 15,
   "id": "bca4fbe1",
   "metadata": {
    "ExecuteTime": {
     "end_time": "2023-06-08T10:20:11.978458900Z",
     "start_time": "2023-06-08T10:20:03.668319100Z"
    }
   },
   "outputs": [
    {
     "name": "stdout",
     "output_type": "stream",
     "text": [
      "CPU times: user 3min 56s, sys: 26.7 s, total: 4min 22s\n",
      "Wall time: 1min 50s\n"
     ]
    }
   ],
   "source": [
    "%%time\n",
    "FastText(names[\"tokens\"], vector_size=128, window=5, min_count=5).save(\"fasttext_models/fasttext_128.model\")"
   ]
  },
  {
   "cell_type": "code",
   "execution_count": null,
   "id": "1f0a3c92",
   "metadata": {},
   "outputs": [],
   "source": []
  }
 ],
 "metadata": {
  "kernelspec": {
   "display_name": "py",
   "language": "python",
   "name": "py"
  },
  "language_info": {
   "codemirror_mode": {
    "name": "ipython",
    "version": 3
   },
   "file_extension": ".py",
   "mimetype": "text/x-python",
   "name": "python",
   "nbconvert_exporter": "python",
   "pygments_lexer": "ipython3",
   "version": "3.9.16"
  }
 },
 "nbformat": 4,
 "nbformat_minor": 5
}
