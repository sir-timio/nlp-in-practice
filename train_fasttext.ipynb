{
 "cells": [
  {
   "cell_type": "markdown",
   "id": "ed64b487",
   "metadata": {},
   "source": [
    "# Обучение FastText\n",
    "\n",
    "В бейзлайне предполагается использовать векторы из библиотеки FastText, которые в данном ноутбуке обучатся на домен чеков"
   ]
  },
  {
   "cell_type": "code",
   "execution_count": 2,
   "id": "0025de88",
   "metadata": {
    "ExecuteTime": {
     "end_time": "2023-06-08T10:20:03.393807600Z",
     "start_time": "2023-06-08T10:20:02.596348500Z"
    }
   },
   "outputs": [],
   "source": [
    "from gensim.models.fasttext import FastText\n",
    "import pandas as pd\n",
    "import numpy as np"
   ]
  },
  {
   "cell_type": "markdown",
   "id": "23e7a9f8",
   "metadata": {},
   "source": [
    "Выгрузим все чеки из размеченного датасета для обучения, а также из тестового датасета"
   ]
  },
  {
   "cell_type": "code",
   "execution_count": 3,
   "id": "066858b0",
   "metadata": {
    "ExecuteTime": {
     "end_time": "2023-06-08T10:20:03.493889400Z",
     "start_time": "2023-06-08T10:20:03.396902400Z"
    }
   },
   "outputs": [
    {
     "data": {
      "text/html": [
       "<div>\n",
       "<style scoped>\n",
       "    .dataframe tbody tr th:only-of-type {\n",
       "        vertical-align: middle;\n",
       "    }\n",
       "\n",
       "    .dataframe tbody tr th {\n",
       "        vertical-align: top;\n",
       "    }\n",
       "\n",
       "    .dataframe thead th {\n",
       "        text-align: right;\n",
       "    }\n",
       "</style>\n",
       "<table border=\"1\" class=\"dataframe\">\n",
       "  <thead>\n",
       "    <tr style=\"text-align: right;\">\n",
       "      <th></th>\n",
       "      <th>name</th>\n",
       "      <th>id</th>\n",
       "    </tr>\n",
       "  </thead>\n",
       "  <tbody>\n",
       "    <tr>\n",
       "      <th>0</th>\n",
       "      <td>Petmax Бантик леопард с красн розой 2шт</td>\n",
       "      <td>NaN</td>\n",
       "    </tr>\n",
       "    <tr>\n",
       "      <th>1</th>\n",
       "      <td>87191 Бусы для елки шарики_87191</td>\n",
       "      <td>NaN</td>\n",
       "    </tr>\n",
       "    <tr>\n",
       "      <th>2</th>\n",
       "      <td>Футболка Piazza Italia WR011446881</td>\n",
       "      <td>NaN</td>\n",
       "    </tr>\n",
       "    <tr>\n",
       "      <th>3</th>\n",
       "      <td>7) YI572-03X-ONE ЗАКОЛКА ДЛЯ ВОЛОС ДЛЯ ДЕВОЧКИ</td>\n",
       "      <td>NaN</td>\n",
       "    </tr>\n",
       "    <tr>\n",
       "      <th>4</th>\n",
       "      <td>Одежда (вес) 1500</td>\n",
       "      <td>NaN</td>\n",
       "    </tr>\n",
       "    <tr>\n",
       "      <th>...</th>\n",
       "      <td>...</td>\n",
       "      <td>...</td>\n",
       "    </tr>\n",
       "    <tr>\n",
       "      <th>1029995</th>\n",
       "      <td>F-2296  Спонж д/макияжа фигурный (шт)</td>\n",
       "      <td>NaN</td>\n",
       "    </tr>\n",
       "    <tr>\n",
       "      <th>1029996</th>\n",
       "      <td>4 5702737510597 69.88 Дифф/Arom/1601</td>\n",
       "      <td>NaN</td>\n",
       "    </tr>\n",
       "    <tr>\n",
       "      <th>1029997</th>\n",
       "      <td>Матрас надувной 540*74см Tropical Bird запл.д/...</td>\n",
       "      <td>NaN</td>\n",
       "    </tr>\n",
       "    <tr>\n",
       "      <th>1029998</th>\n",
       "      <td>пододеяльник СТМ Страйп 3-сп, размер: 796х185с...</td>\n",
       "      <td>NaN</td>\n",
       "    </tr>\n",
       "    <tr>\n",
       "      <th>1029999</th>\n",
       "      <td>Пакет ламинированный вертикальный ?Чудесных мг...</td>\n",
       "      <td>NaN</td>\n",
       "    </tr>\n",
       "  </tbody>\n",
       "</table>\n",
       "<p>1030000 rows × 2 columns</p>\n",
       "</div>"
      ],
      "text/plain": [
       "                                                      name  id\n",
       "0                  Petmax Бантик леопард с красн розой 2шт NaN\n",
       "1                         87191 Бусы для елки шарики_87191 NaN\n",
       "2                       Футболка Piazza Italia WR011446881 NaN\n",
       "3           7) YI572-03X-ONE ЗАКОЛКА ДЛЯ ВОЛОС ДЛЯ ДЕВОЧКИ NaN\n",
       "4                                        Одежда (вес) 1500 NaN\n",
       "...                                                    ...  ..\n",
       "1029995              F-2296  Спонж д/макияжа фигурный (шт) NaN\n",
       "1029996               4 5702737510597 69.88 Дифф/Arom/1601 NaN\n",
       "1029997  Матрас надувной 540*74см Tropical Bird запл.д/... NaN\n",
       "1029998  пододеяльник СТМ Страйп 3-сп, размер: 796х185с... NaN\n",
       "1029999  Пакет ламинированный вертикальный ?Чудесных мг... NaN\n",
       "\n",
       "[1030000 rows x 2 columns]"
      ]
     },
     "execution_count": 3,
     "metadata": {},
     "output_type": "execute_result"
    }
   ],
   "source": [
    "train_df = pd.read_csv(\"data/train_supervised_dataset.csv\").fillna(\"\")\n",
    "uns_train_df = pd.read_csv(\"data/train_unsupervised_dataset.csv\").fillna(\"\")\n",
    "test_df = pd.read_csv(\"data/test_dataset.csv\")\n",
    "names = pd.concat((train_df[[\"name\"]], test_df, uns_train_df[[\"name\"]])).reset_index(drop=True)\n",
    "names"
   ]
  },
  {
   "cell_type": "code",
   "execution_count": 4,
   "id": "09f1c8f5",
   "metadata": {},
   "outputs": [
    {
     "data": {
      "text/plain": [
       "               0.03276\n",
       "брюки          0.01356\n",
       "пиво           0.01308\n",
       "вода           0.01232\n",
       "печенье        0.01164\n",
       "                ...   \n",
       "молитвослов    0.00004\n",
       "медведь        0.00004\n",
       "супница        0.00004\n",
       "овчина         0.00004\n",
       "поддон         0.00004\n",
       "Name: good, Length: 2820, dtype: float64"
      ]
     },
     "execution_count": 4,
     "metadata": {},
     "output_type": "execute_result"
    }
   ],
   "source": [
    "train_df['good'].value_counts(1)"
   ]
  },
  {
   "cell_type": "code",
   "execution_count": 5,
   "id": "7d58ab08",
   "metadata": {},
   "outputs": [
    {
     "data": {
      "text/plain": [
       "                        0.34020\n",
       "яшкино                  0.00480\n",
       "агуша                   0.00364\n",
       "коровка из кореновки    0.00272\n",
       "махеевъ                 0.00252\n",
       "                         ...   \n",
       "пласти лаб              0.00004\n",
       "феррогематоген          0.00004\n",
       "cbr                     0.00004\n",
       "helcom                  0.00004\n",
       "smail                   0.00004\n",
       "Name: brand, Length: 6976, dtype: float64"
      ]
     },
     "execution_count": 5,
     "metadata": {},
     "output_type": "execute_result"
    }
   ],
   "source": [
    "train_df['brand'].value_counts(1)"
   ]
  },
  {
   "cell_type": "code",
   "execution_count": 257,
   "id": "df74a803",
   "metadata": {},
   "outputs": [],
   "source": [
    "import re\n",
    "\n",
    "from cyrtranslit import to_cyrillic, to_latin\n",
    "lat_to_cyr = str.maketrans(\"aekmhopctyx\", \"аекмнорстух\")\n",
    "cyr_to_lat = str.maketrans(\"аекмнорстух\", \"aekmhopctyx\")\n",
    "stop_words = set(['г', 'кг', 'шт', 'мл', 'л', 'литр', 'мг', 'гр', 'км', 'мм', 'mm', 'уп'])\n",
    "\n",
    "def replace_camel_case(s):\n",
    "    matches = len(re.findall(r'(?<=[a-zа-я])([A-ZА-Я])', s))\n",
    "    if matches > 2:\n",
    "        return re.sub(r'(?<=[a-zа-я])([A-ZА-Я])', r' \\1', s)\n",
    "    else:\n",
    "        return s\n",
    "    \n",
    "def split_on_language_change(s):\n",
    "    s = re.sub(r'(?<=[a-zа-я])(?=[A-ZА-Я0-9])', r' ', s)\n",
    "    s = re.sub(r'(?<=[A-ZА-Я0-9])(?=[a-zа-я])', r' ', s)\n",
    "    return s\n",
    "\n",
    "\n",
    "def insert_space_after_one(s):\n",
    "    return re.sub(r'(1)(?=[A-Za-zА-Яа-я])', r'\\1 ', s)\n",
    "\n",
    "def replace_zero(s):\n",
    "    s = re.sub(r'(?<=[A-Za-z])0(?=[A-Za-z])', 'o', s)\n",
    "    s = re.sub(r'(?<=[А-Яа-я])0(?=[А-Яа-я])', 'о', s)\n",
    "    return s\n",
    "\n",
    "def preprocess_text(text):\n",
    "    \n",
    "    text = replace_zero(text)\n",
    "    \n",
    "    text = re.sub('\\d+', '1', text)  # replace numbers to 1\n",
    "    text = replace_camel_case(text)\n",
    "    text = re.sub('д/', 'для ', text)\n",
    "    text = insert_space_after_one(text)\n",
    "    text = re.sub(r'\\s+', ' ', text)  # remove extra spaces\n",
    "    text = re.sub(r'[^\\w\\s]', ' ', text)  # remove punctuation\n",
    "    words = []\n",
    "    for w in text.lower().split():\n",
    "        if len(w) < 2:\n",
    "            continue\n",
    "        \n",
    "        num_eng_chars = len(re.findall(r'[a-z]', w))\n",
    "        num_ru_chars = len(re.findall(r'[а-я]', w))\n",
    "        if num_eng_chars and num_ru_chars:\n",
    "            if num_eng_chars > num_ru_chars:\n",
    "                w = w.translate(cyr_to_lat)\n",
    "            else:\n",
    "                w = w.translate(lat_to_cyr)\n",
    "        \n",
    "        if w in stop_words:\n",
    "            continue\n",
    "        \n",
    "        # если нет транзиторов\n",
    "        w = split_on_language_change(w)\n",
    "        if ' ' in w:\n",
    "            words.extend(w.split())\n",
    "        else:\n",
    "            words.append(w)\n",
    "\n",
    "        \n",
    "    return words"
   ]
  },
  {
   "cell_type": "code",
   "execution_count": 258,
   "id": "5ea07941",
   "metadata": {},
   "outputs": [
    {
     "data": {
      "text/plain": [
       "'1) 001183|Диск сцепления 2123 VALEO 809726'"
      ]
     },
     "execution_count": 258,
     "metadata": {},
     "output_type": "execute_result"
    }
   ],
   "source": [
    "text = train_df['name'].sample().values[0]\n",
    "text"
   ]
  },
  {
   "cell_type": "code",
   "execution_count": 259,
   "id": "6601e42f",
   "metadata": {},
   "outputs": [
    {
     "data": {
      "text/html": [
       "<div>\n",
       "<style scoped>\n",
       "    .dataframe tbody tr th:only-of-type {\n",
       "        vertical-align: middle;\n",
       "    }\n",
       "\n",
       "    .dataframe tbody tr th {\n",
       "        vertical-align: top;\n",
       "    }\n",
       "\n",
       "    .dataframe thead th {\n",
       "        text-align: right;\n",
       "    }\n",
       "</style>\n",
       "<table border=\"1\" class=\"dataframe\">\n",
       "  <thead>\n",
       "    <tr style=\"text-align: right;\">\n",
       "      <th></th>\n",
       "      <th>id</th>\n",
       "      <th>name</th>\n",
       "      <th>good</th>\n",
       "      <th>brand</th>\n",
       "    </tr>\n",
       "  </thead>\n",
       "  <tbody>\n",
       "    <tr>\n",
       "      <th>8800</th>\n",
       "      <td>8800</td>\n",
       "      <td>1) 001183|Диск сцепления 2123 VALEO 809726</td>\n",
       "      <td>диск</td>\n",
       "      <td>valeo</td>\n",
       "    </tr>\n",
       "  </tbody>\n",
       "</table>\n",
       "</div>"
      ],
      "text/plain": [
       "        id                                        name  good  brand\n",
       "8800  8800  1) 001183|Диск сцепления 2123 VALEO 809726  диск  valeo"
      ]
     },
     "execution_count": 259,
     "metadata": {},
     "output_type": "execute_result"
    }
   ],
   "source": [
    "train_df[train_df['name'] == text]"
   ]
  },
  {
   "cell_type": "code",
   "execution_count": 194,
   "id": "757c4323",
   "metadata": {},
   "outputs": [
    {
     "name": "stdout",
     "output_type": "stream",
     "text": [
      "31.1 µs ± 1.59 µs per loop (mean ± std. dev. of 7 runs, 10,000 loops each)\n"
     ]
    }
   ],
   "source": [
    "%%timeit\n",
    "preprocess_text(text)"
   ]
  },
  {
   "cell_type": "code",
   "execution_count": 260,
   "id": "5b4e12cb",
   "metadata": {},
   "outputs": [
    {
     "data": {
      "text/plain": [
       "['диск', 'сцепления', 'valeo']"
      ]
     },
     "execution_count": 260,
     "metadata": {},
     "output_type": "execute_result"
    }
   ],
   "source": [
    "preprocess_text(text)"
   ]
  },
  {
   "cell_type": "code",
   "execution_count": 261,
   "id": "2dddc22e",
   "metadata": {
    "ExecuteTime": {
     "end_time": "2023-06-08T10:20:03.638597600Z",
     "start_time": "2023-06-08T10:20:03.495407300Z"
    }
   },
   "outputs": [
    {
     "name": "stdout",
     "output_type": "stream",
     "text": [
      "CPU times: user 48.6 s, sys: 765 ms, total: 49.4 s\n",
      "Wall time: 49.4 s\n"
     ]
    },
    {
     "data": {
      "text/html": [
       "<div>\n",
       "<style scoped>\n",
       "    .dataframe tbody tr th:only-of-type {\n",
       "        vertical-align: middle;\n",
       "    }\n",
       "\n",
       "    .dataframe tbody tr th {\n",
       "        vertical-align: top;\n",
       "    }\n",
       "\n",
       "    .dataframe thead th {\n",
       "        text-align: right;\n",
       "    }\n",
       "</style>\n",
       "<table border=\"1\" class=\"dataframe\">\n",
       "  <thead>\n",
       "    <tr style=\"text-align: right;\">\n",
       "      <th></th>\n",
       "      <th>name</th>\n",
       "      <th>id</th>\n",
       "      <th>tokens</th>\n",
       "    </tr>\n",
       "  </thead>\n",
       "  <tbody>\n",
       "    <tr>\n",
       "      <th>0</th>\n",
       "      <td>Petmax Бантик леопард с красн розой 2шт</td>\n",
       "      <td>NaN</td>\n",
       "      <td>[petmax, бантик, леопард, красн, розой]</td>\n",
       "    </tr>\n",
       "    <tr>\n",
       "      <th>1</th>\n",
       "      <td>87191 Бусы для елки шарики_87191</td>\n",
       "      <td>NaN</td>\n",
       "      <td>[бусы, для, елки, шарики_1]</td>\n",
       "    </tr>\n",
       "    <tr>\n",
       "      <th>2</th>\n",
       "      <td>Футболка Piazza Italia WR011446881</td>\n",
       "      <td>NaN</td>\n",
       "      <td>[футболка, piazza, italia, wr, 1]</td>\n",
       "    </tr>\n",
       "    <tr>\n",
       "      <th>3</th>\n",
       "      <td>7) YI572-03X-ONE ЗАКОЛКА ДЛЯ ВОЛОС ДЛЯ ДЕВОЧКИ</td>\n",
       "      <td>NaN</td>\n",
       "      <td>[yi, 1, one, заколка, для, волос, для, девочки]</td>\n",
       "    </tr>\n",
       "    <tr>\n",
       "      <th>4</th>\n",
       "      <td>Одежда (вес) 1500</td>\n",
       "      <td>NaN</td>\n",
       "      <td>[одежда, вес]</td>\n",
       "    </tr>\n",
       "    <tr>\n",
       "      <th>...</th>\n",
       "      <td>...</td>\n",
       "      <td>...</td>\n",
       "      <td>...</td>\n",
       "    </tr>\n",
       "    <tr>\n",
       "      <th>1029995</th>\n",
       "      <td>F-2296  Спонж д/макияжа фигурный (шт)</td>\n",
       "      <td>NaN</td>\n",
       "      <td>[спонж, для, макияжа, фигурный]</td>\n",
       "    </tr>\n",
       "    <tr>\n",
       "      <th>1029996</th>\n",
       "      <td>4 5702737510597 69.88 Дифф/Arom/1601</td>\n",
       "      <td>NaN</td>\n",
       "      <td>[дифф, arom]</td>\n",
       "    </tr>\n",
       "    <tr>\n",
       "      <th>1029997</th>\n",
       "      <td>Матрас надувной 540*74см Tropical Bird запл.д/...</td>\n",
       "      <td>NaN</td>\n",
       "      <td>[матрас, надувной, см, tropical, bird, запл, д...</td>\n",
       "    </tr>\n",
       "    <tr>\n",
       "      <th>1029998</th>\n",
       "      <td>пододеяльник СТМ Страйп 3-сп, размер: 796х185с...</td>\n",
       "      <td>NaN</td>\n",
       "      <td>[пододеяльник, стм, страйп, сп, размер, х, 1, ...</td>\n",
       "    </tr>\n",
       "    <tr>\n",
       "      <th>1029999</th>\n",
       "      <td>Пакет ламинированный вертикальный ?Чудесных мг...</td>\n",
       "      <td>NaN</td>\n",
       "      <td>[пакет, ламинированный, вертикальный, чудесных...</td>\n",
       "    </tr>\n",
       "  </tbody>\n",
       "</table>\n",
       "<p>1030000 rows × 3 columns</p>\n",
       "</div>"
      ],
      "text/plain": [
       "                                                      name  id  \\\n",
       "0                  Petmax Бантик леопард с красн розой 2шт NaN   \n",
       "1                         87191 Бусы для елки шарики_87191 NaN   \n",
       "2                       Футболка Piazza Italia WR011446881 NaN   \n",
       "3           7) YI572-03X-ONE ЗАКОЛКА ДЛЯ ВОЛОС ДЛЯ ДЕВОЧКИ NaN   \n",
       "4                                        Одежда (вес) 1500 NaN   \n",
       "...                                                    ...  ..   \n",
       "1029995              F-2296  Спонж д/макияжа фигурный (шт) NaN   \n",
       "1029996               4 5702737510597 69.88 Дифф/Arom/1601 NaN   \n",
       "1029997  Матрас надувной 540*74см Tropical Bird запл.д/... NaN   \n",
       "1029998  пододеяльник СТМ Страйп 3-сп, размер: 796х185с... NaN   \n",
       "1029999  Пакет ламинированный вертикальный ?Чудесных мг... NaN   \n",
       "\n",
       "                                                    tokens  \n",
       "0                  [petmax, бантик, леопард, красн, розой]  \n",
       "1                              [бусы, для, елки, шарики_1]  \n",
       "2                        [футболка, piazza, italia, wr, 1]  \n",
       "3          [yi, 1, one, заколка, для, волос, для, девочки]  \n",
       "4                                            [одежда, вес]  \n",
       "...                                                    ...  \n",
       "1029995                    [спонж, для, макияжа, фигурный]  \n",
       "1029996                                       [дифф, arom]  \n",
       "1029997  [матрас, надувной, см, tropical, bird, запл, д...  \n",
       "1029998  [пододеяльник, стм, страйп, сп, размер, х, 1, ...  \n",
       "1029999  [пакет, ламинированный, вертикальный, чудесных...  \n",
       "\n",
       "[1030000 rows x 3 columns]"
      ]
     },
     "execution_count": 261,
     "metadata": {},
     "output_type": "execute_result"
    }
   ],
   "source": [
    "%%time\n",
    "names[\"tokens\"] = names[\"name\"].apply(preprocess_text)\n",
    "names"
   ]
  },
  {
   "cell_type": "code",
   "execution_count": 266,
   "id": "c90e6840",
   "metadata": {
    "collapsed": true
   },
   "outputs": [
    {
     "data": {
      "text/plain": [
       "count    1.030000e+06\n",
       "mean     5.061572e+00\n",
       "std      2.434675e+00\n",
       "min      0.000000e+00\n",
       "25%      3.000000e+00\n",
       "50%      5.000000e+00\n",
       "75%      6.000000e+00\n",
       "max      4.400000e+01\n",
       "Name: tokens, dtype: float64"
      ]
     },
     "execution_count": 266,
     "metadata": {},
     "output_type": "execute_result"
    }
   ],
   "source": [
    "names.tokens.apply(len).describescribe()"
   ]
  },
  {
   "cell_type": "code",
   "execution_count": 267,
   "id": "8dc216fd",
   "metadata": {},
   "outputs": [
    {
     "data": {
      "text/html": [
       "<div>\n",
       "<style scoped>\n",
       "    .dataframe tbody tr th:only-of-type {\n",
       "        vertical-align: middle;\n",
       "    }\n",
       "\n",
       "    .dataframe tbody tr th {\n",
       "        vertical-align: top;\n",
       "    }\n",
       "\n",
       "    .dataframe thead th {\n",
       "        text-align: right;\n",
       "    }\n",
       "</style>\n",
       "<table border=\"1\" class=\"dataframe\">\n",
       "  <thead>\n",
       "    <tr style=\"text-align: right;\">\n",
       "      <th></th>\n",
       "      <th>name</th>\n",
       "      <th>id</th>\n",
       "      <th>tokens</th>\n",
       "    </tr>\n",
       "  </thead>\n",
       "  <tbody>\n",
       "    <tr>\n",
       "      <th>4411</th>\n",
       "      <td>А м е р и к а н о / с р е д н и й</td>\n",
       "      <td>NaN</td>\n",
       "      <td>[]</td>\n",
       "    </tr>\n",
       "    <tr>\n",
       "      <th>26135</th>\n",
       "      <td>4627145110829   100.00 * 1 ШТ=100.00</td>\n",
       "      <td>1135.0</td>\n",
       "      <td>[]</td>\n",
       "    </tr>\n",
       "    <tr>\n",
       "      <th>30684</th>\n",
       "      <td>9 мм</td>\n",
       "      <td>NaN</td>\n",
       "      <td>[]</td>\n",
       "    </tr>\n",
       "    <tr>\n",
       "      <th>32700</th>\n",
       "      <td>42.361.0F</td>\n",
       "      <td>NaN</td>\n",
       "      <td>[]</td>\n",
       "    </tr>\n",
       "    <tr>\n",
       "      <th>38106</th>\n",
       "      <td>№ 01</td>\n",
       "      <td>NaN</td>\n",
       "      <td>[]</td>\n",
       "    </tr>\n",
       "    <tr>\n",
       "      <th>...</th>\n",
       "      <td>...</td>\n",
       "      <td>...</td>\n",
       "      <td>...</td>\n",
       "    </tr>\n",
       "    <tr>\n",
       "      <th>1000570</th>\n",
       "      <td>А Р C</td>\n",
       "      <td>NaN</td>\n",
       "      <td>[]</td>\n",
       "    </tr>\n",
       "    <tr>\n",
       "      <th>1002512</th>\n",
       "      <td>W 868/36   (311)</td>\n",
       "      <td>NaN</td>\n",
       "      <td>[]</td>\n",
       "    </tr>\n",
       "    <tr>\n",
       "      <th>1011191</th>\n",
       "      <td>!11 60.0% 214мл</td>\n",
       "      <td>NaN</td>\n",
       "      <td>[]</td>\n",
       "    </tr>\n",
       "    <tr>\n",
       "      <th>1014311</th>\n",
       "      <td>0,5 л.</td>\n",
       "      <td>NaN</td>\n",
       "      <td>[]</td>\n",
       "    </tr>\n",
       "    <tr>\n",
       "      <th>1027323</th>\n",
       "      <td>M&amp;M`S  584гр</td>\n",
       "      <td>NaN</td>\n",
       "      <td>[]</td>\n",
       "    </tr>\n",
       "  </tbody>\n",
       "</table>\n",
       "<p>180 rows × 3 columns</p>\n",
       "</div>"
      ],
      "text/plain": [
       "                                         name      id tokens\n",
       "4411        А м е р и к а н о / с р е д н и й     NaN     []\n",
       "26135    4627145110829   100.00 * 1 ШТ=100.00  1135.0     []\n",
       "30684                                    9 мм     NaN     []\n",
       "32700                               42.361.0F     NaN     []\n",
       "38106                                    № 01     NaN     []\n",
       "...                                       ...     ...    ...\n",
       "1000570                                 А Р C     NaN     []\n",
       "1002512                      W 868/36   (311)     NaN     []\n",
       "1011191                       !11 60.0% 214мл     NaN     []\n",
       "1014311                               0,5 л.      NaN     []\n",
       "1027323                          M&M`S  584гр     NaN     []\n",
       "\n",
       "[180 rows x 3 columns]"
      ]
     },
     "execution_count": 267,
     "metadata": {},
     "output_type": "execute_result"
    }
   ],
   "source": [
    "names[names.tokens.apply(len) == 0]"
   ]
  },
  {
   "cell_type": "code",
   "execution_count": 262,
   "id": "230f8c69",
   "metadata": {},
   "outputs": [],
   "source": [
    "names.to_csv('data/preprocc_names.csv', index=False)"
   ]
  },
  {
   "cell_type": "markdown",
   "id": "6036dc55",
   "metadata": {},
   "source": [
    "Обученные векторы положим в файл `fasttext.model` для использования в моделях"
   ]
  },
  {
   "cell_type": "code",
   "execution_count": 263,
   "id": "bca4fbe1",
   "metadata": {
    "ExecuteTime": {
     "end_time": "2023-06-08T10:20:11.978458900Z",
     "start_time": "2023-06-08T10:20:03.668319100Z"
    }
   },
   "outputs": [
    {
     "name": "stdout",
     "output_type": "stream",
     "text": [
      "CPU times: user 11min 58s, sys: 8.17 s, total: 12min 6s\n",
      "Wall time: 4min 36s\n"
     ]
    }
   ],
   "source": [
    "%%time\n",
    "FastText(names[\"tokens\"], vector_size=128, window=5, min_count=5, epochs=20).save(\"fasttext_models/fasttext_128_preprocc_fitted.model\")"
   ]
  },
  {
   "cell_type": "code",
   "execution_count": null,
   "id": "1f0a3c92",
   "metadata": {},
   "outputs": [],
   "source": []
  }
 ],
 "metadata": {
  "kernelspec": {
   "display_name": "py",
   "language": "python",
   "name": "py"
  },
  "language_info": {
   "codemirror_mode": {
    "name": "ipython",
    "version": 3
   },
   "file_extension": ".py",
   "mimetype": "text/x-python",
   "name": "python",
   "nbconvert_exporter": "python",
   "pygments_lexer": "ipython3",
   "version": "3.9.16"
  }
 },
 "nbformat": 4,
 "nbformat_minor": 5
}
