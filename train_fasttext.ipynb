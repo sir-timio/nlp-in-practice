{
 "cells": [
  {
   "cell_type": "markdown",
   "id": "ed64b487",
   "metadata": {},
   "source": [
    "# Обучение FastText\n",
    "\n",
    "В бейзлайне предполагается использовать векторы из библиотеки FastText, которые в данном ноутбуке обучатся на домен чеков"
   ]
  },
  {
   "cell_type": "code",
   "execution_count": 1,
   "id": "0025de88",
   "metadata": {
    "ExecuteTime": {
     "end_time": "2023-06-08T10:20:03.393807600Z",
     "start_time": "2023-06-08T10:20:02.596348500Z"
    }
   },
   "outputs": [],
   "source": [
    "from gensim.models.fasttext import FastText\n",
    "import pandas as pd\n",
    "import numpy as np"
   ]
  },
  {
   "cell_type": "markdown",
   "id": "23e7a9f8",
   "metadata": {},
   "source": [
    "Выгрузим все чеки из размеченного датасета для обучения, а также из тестового датасета"
   ]
  },
  {
   "cell_type": "code",
   "execution_count": 2,
   "id": "066858b0",
   "metadata": {
    "ExecuteTime": {
     "end_time": "2023-06-08T10:20:03.493889400Z",
     "start_time": "2023-06-08T10:20:03.396902400Z"
    }
   },
   "outputs": [
    {
     "data": {
      "text/html": [
       "<div>\n",
       "<style scoped>\n",
       "    .dataframe tbody tr th:only-of-type {\n",
       "        vertical-align: middle;\n",
       "    }\n",
       "\n",
       "    .dataframe tbody tr th {\n",
       "        vertical-align: top;\n",
       "    }\n",
       "\n",
       "    .dataframe thead th {\n",
       "        text-align: right;\n",
       "    }\n",
       "</style>\n",
       "<table border=\"1\" class=\"dataframe\">\n",
       "  <thead>\n",
       "    <tr style=\"text-align: right;\">\n",
       "      <th></th>\n",
       "      <th>name</th>\n",
       "      <th>id</th>\n",
       "    </tr>\n",
       "  </thead>\n",
       "  <tbody>\n",
       "    <tr>\n",
       "      <th>0</th>\n",
       "      <td>Petmax Бантик леопард с красн розой 2шт</td>\n",
       "      <td>NaN</td>\n",
       "    </tr>\n",
       "    <tr>\n",
       "      <th>1</th>\n",
       "      <td>87191 Бусы для елки шарики_87191</td>\n",
       "      <td>NaN</td>\n",
       "    </tr>\n",
       "    <tr>\n",
       "      <th>2</th>\n",
       "      <td>Футболка Piazza Italia WR011446881</td>\n",
       "      <td>NaN</td>\n",
       "    </tr>\n",
       "    <tr>\n",
       "      <th>3</th>\n",
       "      <td>7) YI572-03X-ONE ЗАКОЛКА ДЛЯ ВОЛОС ДЛЯ ДЕВОЧКИ</td>\n",
       "      <td>NaN</td>\n",
       "    </tr>\n",
       "    <tr>\n",
       "      <th>4</th>\n",
       "      <td>Одежда (вес) 1500</td>\n",
       "      <td>NaN</td>\n",
       "    </tr>\n",
       "    <tr>\n",
       "      <th>...</th>\n",
       "      <td>...</td>\n",
       "      <td>...</td>\n",
       "    </tr>\n",
       "    <tr>\n",
       "      <th>1029995</th>\n",
       "      <td>F-2296  Спонж д/макияжа фигурный (шт)</td>\n",
       "      <td>NaN</td>\n",
       "    </tr>\n",
       "    <tr>\n",
       "      <th>1029996</th>\n",
       "      <td>4 5702737510597 69.88 Дифф/Arom/1601</td>\n",
       "      <td>NaN</td>\n",
       "    </tr>\n",
       "    <tr>\n",
       "      <th>1029997</th>\n",
       "      <td>Матрас надувной 540*74см Tropical Bird запл.д/...</td>\n",
       "      <td>NaN</td>\n",
       "    </tr>\n",
       "    <tr>\n",
       "      <th>1029998</th>\n",
       "      <td>пододеяльник СТМ Страйп 3-сп, размер: 796х185с...</td>\n",
       "      <td>NaN</td>\n",
       "    </tr>\n",
       "    <tr>\n",
       "      <th>1029999</th>\n",
       "      <td>Пакет ламинированный вертикальный ?Чудесных мг...</td>\n",
       "      <td>NaN</td>\n",
       "    </tr>\n",
       "  </tbody>\n",
       "</table>\n",
       "<p>1030000 rows × 2 columns</p>\n",
       "</div>"
      ],
      "text/plain": [
       "                                                      name  id\n",
       "0                  Petmax Бантик леопард с красн розой 2шт NaN\n",
       "1                         87191 Бусы для елки шарики_87191 NaN\n",
       "2                       Футболка Piazza Italia WR011446881 NaN\n",
       "3           7) YI572-03X-ONE ЗАКОЛКА ДЛЯ ВОЛОС ДЛЯ ДЕВОЧКИ NaN\n",
       "4                                        Одежда (вес) 1500 NaN\n",
       "...                                                    ...  ..\n",
       "1029995              F-2296  Спонж д/макияжа фигурный (шт) NaN\n",
       "1029996               4 5702737510597 69.88 Дифф/Arom/1601 NaN\n",
       "1029997  Матрас надувной 540*74см Tropical Bird запл.д/... NaN\n",
       "1029998  пододеяльник СТМ Страйп 3-сп, размер: 796х185с... NaN\n",
       "1029999  Пакет ламинированный вертикальный ?Чудесных мг... NaN\n",
       "\n",
       "[1030000 rows x 2 columns]"
      ]
     },
     "execution_count": 2,
     "metadata": {},
     "output_type": "execute_result"
    }
   ],
   "source": [
    "train_df = pd.read_csv(\"data/train_supervised_dataset.csv\").fillna(\"\")\n",
    "uns_train_df = pd.read_csv(\"data/train_unsupervised_dataset.csv\").fillna(\"\")\n",
    "test_df = pd.read_csv(\"data/test_dataset.csv\")\n",
    "names = pd.concat((train_df[[\"name\"]], test_df, uns_train_df[[\"name\"]])).reset_index(drop=True)\n",
    "names"
   ]
  },
  {
   "cell_type": "code",
   "execution_count": 3,
   "id": "09f1c8f5",
   "metadata": {},
   "outputs": [
    {
     "data": {
      "text/plain": [
       "               0.03276\n",
       "брюки          0.01356\n",
       "пиво           0.01308\n",
       "вода           0.01232\n",
       "печенье        0.01164\n",
       "                ...   \n",
       "молитвослов    0.00004\n",
       "медведь        0.00004\n",
       "супница        0.00004\n",
       "овчина         0.00004\n",
       "поддон         0.00004\n",
       "Name: good, Length: 2820, dtype: float64"
      ]
     },
     "execution_count": 3,
     "metadata": {},
     "output_type": "execute_result"
    }
   ],
   "source": [
    "train_df['good'].value_counts(1)"
   ]
  },
  {
   "cell_type": "code",
   "execution_count": 4,
   "id": "7d58ab08",
   "metadata": {},
   "outputs": [
    {
     "data": {
      "text/plain": [
       "                        0.34020\n",
       "яшкино                  0.00480\n",
       "агуша                   0.00364\n",
       "коровка из кореновки    0.00272\n",
       "махеевъ                 0.00252\n",
       "                         ...   \n",
       "пласти лаб              0.00004\n",
       "феррогематоген          0.00004\n",
       "cbr                     0.00004\n",
       "helcom                  0.00004\n",
       "smail                   0.00004\n",
       "Name: brand, Length: 6976, dtype: float64"
      ]
     },
     "execution_count": 4,
     "metadata": {},
     "output_type": "execute_result"
    }
   ],
   "source": [
    "train_df['brand'].value_counts(1)"
   ]
  },
  {
   "cell_type": "code",
   "execution_count": 103,
   "id": "df74a803",
   "metadata": {},
   "outputs": [],
   "source": [
    "import re\n",
    "\n",
    "from cyrtranslit import to_cyrillic, to_latin\n",
    "lat_to_cyr = str.maketrans(\"aekmhopctyx\", \"аекмнорстух\")\n",
    "cyr_to_lat = str.maketrans(\"аекмнорстух\", \"aekmhopctyx\")\n",
    "stop_words = set(['г', 'кг', 'шт', 'мл', 'л', 'литр', 'мг', 'гр', 'км', 'мм', 'mm', 'уп'])\n",
    "\n",
    "def replace_camel_case(s):\n",
    "    matches = len(re.findall(r'(?<=[a-zа-я])([A-ZА-Я])', s))\n",
    "    if matches > 2:\n",
    "        return re.sub(r'(?<=[a-zа-я])([A-ZА-Я])', r' \\1', s)\n",
    "    else:\n",
    "        return s\n",
    "    \n",
    "def split_on_language_change(s):\n",
    "    s = re.sub(r'(?<=[a-zа-я])(?=[A-ZА-Я0-9])', r' ', s)\n",
    "    s = re.sub(r'(?<=[A-ZА-Я0-9])(?=[a-zа-я])', r' ', s)\n",
    "    return s\n",
    "\n",
    "\n",
    "def insert_space_after_one(s):\n",
    "    return re.sub(r'(1)(?=[A-Za-zА-Яа-я])', r'\\1 ', s)\n",
    "\n",
    "def replace_zero(s):\n",
    "    s = re.sub(r'(?<=[A-Za-z])0(?=[A-Za-z])', 'o', s)\n",
    "    s = re.sub(r'(?<=[А-Яа-я])0(?=[А-Яа-я])', 'о', s)\n",
    "    return s\n",
    "\n",
    "def preprocess_text(text):\n",
    "    \n",
    "    text = replace_zero(text)\n",
    "    \n",
    "    text = re.sub('\\d+', '1', text)  # replace numbers to 1\n",
    "    text = replace_camel_case(text)\n",
    "    text = re.sub('д/', 'для ', text)\n",
    "    text = re.sub('Д/', 'для ', text)\n",
    "    text = insert_space_after_one(text)\n",
    "    text = re.sub(r'\\s+', ' ', text)  # remove extra spaces\n",
    "    text = re.sub(r'[^\\w\\s]', ' ', text)  # remove punctuation\n",
    "    words = []\n",
    "    for w in text.lower().split():\n",
    "#         if len(w) < 2:\n",
    "#             continue\n",
    "        \n",
    "        num_eng_chars = len(re.findall(r'[a-z]', w))\n",
    "        num_ru_chars = len(re.findall(r'[а-я]', w))\n",
    "        if num_eng_chars and num_ru_chars:\n",
    "            if num_eng_chars > num_ru_chars:\n",
    "                w = w.translate(cyr_to_lat)\n",
    "            else:\n",
    "                w = w.translate(lat_to_cyr)\n",
    "        \n",
    "        if w in stop_words:\n",
    "            continue\n",
    "        \n",
    "        # если нет транзиторов\n",
    "        w = split_on_language_change(w)\n",
    "        if ' ' in w:\n",
    "            words.extend(w.split())\n",
    "        else:\n",
    "            if w == 'нести':\n",
    "                w = 'nestea'\n",
    "            if w == 'эпика':\n",
    "                w = 'epica'\n",
    "            if w == 'хелен':\n",
    "                w = 'helen'\n",
    "            if w == 'харпер':\n",
    "                w = 'harper'\n",
    "            if w == 'тимотей':\n",
    "                w = 'timotei'\n",
    "            if w == 'тесс':\n",
    "                w = 'tess'\n",
    "            if w == 'кроненбург':\n",
    "                w = 'kronenbourg'\n",
    "            if w == 'пай':\n",
    "                w = 'pie'\n",
    "            if w == 'чоко':\n",
    "                w = 'choko'\n",
    "            if w == 'салтон':\n",
    "                w = 'salton'\n",
    "            words.append(w)\n",
    "        \n",
    "    return words"
   ]
  },
  {
   "cell_type": "code",
   "execution_count": 88,
   "id": "5ea07941",
   "metadata": {},
   "outputs": [
    {
     "data": {
      "text/plain": [
       "'Козинак из воздушных зерен риса  Тимоша 50г'"
      ]
     },
     "execution_count": 88,
     "metadata": {},
     "output_type": "execute_result"
    }
   ],
   "source": [
    "text = train_df['name'].sample().values[0]\n",
    "text"
   ]
  },
  {
   "cell_type": "code",
   "execution_count": 89,
   "id": "6601e42f",
   "metadata": {},
   "outputs": [
    {
     "data": {
      "text/html": [
       "<div>\n",
       "<style scoped>\n",
       "    .dataframe tbody tr th:only-of-type {\n",
       "        vertical-align: middle;\n",
       "    }\n",
       "\n",
       "    .dataframe tbody tr th {\n",
       "        vertical-align: top;\n",
       "    }\n",
       "\n",
       "    .dataframe thead th {\n",
       "        text-align: right;\n",
       "    }\n",
       "</style>\n",
       "<table border=\"1\" class=\"dataframe\">\n",
       "  <thead>\n",
       "    <tr style=\"text-align: right;\">\n",
       "      <th></th>\n",
       "      <th>id</th>\n",
       "      <th>name</th>\n",
       "      <th>good</th>\n",
       "      <th>brand</th>\n",
       "    </tr>\n",
       "  </thead>\n",
       "  <tbody>\n",
       "    <tr>\n",
       "      <th>4670</th>\n",
       "      <td>4670</td>\n",
       "      <td>Козинак из воздушных зерен риса  Тимоша 50г</td>\n",
       "      <td>козинак</td>\n",
       "      <td>тимоша</td>\n",
       "    </tr>\n",
       "  </tbody>\n",
       "</table>\n",
       "</div>"
      ],
      "text/plain": [
       "        id                                         name     good   brand\n",
       "4670  4670  Козинак из воздушных зерен риса  Тимоша 50г  козинак  тимоша"
      ]
     },
     "execution_count": 89,
     "metadata": {},
     "output_type": "execute_result"
    }
   ],
   "source": [
    "train_df[train_df['name'] == text]"
   ]
  },
  {
   "cell_type": "code",
   "execution_count": 194,
   "id": "757c4323",
   "metadata": {
    "scrolled": true
   },
   "outputs": [
    {
     "name": "stdout",
     "output_type": "stream",
     "text": [
      "31.1 µs ± 1.59 µs per loop (mean ± std. dev. of 7 runs, 10,000 loops each)\n"
     ]
    }
   ],
   "source": [
    "%%timeit\n",
    "preprocess_text(text)"
   ]
  },
  {
   "cell_type": "code",
   "execution_count": 104,
   "id": "afc800c2",
   "metadata": {},
   "outputs": [],
   "source": [
    "good_founded_list = []\n",
    "brand_founded_list = []\n",
    "DEBUG = True\n",
    "\n",
    "for i, r in train_df.iterrows():\n",
    "    tokens = preprocess_text(r['name'])\n",
    "    brand = r['brand']\n",
    "    good = r['good']\n",
    "    if len(re.findall(r'[a-z]', brand)) > 0 and brand not in tokens:\n",
    "        DEBUG = False\n",
    "    else:\n",
    "        DEBUG = False\n",
    "    if DEBUG:\n",
    "        print(r['name'])\n",
    "    if brand:\n",
    "        if DEBUG:\n",
    "            print(f\"brand: {brand}\")\n",
    "        brand_founded_list.append(brand in tokens)\n",
    "    if good:\n",
    "        if DEBUG:\n",
    "            print(f\"good: {good}\")\n",
    "        good_founded_list.append(good in tokens)\n",
    "    if DEBUG:\n",
    "        print(tokens)\n",
    "        print(f'\\n\\n')"
   ]
  },
  {
   "cell_type": "code",
   "execution_count": 105,
   "id": "10fe923f",
   "metadata": {},
   "outputs": [],
   "source": [
    "# baseline:\n",
    "#     good:  0.849\n",
    "#     brand: 0.57\n",
    "        \n",
    "# hard_preprocc:\n",
    "#     good:  0.919689\n",
    "#     brand: 0.694089\n",
    "\n",
    "# hard_preprocc + brand renaming\n",
    "#     good:  0.919689\n",
    "#     brand: 0.695180"
   ]
  },
  {
   "cell_type": "code",
   "execution_count": 106,
   "id": "6ba3345f",
   "metadata": {},
   "outputs": [
    {
     "data": {
      "text/plain": [
       "0.9196890120342418"
      ]
     },
     "execution_count": 106,
     "metadata": {},
     "output_type": "execute_result"
    }
   ],
   "source": [
    "np.mean(good_founded_list)"
   ]
  },
  {
   "cell_type": "code",
   "execution_count": 107,
   "id": "08137f66",
   "metadata": {},
   "outputs": [
    {
     "data": {
      "text/plain": [
       "0.6951803576841468"
      ]
     },
     "execution_count": 107,
     "metadata": {},
     "output_type": "execute_result"
    }
   ],
   "source": [
    "np.mean(brand_founded_list)"
   ]
  },
  {
   "cell_type": "code",
   "execution_count": 15,
   "id": "1b4f7471",
   "metadata": {},
   "outputs": [
    {
     "data": {
      "text/plain": [
       "'епица'"
      ]
     },
     "execution_count": 15,
     "metadata": {},
     "output_type": "execute_result"
    }
   ],
   "source": [
    "to_cyrillic('epica')"
   ]
  },
  {
   "cell_type": "code",
   "execution_count": 11,
   "id": "5b4e12cb",
   "metadata": {
    "collapsed": true
   },
   "outputs": [
    {
     "data": {
      "text/plain": [
       "['декоративная',\n",
       " 'клейкая',\n",
       " 'лента',\n",
       " 'металлик',\n",
       " 'намотка',\n",
       " '1',\n",
       " 'м',\n",
       " 'ширина',\n",
       " '1',\n",
       " '1',\n",
       " 'см',\n",
       " '1',\n",
       " 'в',\n",
       " 'банке',\n",
       " 'цена',\n",
       " 'за',\n",
       " 'банку']"
      ]
     },
     "execution_count": 11,
     "metadata": {},
     "output_type": "execute_result"
    }
   ],
   "source": [
    "preprocess_text(text)"
   ]
  },
  {
   "cell_type": "code",
   "execution_count": 12,
   "id": "2dddc22e",
   "metadata": {
    "ExecuteTime": {
     "end_time": "2023-06-08T10:20:03.638597600Z",
     "start_time": "2023-06-08T10:20:03.495407300Z"
    }
   },
   "outputs": [
    {
     "name": "stdout",
     "output_type": "stream",
     "text": [
      "CPU times: user 57.7 s, sys: 761 ms, total: 58.5 s\n",
      "Wall time: 58.5 s\n"
     ]
    },
    {
     "data": {
      "text/html": [
       "<div>\n",
       "<style scoped>\n",
       "    .dataframe tbody tr th:only-of-type {\n",
       "        vertical-align: middle;\n",
       "    }\n",
       "\n",
       "    .dataframe tbody tr th {\n",
       "        vertical-align: top;\n",
       "    }\n",
       "\n",
       "    .dataframe thead th {\n",
       "        text-align: right;\n",
       "    }\n",
       "</style>\n",
       "<table border=\"1\" class=\"dataframe\">\n",
       "  <thead>\n",
       "    <tr style=\"text-align: right;\">\n",
       "      <th></th>\n",
       "      <th>name</th>\n",
       "      <th>id</th>\n",
       "      <th>tokens</th>\n",
       "    </tr>\n",
       "  </thead>\n",
       "  <tbody>\n",
       "    <tr>\n",
       "      <th>0</th>\n",
       "      <td>Petmax Бантик леопард с красн розой 2шт</td>\n",
       "      <td>NaN</td>\n",
       "      <td>[petmax, бантик, леопард, с, красн, розой, 1]</td>\n",
       "    </tr>\n",
       "    <tr>\n",
       "      <th>1</th>\n",
       "      <td>87191 Бусы для елки шарики_87191</td>\n",
       "      <td>NaN</td>\n",
       "      <td>[1, бусы, для, елки, шарики_1]</td>\n",
       "    </tr>\n",
       "    <tr>\n",
       "      <th>2</th>\n",
       "      <td>Футболка Piazza Italia WR011446881</td>\n",
       "      <td>NaN</td>\n",
       "      <td>[футболка, piazza, italia, wr, 1]</td>\n",
       "    </tr>\n",
       "    <tr>\n",
       "      <th>3</th>\n",
       "      <td>7) YI572-03X-ONE ЗАКОЛКА ДЛЯ ВОЛОС ДЛЯ ДЕВОЧКИ</td>\n",
       "      <td>NaN</td>\n",
       "      <td>[1, yi, 1, 1, x, one, заколка, для, волос, для...</td>\n",
       "    </tr>\n",
       "    <tr>\n",
       "      <th>4</th>\n",
       "      <td>Одежда (вес) 1500</td>\n",
       "      <td>NaN</td>\n",
       "      <td>[одежда, вес, 1]</td>\n",
       "    </tr>\n",
       "    <tr>\n",
       "      <th>...</th>\n",
       "      <td>...</td>\n",
       "      <td>...</td>\n",
       "      <td>...</td>\n",
       "    </tr>\n",
       "    <tr>\n",
       "      <th>1029995</th>\n",
       "      <td>F-2296  Спонж д/макияжа фигурный (шт)</td>\n",
       "      <td>NaN</td>\n",
       "      <td>[f, 1, спонж, для, макияжа, фигурный]</td>\n",
       "    </tr>\n",
       "    <tr>\n",
       "      <th>1029996</th>\n",
       "      <td>4 5702737510597 69.88 Дифф/Arom/1601</td>\n",
       "      <td>NaN</td>\n",
       "      <td>[1, 1, 1, 1, дифф, arom, 1]</td>\n",
       "    </tr>\n",
       "    <tr>\n",
       "      <th>1029997</th>\n",
       "      <td>Матрас надувной 540*74см Tropical Bird запл.д/...</td>\n",
       "      <td>NaN</td>\n",
       "      <td>[матрас, надувной, 1, 1, см, tropical, bird, з...</td>\n",
       "    </tr>\n",
       "    <tr>\n",
       "      <th>1029998</th>\n",
       "      <td>пододеяльник СТМ Страйп 3-сп, размер: 796х185с...</td>\n",
       "      <td>NaN</td>\n",
       "      <td>[пододеяльник, стм, страйп, 1, сп, размер, 1, ...</td>\n",
       "    </tr>\n",
       "    <tr>\n",
       "      <th>1029999</th>\n",
       "      <td>Пакет ламинированный вертикальный ?Чудесных мг...</td>\n",
       "      <td>NaN</td>\n",
       "      <td>[пакет, ламинированный, вертикальный, чудесных...</td>\n",
       "    </tr>\n",
       "  </tbody>\n",
       "</table>\n",
       "<p>1030000 rows × 3 columns</p>\n",
       "</div>"
      ],
      "text/plain": [
       "                                                      name  id  \\\n",
       "0                  Petmax Бантик леопард с красн розой 2шт NaN   \n",
       "1                         87191 Бусы для елки шарики_87191 NaN   \n",
       "2                       Футболка Piazza Italia WR011446881 NaN   \n",
       "3           7) YI572-03X-ONE ЗАКОЛКА ДЛЯ ВОЛОС ДЛЯ ДЕВОЧКИ NaN   \n",
       "4                                        Одежда (вес) 1500 NaN   \n",
       "...                                                    ...  ..   \n",
       "1029995              F-2296  Спонж д/макияжа фигурный (шт) NaN   \n",
       "1029996               4 5702737510597 69.88 Дифф/Arom/1601 NaN   \n",
       "1029997  Матрас надувной 540*74см Tropical Bird запл.д/... NaN   \n",
       "1029998  пододеяльник СТМ Страйп 3-сп, размер: 796х185с... NaN   \n",
       "1029999  Пакет ламинированный вертикальный ?Чудесных мг... NaN   \n",
       "\n",
       "                                                    tokens  \n",
       "0            [petmax, бантик, леопард, с, красн, розой, 1]  \n",
       "1                           [1, бусы, для, елки, шарики_1]  \n",
       "2                        [футболка, piazza, italia, wr, 1]  \n",
       "3        [1, yi, 1, 1, x, one, заколка, для, волос, для...  \n",
       "4                                         [одежда, вес, 1]  \n",
       "...                                                    ...  \n",
       "1029995              [f, 1, спонж, для, макияжа, фигурный]  \n",
       "1029996                        [1, 1, 1, 1, дифф, arom, 1]  \n",
       "1029997  [матрас, надувной, 1, 1, см, tropical, bird, з...  \n",
       "1029998  [пододеяльник, стм, страйп, 1, сп, размер, 1, ...  \n",
       "1029999  [пакет, ламинированный, вертикальный, чудесных...  \n",
       "\n",
       "[1030000 rows x 3 columns]"
      ]
     },
     "execution_count": 12,
     "metadata": {},
     "output_type": "execute_result"
    }
   ],
   "source": [
    "%%time\n",
    "names[\"tokens\"] = names[\"name\"].apply(preprocess_text)\n",
    "names"
   ]
  },
  {
   "cell_type": "code",
   "execution_count": 262,
   "id": "230f8c69",
   "metadata": {},
   "outputs": [],
   "source": [
    "names.to_csv('data/preprocc_names.csv', index=False)"
   ]
  },
  {
   "cell_type": "markdown",
   "id": "6036dc55",
   "metadata": {},
   "source": [
    "Обученные векторы положим в файл `fasttext.model` для использования в моделях"
   ]
  },
  {
   "cell_type": "code",
   "execution_count": 13,
   "id": "bca4fbe1",
   "metadata": {
    "ExecuteTime": {
     "end_time": "2023-06-08T10:20:11.978458900Z",
     "start_time": "2023-06-08T10:20:03.668319100Z"
    }
   },
   "outputs": [
    {
     "name": "stdout",
     "output_type": "stream",
     "text": [
      "CPU times: user 28min 26s, sys: 41.1 s, total: 29min 7s\n",
      "Wall time: 10min 12s\n"
     ]
    }
   ],
   "source": [
    "%%time\n",
    "FastText(names[\"tokens\"], vector_size=256, window=5, min_count=5, epochs=30).save(\"fasttext_models/fasttext_256_hardpreprocc_fitted.model\")"
   ]
  },
  {
   "cell_type": "code",
   "execution_count": null,
   "id": "1f0a3c92",
   "metadata": {},
   "outputs": [],
   "source": []
  }
 ],
 "metadata": {
  "kernelspec": {
   "display_name": "py",
   "language": "python",
   "name": "py"
  },
  "language_info": {
   "codemirror_mode": {
    "name": "ipython",
    "version": 3
   },
   "file_extension": ".py",
   "mimetype": "text/x-python",
   "name": "python",
   "nbconvert_exporter": "python",
   "pygments_lexer": "ipython3",
   "version": "3.9.16"
  }
 },
 "nbformat": 4,
 "nbformat_minor": 5
}
