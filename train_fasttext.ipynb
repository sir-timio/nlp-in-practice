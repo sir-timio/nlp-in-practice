{
 "cells": [
  {
   "cell_type": "markdown",
   "id": "ed64b487",
   "metadata": {},
   "source": [
    "# Обучение FastText\n",
    "\n",
    "В бейзлайне предполагается использовать векторы из библиотеки FastText, которые в данном ноутбуке обучатся на домен чеков"
   ]
  },
  {
   "cell_type": "code",
   "execution_count": 13,
   "id": "0025de88",
   "metadata": {
    "ExecuteTime": {
     "end_time": "2023-06-08T10:20:03.393807600Z",
     "start_time": "2023-06-08T10:20:02.596348500Z"
    }
   },
   "outputs": [],
   "source": [
    "from gensim.models.fasttext import FastText\n",
    "import pandas as pd\n",
    "import numpy as np"
   ]
  },
  {
   "cell_type": "markdown",
   "id": "23e7a9f8",
   "metadata": {},
   "source": [
    "Выгрузим все чеки из размеченного датасета для обучения, а также из тестового датасета"
   ]
  },
  {
   "cell_type": "code",
   "execution_count": 4,
   "id": "066858b0",
   "metadata": {
    "ExecuteTime": {
     "end_time": "2023-06-08T10:20:03.493889400Z",
     "start_time": "2023-06-08T10:20:03.396902400Z"
    }
   },
   "outputs": [
    {
     "data": {
      "text/html": [
       "<div>\n",
       "<style scoped>\n",
       "    .dataframe tbody tr th:only-of-type {\n",
       "        vertical-align: middle;\n",
       "    }\n",
       "\n",
       "    .dataframe tbody tr th {\n",
       "        vertical-align: top;\n",
       "    }\n",
       "\n",
       "    .dataframe thead th {\n",
       "        text-align: right;\n",
       "    }\n",
       "</style>\n",
       "<table border=\"1\" class=\"dataframe\">\n",
       "  <thead>\n",
       "    <tr style=\"text-align: right;\">\n",
       "      <th></th>\n",
       "      <th>name</th>\n",
       "      <th>id</th>\n",
       "    </tr>\n",
       "  </thead>\n",
       "  <tbody>\n",
       "    <tr>\n",
       "      <th>0</th>\n",
       "      <td>Petmax Бантик леопард с красн розой 2шт</td>\n",
       "      <td>NaN</td>\n",
       "    </tr>\n",
       "    <tr>\n",
       "      <th>1</th>\n",
       "      <td>87191 Бусы для елки шарики_87191</td>\n",
       "      <td>NaN</td>\n",
       "    </tr>\n",
       "    <tr>\n",
       "      <th>2</th>\n",
       "      <td>Футболка Piazza Italia WR011446881</td>\n",
       "      <td>NaN</td>\n",
       "    </tr>\n",
       "    <tr>\n",
       "      <th>3</th>\n",
       "      <td>7) YI572-03X-ONE ЗАКОЛКА ДЛЯ ВОЛОС ДЛЯ ДЕВОЧКИ</td>\n",
       "      <td>NaN</td>\n",
       "    </tr>\n",
       "    <tr>\n",
       "      <th>4</th>\n",
       "      <td>Одежда (вес) 1500</td>\n",
       "      <td>NaN</td>\n",
       "    </tr>\n",
       "    <tr>\n",
       "      <th>...</th>\n",
       "      <td>...</td>\n",
       "      <td>...</td>\n",
       "    </tr>\n",
       "    <tr>\n",
       "      <th>1029995</th>\n",
       "      <td>F-2296  Спонж д/макияжа фигурный (шт)</td>\n",
       "      <td>NaN</td>\n",
       "    </tr>\n",
       "    <tr>\n",
       "      <th>1029996</th>\n",
       "      <td>4 5702737510597 69.88 Дифф/Arom/1601</td>\n",
       "      <td>NaN</td>\n",
       "    </tr>\n",
       "    <tr>\n",
       "      <th>1029997</th>\n",
       "      <td>Матрас надувной 540*74см Tropical Bird запл.д/...</td>\n",
       "      <td>NaN</td>\n",
       "    </tr>\n",
       "    <tr>\n",
       "      <th>1029998</th>\n",
       "      <td>пододеяльник СТМ Страйп 3-сп, размер: 796х185с...</td>\n",
       "      <td>NaN</td>\n",
       "    </tr>\n",
       "    <tr>\n",
       "      <th>1029999</th>\n",
       "      <td>Пакет ламинированный вертикальный ?Чудесных мг...</td>\n",
       "      <td>NaN</td>\n",
       "    </tr>\n",
       "  </tbody>\n",
       "</table>\n",
       "<p>1030000 rows × 2 columns</p>\n",
       "</div>"
      ],
      "text/plain": [
       "                                                      name  id\n",
       "0                  Petmax Бантик леопард с красн розой 2шт NaN\n",
       "1                         87191 Бусы для елки шарики_87191 NaN\n",
       "2                       Футболка Piazza Italia WR011446881 NaN\n",
       "3           7) YI572-03X-ONE ЗАКОЛКА ДЛЯ ВОЛОС ДЛЯ ДЕВОЧКИ NaN\n",
       "4                                        Одежда (вес) 1500 NaN\n",
       "...                                                    ...  ..\n",
       "1029995              F-2296  Спонж д/макияжа фигурный (шт) NaN\n",
       "1029996               4 5702737510597 69.88 Дифф/Arom/1601 NaN\n",
       "1029997  Матрас надувной 540*74см Tropical Bird запл.д/... NaN\n",
       "1029998  пододеяльник СТМ Страйп 3-сп, размер: 796х185с... NaN\n",
       "1029999  Пакет ламинированный вертикальный ?Чудесных мг... NaN\n",
       "\n",
       "[1030000 rows x 2 columns]"
      ]
     },
     "execution_count": 4,
     "metadata": {},
     "output_type": "execute_result"
    }
   ],
   "source": [
    "train_df = pd.read_csv(\"train_supervised_dataset.csv\").fillna(\"\")\n",
    "uns_train_df = pd.read_csv(\"train_unsupervised_dataset.csv\").fillna(\"\")\n",
    "test_df = pd.read_csv(\"test_dataset.csv\")\n",
    "names = pd.concat((train_df[[\"name\"]], test_df, uns_train_df[[\"name\"]])).reset_index(drop=True)\n",
    "names"
   ]
  },
  {
   "cell_type": "code",
   "execution_count": 9,
   "id": "6a84a741",
   "metadata": {},
   "outputs": [],
   "source": [
    "brands = train_df[['brand']].values"
   ]
  },
  {
   "cell_type": "code",
   "execution_count": 15,
   "id": "c3205a3d",
   "metadata": {
    "scrolled": true
   },
   "outputs": [
    {
     "data": {
      "text/plain": [
       "array(['', '1toy', '21 век', ..., 'ячменное поле', 'яшкино', '№1 school'],\n",
       "      dtype=object)"
      ]
     },
     "execution_count": 15,
     "metadata": {},
     "output_type": "execute_result"
    }
   ],
   "source": [
    "np.unique(brands)"
   ]
  },
  {
   "cell_type": "code",
   "execution_count": 16,
   "id": "3c711c25",
   "metadata": {},
   "outputs": [],
   "source": [
    "from nltk.corpus import stopwords\n",
    "from nltk.stem import WordNetLemmatizer\n",
    "import re\n",
    "\n",
    "stop_words = set(stopwords.words('russian'))\n",
    "lemmatizer = WordNetLemmatizer()\n",
    "\n",
    "def preprocess_text(text):\n",
    "    text = re.sub(r'\\b\\d+\\b', '', text)  # remove numbers\n",
    "    text = re.sub(r'\\s+', ' ', text)  # remove extra spaces\n",
    "    text = re.sub(r'[^\\w\\s]', '', text)  # remove punctuation\n",
    "    words = text.lower().split()\n",
    "    words = [lemmatizer.lemmatize(word) for word in words if word not in stop_words]  # lemmatization and remove stop words\n",
    "    return words"
   ]
  },
  {
   "cell_type": "markdown",
   "id": "f4f724b9",
   "metadata": {},
   "source": [
    "В качестве предобработки приведем все к нижнему регистру\n",
    "Токенизируем по пробельным символам"
   ]
  },
  {
   "cell_type": "code",
   "execution_count": 17,
   "id": "2dddc22e",
   "metadata": {
    "ExecuteTime": {
     "end_time": "2023-06-08T10:20:03.638597600Z",
     "start_time": "2023-06-08T10:20:03.495407300Z"
    }
   },
   "outputs": [
    {
     "data": {
      "text/html": [
       "<div>\n",
       "<style scoped>\n",
       "    .dataframe tbody tr th:only-of-type {\n",
       "        vertical-align: middle;\n",
       "    }\n",
       "\n",
       "    .dataframe tbody tr th {\n",
       "        vertical-align: top;\n",
       "    }\n",
       "\n",
       "    .dataframe thead th {\n",
       "        text-align: right;\n",
       "    }\n",
       "</style>\n",
       "<table border=\"1\" class=\"dataframe\">\n",
       "  <thead>\n",
       "    <tr style=\"text-align: right;\">\n",
       "      <th></th>\n",
       "      <th>name</th>\n",
       "      <th>id</th>\n",
       "      <th>tokens</th>\n",
       "    </tr>\n",
       "  </thead>\n",
       "  <tbody>\n",
       "    <tr>\n",
       "      <th>0</th>\n",
       "      <td>Petmax Бантик леопард с красн розой 2шт</td>\n",
       "      <td>NaN</td>\n",
       "      <td>[petmax, бантик, леопард, красн, розой, 2шт]</td>\n",
       "    </tr>\n",
       "    <tr>\n",
       "      <th>1</th>\n",
       "      <td>87191 Бусы для елки шарики_87191</td>\n",
       "      <td>NaN</td>\n",
       "      <td>[бусы, елки, шарики_87191]</td>\n",
       "    </tr>\n",
       "    <tr>\n",
       "      <th>2</th>\n",
       "      <td>Футболка Piazza Italia WR011446881</td>\n",
       "      <td>NaN</td>\n",
       "      <td>[футболка, piazza, italia, wr011446881]</td>\n",
       "    </tr>\n",
       "    <tr>\n",
       "      <th>3</th>\n",
       "      <td>7) YI572-03X-ONE ЗАКОЛКА ДЛЯ ВОЛОС ДЛЯ ДЕВОЧКИ</td>\n",
       "      <td>NaN</td>\n",
       "      <td>[yi57203xone, заколка, волос, девочки]</td>\n",
       "    </tr>\n",
       "    <tr>\n",
       "      <th>4</th>\n",
       "      <td>Одежда (вес) 1500</td>\n",
       "      <td>NaN</td>\n",
       "      <td>[одежда, вес]</td>\n",
       "    </tr>\n",
       "    <tr>\n",
       "      <th>...</th>\n",
       "      <td>...</td>\n",
       "      <td>...</td>\n",
       "      <td>...</td>\n",
       "    </tr>\n",
       "    <tr>\n",
       "      <th>1029995</th>\n",
       "      <td>F-2296  Спонж д/макияжа фигурный (шт)</td>\n",
       "      <td>NaN</td>\n",
       "      <td>[f, спонж, дмакияжа, фигурный, шт]</td>\n",
       "    </tr>\n",
       "    <tr>\n",
       "      <th>1029996</th>\n",
       "      <td>4 5702737510597 69.88 Дифф/Arom/1601</td>\n",
       "      <td>NaN</td>\n",
       "      <td>[диффarom]</td>\n",
       "    </tr>\n",
       "    <tr>\n",
       "      <th>1029997</th>\n",
       "      <td>Матрас надувной 540*74см Tropical Bird запл.д/...</td>\n",
       "      <td>NaN</td>\n",
       "      <td>[матрас, надувной, 74см, tropical, bird, заплд...</td>\n",
       "    </tr>\n",
       "    <tr>\n",
       "      <th>1029998</th>\n",
       "      <td>пододеяльник СТМ Страйп 3-сп, размер: 796х185с...</td>\n",
       "      <td>NaN</td>\n",
       "      <td>[пододеяльник, стм, страйп, сп, размер, 796х18...</td>\n",
       "    </tr>\n",
       "    <tr>\n",
       "      <th>1029999</th>\n",
       "      <td>Пакет ламинированный вертикальный ?Чудесных мг...</td>\n",
       "      <td>NaN</td>\n",
       "      <td>[пакет, ламинированный, вертикальный, чудесных...</td>\n",
       "    </tr>\n",
       "  </tbody>\n",
       "</table>\n",
       "<p>1030000 rows × 3 columns</p>\n",
       "</div>"
      ],
      "text/plain": [
       "                                                      name  id  \\\n",
       "0                  Petmax Бантик леопард с красн розой 2шт NaN   \n",
       "1                         87191 Бусы для елки шарики_87191 NaN   \n",
       "2                       Футболка Piazza Italia WR011446881 NaN   \n",
       "3           7) YI572-03X-ONE ЗАКОЛКА ДЛЯ ВОЛОС ДЛЯ ДЕВОЧКИ NaN   \n",
       "4                                        Одежда (вес) 1500 NaN   \n",
       "...                                                    ...  ..   \n",
       "1029995              F-2296  Спонж д/макияжа фигурный (шт) NaN   \n",
       "1029996               4 5702737510597 69.88 Дифф/Arom/1601 NaN   \n",
       "1029997  Матрас надувной 540*74см Tropical Bird запл.д/... NaN   \n",
       "1029998  пододеяльник СТМ Страйп 3-сп, размер: 796х185с... NaN   \n",
       "1029999  Пакет ламинированный вертикальный ?Чудесных мг... NaN   \n",
       "\n",
       "                                                    tokens  \n",
       "0             [petmax, бантик, леопард, красн, розой, 2шт]  \n",
       "1                               [бусы, елки, шарики_87191]  \n",
       "2                  [футболка, piazza, italia, wr011446881]  \n",
       "3                   [yi57203xone, заколка, волос, девочки]  \n",
       "4                                            [одежда, вес]  \n",
       "...                                                    ...  \n",
       "1029995                 [f, спонж, дмакияжа, фигурный, шт]  \n",
       "1029996                                         [диффarom]  \n",
       "1029997  [матрас, надувной, 74см, tropical, bird, заплд...  \n",
       "1029998  [пододеяльник, стм, страйп, сп, размер, 796х18...  \n",
       "1029999  [пакет, ламинированный, вертикальный, чудесных...  \n",
       "\n",
       "[1030000 rows x 3 columns]"
      ]
     },
     "execution_count": 17,
     "metadata": {},
     "output_type": "execute_result"
    }
   ],
   "source": [
    "names[\"tokens\"] = names[\"name\"].apply(preprocess_text)\n",
    "names"
   ]
  },
  {
   "cell_type": "code",
   "execution_count": 18,
   "id": "32ba0d72",
   "metadata": {},
   "outputs": [
    {
     "data": {
      "text/html": [
       "<div>\n",
       "<style scoped>\n",
       "    .dataframe tbody tr th:only-of-type {\n",
       "        vertical-align: middle;\n",
       "    }\n",
       "\n",
       "    .dataframe tbody tr th {\n",
       "        vertical-align: top;\n",
       "    }\n",
       "\n",
       "    .dataframe thead th {\n",
       "        text-align: right;\n",
       "    }\n",
       "</style>\n",
       "<table border=\"1\" class=\"dataframe\">\n",
       "  <thead>\n",
       "    <tr style=\"text-align: right;\">\n",
       "      <th></th>\n",
       "      <th>name</th>\n",
       "      <th>id</th>\n",
       "      <th>tokens</th>\n",
       "    </tr>\n",
       "  </thead>\n",
       "  <tbody>\n",
       "    <tr>\n",
       "      <th>0</th>\n",
       "      <td>Petmax Бантик леопард с красн розой 2шт</td>\n",
       "      <td>NaN</td>\n",
       "      <td>[petmax, бантик, леопард, красн, розой, 2шт]</td>\n",
       "    </tr>\n",
       "    <tr>\n",
       "      <th>1</th>\n",
       "      <td>87191 Бусы для елки шарики_87191</td>\n",
       "      <td>NaN</td>\n",
       "      <td>[бусы, елки, шарики_87191]</td>\n",
       "    </tr>\n",
       "    <tr>\n",
       "      <th>2</th>\n",
       "      <td>Футболка Piazza Italia WR011446881</td>\n",
       "      <td>NaN</td>\n",
       "      <td>[футболка, piazza, italia, wr011446881]</td>\n",
       "    </tr>\n",
       "    <tr>\n",
       "      <th>3</th>\n",
       "      <td>7) YI572-03X-ONE ЗАКОЛКА ДЛЯ ВОЛОС ДЛЯ ДЕВОЧКИ</td>\n",
       "      <td>NaN</td>\n",
       "      <td>[yi57203xone, заколка, волос, девочки]</td>\n",
       "    </tr>\n",
       "    <tr>\n",
       "      <th>4</th>\n",
       "      <td>Одежда (вес) 1500</td>\n",
       "      <td>NaN</td>\n",
       "      <td>[одежда, вес]</td>\n",
       "    </tr>\n",
       "    <tr>\n",
       "      <th>...</th>\n",
       "      <td>...</td>\n",
       "      <td>...</td>\n",
       "      <td>...</td>\n",
       "    </tr>\n",
       "    <tr>\n",
       "      <th>1029995</th>\n",
       "      <td>F-2296  Спонж д/макияжа фигурный (шт)</td>\n",
       "      <td>NaN</td>\n",
       "      <td>[f, спонж, дмакияжа, фигурный, шт]</td>\n",
       "    </tr>\n",
       "    <tr>\n",
       "      <th>1029996</th>\n",
       "      <td>4 5702737510597 69.88 Дифф/Arom/1601</td>\n",
       "      <td>NaN</td>\n",
       "      <td>[диффarom]</td>\n",
       "    </tr>\n",
       "    <tr>\n",
       "      <th>1029997</th>\n",
       "      <td>Матрас надувной 540*74см Tropical Bird запл.д/...</td>\n",
       "      <td>NaN</td>\n",
       "      <td>[матрас, надувной, 74см, tropical, bird, заплд...</td>\n",
       "    </tr>\n",
       "    <tr>\n",
       "      <th>1029998</th>\n",
       "      <td>пододеяльник СТМ Страйп 3-сп, размер: 796х185с...</td>\n",
       "      <td>NaN</td>\n",
       "      <td>[пододеяльник, стм, страйп, сп, размер, 796х18...</td>\n",
       "    </tr>\n",
       "    <tr>\n",
       "      <th>1029999</th>\n",
       "      <td>Пакет ламинированный вертикальный ?Чудесных мг...</td>\n",
       "      <td>NaN</td>\n",
       "      <td>[пакет, ламинированный, вертикальный, чудесных...</td>\n",
       "    </tr>\n",
       "  </tbody>\n",
       "</table>\n",
       "<p>1030000 rows × 3 columns</p>\n",
       "</div>"
      ],
      "text/plain": [
       "                                                      name  id  \\\n",
       "0                  Petmax Бантик леопард с красн розой 2шт NaN   \n",
       "1                         87191 Бусы для елки шарики_87191 NaN   \n",
       "2                       Футболка Piazza Italia WR011446881 NaN   \n",
       "3           7) YI572-03X-ONE ЗАКОЛКА ДЛЯ ВОЛОС ДЛЯ ДЕВОЧКИ NaN   \n",
       "4                                        Одежда (вес) 1500 NaN   \n",
       "...                                                    ...  ..   \n",
       "1029995              F-2296  Спонж д/макияжа фигурный (шт) NaN   \n",
       "1029996               4 5702737510597 69.88 Дифф/Arom/1601 NaN   \n",
       "1029997  Матрас надувной 540*74см Tropical Bird запл.д/... NaN   \n",
       "1029998  пододеяльник СТМ Страйп 3-сп, размер: 796х185с... NaN   \n",
       "1029999  Пакет ламинированный вертикальный ?Чудесных мг... NaN   \n",
       "\n",
       "                                                    tokens  \n",
       "0             [petmax, бантик, леопард, красн, розой, 2шт]  \n",
       "1                               [бусы, елки, шарики_87191]  \n",
       "2                  [футболка, piazza, italia, wr011446881]  \n",
       "3                   [yi57203xone, заколка, волос, девочки]  \n",
       "4                                            [одежда, вес]  \n",
       "...                                                    ...  \n",
       "1029995                 [f, спонж, дмакияжа, фигурный, шт]  \n",
       "1029996                                         [диффarom]  \n",
       "1029997  [матрас, надувной, 74см, tropical, bird, заплд...  \n",
       "1029998  [пододеяльник, стм, страйп, сп, размер, 796х18...  \n",
       "1029999  [пакет, ламинированный, вертикальный, чудесных...  \n",
       "\n",
       "[1030000 rows x 3 columns]"
      ]
     },
     "execution_count": 18,
     "metadata": {},
     "output_type": "execute_result"
    }
   ],
   "source": [
    "names"
   ]
  },
  {
   "cell_type": "code",
   "execution_count": 19,
   "id": "034fb1c5",
   "metadata": {},
   "outputs": [],
   "source": [
    "class SentenceGenerator(object):\n",
    "    def __init__(self, dataframe):\n",
    "        self.dataframe = dataframe\n",
    "\n",
    "    def __iter__(self):\n",
    "        for index, row in self.dataframe.iterrows():\n",
    "            yield row['tokens']\n",
    "\n",
    "sentences = SentenceGenerator(names)"
   ]
  },
  {
   "cell_type": "markdown",
   "id": "6036dc55",
   "metadata": {},
   "source": [
    "Обученные векторы положим в файл `fasttext.model` для использования в моделях"
   ]
  },
  {
   "cell_type": "code",
   "execution_count": 19,
   "id": "bca4fbe1",
   "metadata": {
    "ExecuteTime": {
     "end_time": "2023-06-08T10:20:11.978458900Z",
     "start_time": "2023-06-08T10:20:03.668319100Z"
    }
   },
   "outputs": [
    {
     "name": "stderr",
     "output_type": "stream",
     "text": [
      "\n",
      "KeyboardInterrupt\n",
      "\n"
     ]
    }
   ],
   "source": [
    "FastText(sentences, vector_size=300, window=5, min_count=5, epochs=50).save(\"fasttext.model\")"
   ]
  },
  {
   "cell_type": "code",
   "execution_count": null,
   "id": "1f0a3c92",
   "metadata": {},
   "outputs": [],
   "source": []
  }
 ],
 "metadata": {
  "kernelspec": {
   "display_name": "py",
   "language": "python",
   "name": "py"
  },
  "language_info": {
   "codemirror_mode": {
    "name": "ipython",
    "version": 3
   },
   "file_extension": ".py",
   "mimetype": "text/x-python",
   "name": "python",
   "nbconvert_exporter": "python",
   "pygments_lexer": "ipython3",
   "version": "3.9.16"
  }
 },
 "nbformat": 4,
 "nbformat_minor": 5
}
