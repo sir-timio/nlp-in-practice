{
 "cells": [
  {
   "cell_type": "markdown",
   "id": "ed64b487",
   "metadata": {},
   "source": [
    "# Обучение FastText\n",
    "\n",
    "В бейзлайне предполагается использовать векторы из библиотеки FastText, которые в данном ноутбуке обучатся на домен чеков"
   ]
  },
  {
   "cell_type": "code",
   "execution_count": 2,
   "id": "0025de88",
   "metadata": {
    "ExecuteTime": {
     "end_time": "2023-06-08T10:20:03.393807600Z",
     "start_time": "2023-06-08T10:20:02.596348500Z"
    }
   },
   "outputs": [],
   "source": [
    "from gensim.models.fasttext import FastText\n",
    "import pandas as pd\n",
    "import numpy as np"
   ]
  },
  {
   "cell_type": "markdown",
   "id": "23e7a9f8",
   "metadata": {},
   "source": [
    "Выгрузим все чеки из размеченного датасета для обучения, а также из тестового датасета"
   ]
  },
  {
   "cell_type": "code",
   "execution_count": 3,
   "id": "066858b0",
   "metadata": {
    "ExecuteTime": {
     "end_time": "2023-06-08T10:20:03.493889400Z",
     "start_time": "2023-06-08T10:20:03.396902400Z"
    }
   },
   "outputs": [
    {
     "data": {
      "text/html": [
       "<div>\n",
       "<style scoped>\n",
       "    .dataframe tbody tr th:only-of-type {\n",
       "        vertical-align: middle;\n",
       "    }\n",
       "\n",
       "    .dataframe tbody tr th {\n",
       "        vertical-align: top;\n",
       "    }\n",
       "\n",
       "    .dataframe thead th {\n",
       "        text-align: right;\n",
       "    }\n",
       "</style>\n",
       "<table border=\"1\" class=\"dataframe\">\n",
       "  <thead>\n",
       "    <tr style=\"text-align: right;\">\n",
       "      <th></th>\n",
       "      <th>name</th>\n",
       "      <th>id</th>\n",
       "    </tr>\n",
       "  </thead>\n",
       "  <tbody>\n",
       "    <tr>\n",
       "      <th>0</th>\n",
       "      <td>Petmax Бантик леопард с красн розой 2шт</td>\n",
       "      <td>NaN</td>\n",
       "    </tr>\n",
       "    <tr>\n",
       "      <th>1</th>\n",
       "      <td>87191 Бусы для елки шарики_87191</td>\n",
       "      <td>NaN</td>\n",
       "    </tr>\n",
       "    <tr>\n",
       "      <th>2</th>\n",
       "      <td>Футболка Piazza Italia WR011446881</td>\n",
       "      <td>NaN</td>\n",
       "    </tr>\n",
       "    <tr>\n",
       "      <th>3</th>\n",
       "      <td>7) YI572-03X-ONE ЗАКОЛКА ДЛЯ ВОЛОС ДЛЯ ДЕВОЧКИ</td>\n",
       "      <td>NaN</td>\n",
       "    </tr>\n",
       "    <tr>\n",
       "      <th>4</th>\n",
       "      <td>Одежда (вес) 1500</td>\n",
       "      <td>NaN</td>\n",
       "    </tr>\n",
       "    <tr>\n",
       "      <th>...</th>\n",
       "      <td>...</td>\n",
       "      <td>...</td>\n",
       "    </tr>\n",
       "    <tr>\n",
       "      <th>1029995</th>\n",
       "      <td>F-2296  Спонж д/макияжа фигурный (шт)</td>\n",
       "      <td>NaN</td>\n",
       "    </tr>\n",
       "    <tr>\n",
       "      <th>1029996</th>\n",
       "      <td>4 5702737510597 69.88 Дифф/Arom/1601</td>\n",
       "      <td>NaN</td>\n",
       "    </tr>\n",
       "    <tr>\n",
       "      <th>1029997</th>\n",
       "      <td>Матрас надувной 540*74см Tropical Bird запл.д/...</td>\n",
       "      <td>NaN</td>\n",
       "    </tr>\n",
       "    <tr>\n",
       "      <th>1029998</th>\n",
       "      <td>пододеяльник СТМ Страйп 3-сп, размер: 796х185с...</td>\n",
       "      <td>NaN</td>\n",
       "    </tr>\n",
       "    <tr>\n",
       "      <th>1029999</th>\n",
       "      <td>Пакет ламинированный вертикальный ?Чудесных мг...</td>\n",
       "      <td>NaN</td>\n",
       "    </tr>\n",
       "  </tbody>\n",
       "</table>\n",
       "<p>1030000 rows × 2 columns</p>\n",
       "</div>"
      ],
      "text/plain": [
       "                                                      name  id\n",
       "0                  Petmax Бантик леопард с красн розой 2шт NaN\n",
       "1                         87191 Бусы для елки шарики_87191 NaN\n",
       "2                       Футболка Piazza Italia WR011446881 NaN\n",
       "3           7) YI572-03X-ONE ЗАКОЛКА ДЛЯ ВОЛОС ДЛЯ ДЕВОЧКИ NaN\n",
       "4                                        Одежда (вес) 1500 NaN\n",
       "...                                                    ...  ..\n",
       "1029995              F-2296  Спонж д/макияжа фигурный (шт) NaN\n",
       "1029996               4 5702737510597 69.88 Дифф/Arom/1601 NaN\n",
       "1029997  Матрас надувной 540*74см Tropical Bird запл.д/... NaN\n",
       "1029998  пододеяльник СТМ Страйп 3-сп, размер: 796х185с... NaN\n",
       "1029999  Пакет ламинированный вертикальный ?Чудесных мг... NaN\n",
       "\n",
       "[1030000 rows x 2 columns]"
      ]
     },
     "execution_count": 3,
     "metadata": {},
     "output_type": "execute_result"
    }
   ],
   "source": [
    "train_df = pd.read_csv(\"data/train_supervised_dataset.csv\").fillna(\"\")\n",
    "uns_train_df = pd.read_csv(\"data/train_unsupervised_dataset.csv\").fillna(\"\")\n",
    "test_df = pd.read_csv(\"data/test_dataset.csv\")\n",
    "names = pd.concat((train_df[[\"name\"]], test_df, uns_train_df[[\"name\"]])).reset_index(drop=True)\n",
    "names"
   ]
  },
  {
   "cell_type": "code",
   "execution_count": 4,
   "id": "db75d116",
   "metadata": {},
   "outputs": [
    {
     "data": {
      "text/plain": [
       "               0.03276\n",
       "брюки          0.01356\n",
       "пиво           0.01308\n",
       "вода           0.01232\n",
       "печенье        0.01164\n",
       "                ...   \n",
       "молитвослов    0.00004\n",
       "медведь        0.00004\n",
       "супница        0.00004\n",
       "овчина         0.00004\n",
       "поддон         0.00004\n",
       "Name: good, Length: 2820, dtype: float64"
      ]
     },
     "execution_count": 4,
     "metadata": {},
     "output_type": "execute_result"
    }
   ],
   "source": [
    "train_df['good'].value_counts(1)"
   ]
  },
  {
   "cell_type": "code",
   "execution_count": 5,
   "id": "f38143c0",
   "metadata": {},
   "outputs": [
    {
     "data": {
      "text/plain": [
       "                        0.34020\n",
       "яшкино                  0.00480\n",
       "агуша                   0.00364\n",
       "коровка из кореновки    0.00272\n",
       "махеевъ                 0.00252\n",
       "                         ...   \n",
       "пласти лаб              0.00004\n",
       "феррогематоген          0.00004\n",
       "cbr                     0.00004\n",
       "helcom                  0.00004\n",
       "smail                   0.00004\n",
       "Name: brand, Length: 6976, dtype: float64"
      ]
     },
     "execution_count": 5,
     "metadata": {},
     "output_type": "execute_result"
    }
   ],
   "source": [
    "train_df['brand'].value_counts(1)"
   ]
  },
  {
   "cell_type": "code",
   "execution_count": 6,
   "id": "ad32086a",
   "metadata": {},
   "outputs": [],
   "source": [
    "from natasha import (\n",
    "    Segmenter,\n",
    "    MorphVocab,\n",
    "    \n",
    "    NewsEmbedding,\n",
    "    NewsMorphTagger,\n",
    "    NewsSyntaxParser,\n",
    "    NewsNERTagger,\n",
    "    \n",
    "    PER,\n",
    "    NamesExtractor,\n",
    "\n",
    "    Doc\n",
    ")"
   ]
  },
  {
   "cell_type": "code",
   "execution_count": 7,
   "id": "b45b8291",
   "metadata": {},
   "outputs": [],
   "source": [
    "segmenter = Segmenter()\n",
    "morph_vocab = MorphVocab()\n",
    "emb = NewsEmbedding()\n",
    "morph_tagger = NewsMorphTagger(emb)\n",
    "syntax_parser = NewsSyntaxParser(emb)\n",
    "\n",
    "names_extractor = NamesExtractor(morph_vocab)"
   ]
  },
  {
   "cell_type": "code",
   "execution_count": 8,
   "id": "e5f3349a",
   "metadata": {},
   "outputs": [],
   "source": [
    "def lemmatize(words):\n",
    "    text = ' '.join(words)\n",
    "    \n",
    "    doc = Doc(text)\n",
    "    doc.segment(segmenter)\n",
    "    doc.tag_morph(morph_tagger)\n",
    "    for token in doc.tokens:\n",
    "        token.lemmatize(morph_vocab)\n",
    "    \n",
    "    words = []\n",
    "    for token in doc.tokens:\n",
    "        words.append(token.lemma)\n",
    "    return words"
   ]
  },
  {
   "cell_type": "code",
   "execution_count": 28,
   "id": "df74a803",
   "metadata": {},
   "outputs": [],
   "source": [
    "import re\n",
    "\n",
    "from cyrtranslit import to_cyrillic\n",
    "\n",
    "def preprocess_text(text):\n",
    "    \n",
    "    text = re.sub('\\d+', '0', text)  # replace numbers to 0/''\n",
    "    text = re.sub(r'(?<=[a-zа-я])([A-ZА-Я])', r' \\1', text) # сплитим по заглав. букв\n",
    "    text = re.sub('д/', 'для ', text)\n",
    "    text = re.sub(r'\\s+', ' ', text)  # remove extra spaces\n",
    "    text = re.sub(r'[^\\w\\s]', ' ', text)  # remove punctuation\n",
    "    words = []\n",
    "    for w in text.lower().split():\n",
    "        if bool(re.search('[a-z]', w)) and bool(re.search('[а-я]', w)):\n",
    "            words.append(to_cyrillic(w))\n",
    "        else:\n",
    "            words.append(w)\n",
    "#     words = lemmatize(words)\n",
    "    return words"
   ]
  },
  {
   "cell_type": "code",
   "execution_count": 29,
   "id": "5ea07941",
   "metadata": {},
   "outputs": [
    {
     "data": {
      "text/plain": [
       "'ID180886 Бассейн Intex'"
      ]
     },
     "execution_count": 29,
     "metadata": {},
     "output_type": "execute_result"
    }
   ],
   "source": [
    "text = names['name'].sample().values[0]\n",
    "text"
   ]
  },
  {
   "cell_type": "code",
   "execution_count": 30,
   "id": "5e08226f",
   "metadata": {},
   "outputs": [
    {
     "name": "stdout",
     "output_type": "stream",
     "text": [
      "11.8 µs ± 486 ns per loop (mean ± std. dev. of 7 runs, 100,000 loops each)\n"
     ]
    }
   ],
   "source": [
    "%%timeit\n",
    "preprocess_text(text)"
   ]
  },
  {
   "cell_type": "code",
   "execution_count": 31,
   "id": "467fa218",
   "metadata": {},
   "outputs": [
    {
     "data": {
      "text/plain": [
       "['id0', 'бассейн', 'intex']"
      ]
     },
     "execution_count": 31,
     "metadata": {},
     "output_type": "execute_result"
    }
   ],
   "source": [
    "preprocess_text(text)"
   ]
  },
  {
   "cell_type": "code",
   "execution_count": 32,
   "id": "2dddc22e",
   "metadata": {
    "ExecuteTime": {
     "end_time": "2023-06-08T10:20:03.638597600Z",
     "start_time": "2023-06-08T10:20:03.495407300Z"
    }
   },
   "outputs": [
    {
     "name": "stdout",
     "output_type": "stream",
     "text": [
      "CPU times: user 22 s, sys: 648 ms, total: 22.6 s\n",
      "Wall time: 22.6 s\n"
     ]
    },
    {
     "data": {
      "text/html": [
       "<div>\n",
       "<style scoped>\n",
       "    .dataframe tbody tr th:only-of-type {\n",
       "        vertical-align: middle;\n",
       "    }\n",
       "\n",
       "    .dataframe tbody tr th {\n",
       "        vertical-align: top;\n",
       "    }\n",
       "\n",
       "    .dataframe thead th {\n",
       "        text-align: right;\n",
       "    }\n",
       "</style>\n",
       "<table border=\"1\" class=\"dataframe\">\n",
       "  <thead>\n",
       "    <tr style=\"text-align: right;\">\n",
       "      <th></th>\n",
       "      <th>name</th>\n",
       "      <th>id</th>\n",
       "      <th>tokens</th>\n",
       "    </tr>\n",
       "  </thead>\n",
       "  <tbody>\n",
       "    <tr>\n",
       "      <th>0</th>\n",
       "      <td>Petmax Бантик леопард с красн розой 2шт</td>\n",
       "      <td>NaN</td>\n",
       "      <td>[petmax, бантик, леопард, с, красн, розой, 0шт]</td>\n",
       "    </tr>\n",
       "    <tr>\n",
       "      <th>1</th>\n",
       "      <td>87191 Бусы для елки шарики_87191</td>\n",
       "      <td>NaN</td>\n",
       "      <td>[0, бусы, для, елки, шарики_0]</td>\n",
       "    </tr>\n",
       "    <tr>\n",
       "      <th>2</th>\n",
       "      <td>Футболка Piazza Italia WR011446881</td>\n",
       "      <td>NaN</td>\n",
       "      <td>[футболка, piazza, italia, wr0]</td>\n",
       "    </tr>\n",
       "    <tr>\n",
       "      <th>3</th>\n",
       "      <td>7) YI572-03X-ONE ЗАКОЛКА ДЛЯ ВОЛОС ДЛЯ ДЕВОЧКИ</td>\n",
       "      <td>NaN</td>\n",
       "      <td>[0, yi0, 0x, one, заколка, для, волос, для, де...</td>\n",
       "    </tr>\n",
       "    <tr>\n",
       "      <th>4</th>\n",
       "      <td>Одежда (вес) 1500</td>\n",
       "      <td>NaN</td>\n",
       "      <td>[одежда, вес, 0]</td>\n",
       "    </tr>\n",
       "    <tr>\n",
       "      <th>...</th>\n",
       "      <td>...</td>\n",
       "      <td>...</td>\n",
       "      <td>...</td>\n",
       "    </tr>\n",
       "    <tr>\n",
       "      <th>1029995</th>\n",
       "      <td>F-2296  Спонж д/макияжа фигурный (шт)</td>\n",
       "      <td>NaN</td>\n",
       "      <td>[f, 0, спонж, для, макияжа, фигурный, шт]</td>\n",
       "    </tr>\n",
       "    <tr>\n",
       "      <th>1029996</th>\n",
       "      <td>4 5702737510597 69.88 Дифф/Arom/1601</td>\n",
       "      <td>NaN</td>\n",
       "      <td>[0, 0, 0, 0, дифф, arom, 0]</td>\n",
       "    </tr>\n",
       "    <tr>\n",
       "      <th>1029997</th>\n",
       "      <td>Матрас надувной 540*74см Tropical Bird запл.д/...</td>\n",
       "      <td>NaN</td>\n",
       "      <td>[матрас, надувной, 0, 0см, tropical, bird, зап...</td>\n",
       "    </tr>\n",
       "    <tr>\n",
       "      <th>1029998</th>\n",
       "      <td>пододеяльник СТМ Страйп 3-сп, размер: 796х185с...</td>\n",
       "      <td>NaN</td>\n",
       "      <td>[пододеяльник, стм, страйп, 0, сп, размер, 0х0...</td>\n",
       "    </tr>\n",
       "    <tr>\n",
       "      <th>1029999</th>\n",
       "      <td>Пакет ламинированный вертикальный ?Чудесных мг...</td>\n",
       "      <td>NaN</td>\n",
       "      <td>[пакет, ламинированный, вертикальный, чудесных...</td>\n",
       "    </tr>\n",
       "  </tbody>\n",
       "</table>\n",
       "<p>1030000 rows × 3 columns</p>\n",
       "</div>"
      ],
      "text/plain": [
       "                                                      name  id  \\\n",
       "0                  Petmax Бантик леопард с красн розой 2шт NaN   \n",
       "1                         87191 Бусы для елки шарики_87191 NaN   \n",
       "2                       Футболка Piazza Italia WR011446881 NaN   \n",
       "3           7) YI572-03X-ONE ЗАКОЛКА ДЛЯ ВОЛОС ДЛЯ ДЕВОЧКИ NaN   \n",
       "4                                        Одежда (вес) 1500 NaN   \n",
       "...                                                    ...  ..   \n",
       "1029995              F-2296  Спонж д/макияжа фигурный (шт) NaN   \n",
       "1029996               4 5702737510597 69.88 Дифф/Arom/1601 NaN   \n",
       "1029997  Матрас надувной 540*74см Tropical Bird запл.д/... NaN   \n",
       "1029998  пододеяльник СТМ Страйп 3-сп, размер: 796х185с... NaN   \n",
       "1029999  Пакет ламинированный вертикальный ?Чудесных мг... NaN   \n",
       "\n",
       "                                                    tokens  \n",
       "0          [petmax, бантик, леопард, с, красн, розой, 0шт]  \n",
       "1                           [0, бусы, для, елки, шарики_0]  \n",
       "2                          [футболка, piazza, italia, wr0]  \n",
       "3        [0, yi0, 0x, one, заколка, для, волос, для, де...  \n",
       "4                                         [одежда, вес, 0]  \n",
       "...                                                    ...  \n",
       "1029995          [f, 0, спонж, для, макияжа, фигурный, шт]  \n",
       "1029996                        [0, 0, 0, 0, дифф, arom, 0]  \n",
       "1029997  [матрас, надувной, 0, 0см, tropical, bird, зап...  \n",
       "1029998  [пододеяльник, стм, страйп, 0, сп, размер, 0х0...  \n",
       "1029999  [пакет, ламинированный, вертикальный, чудесных...  \n",
       "\n",
       "[1030000 rows x 3 columns]"
      ]
     },
     "execution_count": 32,
     "metadata": {},
     "output_type": "execute_result"
    }
   ],
   "source": [
    "%%time\n",
    "names[\"tokens\"] = names[\"name\"].apply(preprocess_text)\n",
    "names"
   ]
  },
  {
   "cell_type": "code",
   "execution_count": 27,
   "id": "230f8c69",
   "metadata": {},
   "outputs": [],
   "source": [
    "# names.to_csv('data/natasha_preprocc_names.csv', index=False)"
   ]
  },
  {
   "cell_type": "markdown",
   "id": "6036dc55",
   "metadata": {},
   "source": [
    "Обученные векторы положим в файл `fasttext.model` для использования в моделях"
   ]
  },
  {
   "cell_type": "code",
   "execution_count": 33,
   "id": "bca4fbe1",
   "metadata": {
    "ExecuteTime": {
     "end_time": "2023-06-08T10:20:11.978458900Z",
     "start_time": "2023-06-08T10:20:03.668319100Z"
    }
   },
   "outputs": [
    {
     "name": "stdout",
     "output_type": "stream",
     "text": [
      "CPU times: user 3min 27s, sys: 4.06 s, total: 3min 31s\n",
      "Wall time: 1min 19s\n"
     ]
    }
   ],
   "source": [
    "%%time\n",
    "FastText(names[\"tokens\"], vector_size=128, window=5, min_count=5).save(\"fasttext_models/fasttext_128_cap_split.model\")"
   ]
  },
  {
   "cell_type": "code",
   "execution_count": null,
   "id": "1f0a3c92",
   "metadata": {},
   "outputs": [],
   "source": []
  }
 ],
 "metadata": {
  "kernelspec": {
   "display_name": "py",
   "language": "python",
   "name": "py"
  },
  "language_info": {
   "codemirror_mode": {
    "name": "ipython",
    "version": 3
   },
   "file_extension": ".py",
   "mimetype": "text/x-python",
   "name": "python",
   "nbconvert_exporter": "python",
   "pygments_lexer": "ipython3",
   "version": "3.9.16"
  }
 },
 "nbformat": 4,
 "nbformat_minor": 5
}
