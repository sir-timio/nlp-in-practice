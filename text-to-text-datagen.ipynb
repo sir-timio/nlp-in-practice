{
 "cells": [
  {
   "cell_type": "code",
   "execution_count": 1,
   "id": "0025de88",
   "metadata": {
    "ExecuteTime": {
     "end_time": "2023-06-08T10:20:03.393807600Z",
     "start_time": "2023-06-08T10:20:02.596348500Z"
    }
   },
   "outputs": [],
   "source": [
    "import pandas as pd\n",
    "import numpy as np"
   ]
  },
  {
   "cell_type": "code",
   "execution_count": 2,
   "id": "066858b0",
   "metadata": {
    "ExecuteTime": {
     "end_time": "2023-06-08T10:20:03.493889400Z",
     "start_time": "2023-06-08T10:20:03.396902400Z"
    }
   },
   "outputs": [],
   "source": [
    "train_df = pd.read_csv(\"data/train_supervised_dataset.csv\").fillna(\"\")\n",
    "test_df = pd.read_csv(\"data/test_dataset.csv\").fillna(\"\")"
   ]
  },
  {
   "cell_type": "code",
   "execution_count": 3,
   "id": "046d03f5",
   "metadata": {},
   "outputs": [
    {
     "data": {
      "text/plain": [
       "25000"
      ]
     },
     "execution_count": 3,
     "metadata": {},
     "output_type": "execute_result"
    }
   ],
   "source": [
    "len(train_df)"
   ]
  },
  {
   "cell_type": "code",
   "execution_count": null,
   "id": "2a8e14d5",
   "metadata": {},
   "outputs": [],
   "source": [
    "len(train_df.drop_duplicates())"
   ]
  },
  {
   "cell_type": "code",
   "execution_count": 8,
   "id": "4844bc97",
   "metadata": {},
   "outputs": [],
   "source": [
    "df = pd.concat([train_df, test_df])"
   ]
  },
  {
   "cell_type": "code",
   "execution_count": 10,
   "id": "c04946c4",
   "metadata": {},
   "outputs": [
    {
     "data": {
      "text/plain": [
       "30000"
      ]
     },
     "execution_count": 10,
     "metadata": {},
     "output_type": "execute_result"
    }
   ],
   "source": [
    "len(df)"
   ]
  },
  {
   "cell_type": "code",
   "execution_count": 11,
   "id": "e2ddf761",
   "metadata": {},
   "outputs": [
    {
     "data": {
      "text/plain": [
       "29994"
      ]
     },
     "execution_count": 11,
     "metadata": {},
     "output_type": "execute_result"
    }
   ],
   "source": [
    "len(df.drop_duplicates(subset=['name']))"
   ]
  },
  {
   "cell_type": "code",
   "execution_count": 17,
   "id": "129cd526",
   "metadata": {},
   "outputs": [
    {
     "data": {
      "text/html": [
       "<div>\n",
       "<style scoped>\n",
       "    .dataframe tbody tr th:only-of-type {\n",
       "        vertical-align: middle;\n",
       "    }\n",
       "\n",
       "    .dataframe tbody tr th {\n",
       "        vertical-align: top;\n",
       "    }\n",
       "\n",
       "    .dataframe thead th {\n",
       "        text-align: right;\n",
       "    }\n",
       "</style>\n",
       "<table border=\"1\" class=\"dataframe\">\n",
       "  <thead>\n",
       "    <tr style=\"text-align: right;\">\n",
       "      <th></th>\n",
       "      <th>id</th>\n",
       "      <th>name</th>\n",
       "      <th>good</th>\n",
       "      <th>brand</th>\n",
       "    </tr>\n",
       "  </thead>\n",
       "  <tbody>\n",
       "    <tr>\n",
       "      <th>7494</th>\n",
       "      <td>7494</td>\n",
       "      <td>Корм д/кошек Friskies кролик-ово</td>\n",
       "      <td>корм</td>\n",
       "      <td>friskies</td>\n",
       "    </tr>\n",
       "    <tr>\n",
       "      <th>10923</th>\n",
       "      <td>10923</td>\n",
       "      <td>БХ Мыло хоз.Аист 72п      150г</td>\n",
       "      <td>мыло</td>\n",
       "      <td>аист</td>\n",
       "    </tr>\n",
       "    <tr>\n",
       "      <th>13143</th>\n",
       "      <td>13143</td>\n",
       "      <td>Коктейль молочный Растишка 210гр  фруктовый ле...</td>\n",
       "      <td>коктейль</td>\n",
       "      <td>растишка</td>\n",
       "    </tr>\n",
       "    <tr>\n",
       "      <th>14608</th>\n",
       "      <td>14608</td>\n",
       "      <td>Липецкий Бювет вода артезианская 1.5</td>\n",
       "      <td>вода</td>\n",
       "      <td>липецкий бювет</td>\n",
       "    </tr>\n",
       "    <tr>\n",
       "      <th>17828</th>\n",
       "      <td>17828</td>\n",
       "      <td>Тесто слоеное Морозко б.др400 АКЦИЯ</td>\n",
       "      <td>тесто</td>\n",
       "      <td>морозко</td>\n",
       "    </tr>\n",
       "    <tr>\n",
       "      <th>24396</th>\n",
       "      <td>24396</td>\n",
       "      <td>МЕ2093535 Светильник встраиваемый 32643 поворо...</td>\n",
       "      <td>светильник</td>\n",
       "      <td>feron</td>\n",
       "    </tr>\n",
       "  </tbody>\n",
       "</table>\n",
       "</div>"
      ],
      "text/plain": [
       "          id                                               name        good  \\\n",
       "7494    7494                   Корм д/кошек Friskies кролик-ово        корм   \n",
       "10923  10923                     БХ Мыло хоз.Аист 72п      150г        мыло   \n",
       "13143  13143  Коктейль молочный Растишка 210гр  фруктовый ле...    коктейль   \n",
       "14608  14608               Липецкий Бювет вода артезианская 1.5        вода   \n",
       "17828  17828                Тесто слоеное Морозко б.др400 АКЦИЯ       тесто   \n",
       "24396  24396  МЕ2093535 Светильник встраиваемый 32643 поворо...  светильник   \n",
       "\n",
       "                brand  \n",
       "7494         friskies  \n",
       "10923            аист  \n",
       "13143        растишка  \n",
       "14608  липецкий бювет  \n",
       "17828         морозко  \n",
       "24396           feron  "
      ]
     },
     "execution_count": 17,
     "metadata": {},
     "output_type": "execute_result"
    }
   ],
   "source": [
    "df[df.duplicated(subset=['name'])]"
   ]
  },
  {
   "cell_type": "code",
   "execution_count": 19,
   "id": "044c4b94",
   "metadata": {},
   "outputs": [
    {
     "data": {
      "text/html": [
       "<div>\n",
       "<style scoped>\n",
       "    .dataframe tbody tr th:only-of-type {\n",
       "        vertical-align: middle;\n",
       "    }\n",
       "\n",
       "    .dataframe tbody tr th {\n",
       "        vertical-align: top;\n",
       "    }\n",
       "\n",
       "    .dataframe thead th {\n",
       "        text-align: right;\n",
       "    }\n",
       "</style>\n",
       "<table border=\"1\" class=\"dataframe\">\n",
       "  <thead>\n",
       "    <tr style=\"text-align: right;\">\n",
       "      <th></th>\n",
       "      <th>id</th>\n",
       "      <th>name</th>\n",
       "      <th>good</th>\n",
       "      <th>brand</th>\n",
       "    </tr>\n",
       "  </thead>\n",
       "  <tbody>\n",
       "    <tr>\n",
       "      <th>7494</th>\n",
       "      <td>7494</td>\n",
       "      <td>Корм д/кошек Friskies кролик-ово</td>\n",
       "      <td>корм</td>\n",
       "      <td>friskies</td>\n",
       "    </tr>\n",
       "    <tr>\n",
       "      <th>10923</th>\n",
       "      <td>10923</td>\n",
       "      <td>БХ Мыло хоз.Аист 72п      150г</td>\n",
       "      <td>мыло</td>\n",
       "      <td>аист</td>\n",
       "    </tr>\n",
       "    <tr>\n",
       "      <th>13143</th>\n",
       "      <td>13143</td>\n",
       "      <td>Коктейль молочный Растишка 210гр  фруктовый ле...</td>\n",
       "      <td>коктейль</td>\n",
       "      <td>растишка</td>\n",
       "    </tr>\n",
       "    <tr>\n",
       "      <th>14608</th>\n",
       "      <td>14608</td>\n",
       "      <td>Липецкий Бювет вода артезианская 1.5</td>\n",
       "      <td>вода</td>\n",
       "      <td>липецкий бювет</td>\n",
       "    </tr>\n",
       "    <tr>\n",
       "      <th>17828</th>\n",
       "      <td>17828</td>\n",
       "      <td>Тесто слоеное Морозко б.др400 АКЦИЯ</td>\n",
       "      <td>тесто</td>\n",
       "      <td>морозко</td>\n",
       "    </tr>\n",
       "    <tr>\n",
       "      <th>24396</th>\n",
       "      <td>24396</td>\n",
       "      <td>МЕ2093535 Светильник встраиваемый 32643 поворо...</td>\n",
       "      <td>светильник</td>\n",
       "      <td>feron</td>\n",
       "    </tr>\n",
       "  </tbody>\n",
       "</table>\n",
       "</div>"
      ],
      "text/plain": [
       "          id                                               name        good  \\\n",
       "7494    7494                   Корм д/кошек Friskies кролик-ово        корм   \n",
       "10923  10923                     БХ Мыло хоз.Аист 72п      150г        мыло   \n",
       "13143  13143  Коктейль молочный Растишка 210гр  фруктовый ле...    коктейль   \n",
       "14608  14608               Липецкий Бювет вода артезианская 1.5        вода   \n",
       "17828  17828                Тесто слоеное Морозко б.др400 АКЦИЯ       тесто   \n",
       "24396  24396  МЕ2093535 Светильник встраиваемый 32643 поворо...  светильник   \n",
       "\n",
       "                brand  \n",
       "7494         friskies  \n",
       "10923            аист  \n",
       "13143        растишка  \n",
       "14608  липецкий бювет  \n",
       "17828         морозко  \n",
       "24396           feron  "
      ]
     },
     "execution_count": 19,
     "metadata": {},
     "output_type": "execute_result"
    }
   ],
   "source": [
    "train_df[train_df.duplicated(subset=['name'])]"
   ]
  },
  {
   "cell_type": "code",
   "execution_count": 22,
   "id": "ecd9fa08",
   "metadata": {},
   "outputs": [
    {
     "data": {
      "text/html": [
       "<div>\n",
       "<style scoped>\n",
       "    .dataframe tbody tr th:only-of-type {\n",
       "        vertical-align: middle;\n",
       "    }\n",
       "\n",
       "    .dataframe tbody tr th {\n",
       "        vertical-align: top;\n",
       "    }\n",
       "\n",
       "    .dataframe thead th {\n",
       "        text-align: right;\n",
       "    }\n",
       "</style>\n",
       "<table border=\"1\" class=\"dataframe\">\n",
       "  <thead>\n",
       "    <tr style=\"text-align: right;\">\n",
       "      <th></th>\n",
       "      <th>id</th>\n",
       "      <th>name</th>\n",
       "      <th>good</th>\n",
       "      <th>brand</th>\n",
       "    </tr>\n",
       "  </thead>\n",
       "  <tbody>\n",
       "    <tr>\n",
       "      <th>4201</th>\n",
       "      <td>4201</td>\n",
       "      <td>Корм д/кошек Friskies кролик-ово</td>\n",
       "      <td>корм</td>\n",
       "      <td>friskies</td>\n",
       "    </tr>\n",
       "    <tr>\n",
       "      <th>7494</th>\n",
       "      <td>7494</td>\n",
       "      <td>Корм д/кошек Friskies кролик-ово</td>\n",
       "      <td>корм</td>\n",
       "      <td>friskies</td>\n",
       "    </tr>\n",
       "  </tbody>\n",
       "</table>\n",
       "</div>"
      ],
      "text/plain": [
       "        id                              name  good     brand\n",
       "4201  4201  Корм д/кошек Friskies кролик-ово  корм  friskies\n",
       "7494  7494  Корм д/кошек Friskies кролик-ово  корм  friskies"
      ]
     },
     "execution_count": 22,
     "metadata": {},
     "output_type": "execute_result"
    }
   ],
   "source": [
    "train_df[train_df['name'] == 'Корм д/кошек Friskies кролик-ово']"
   ]
  },
  {
   "cell_type": "code",
   "execution_count": 18,
   "id": "89300ee7",
   "metadata": {},
   "outputs": [
    {
     "data": {
      "text/html": [
       "<div>\n",
       "<style scoped>\n",
       "    .dataframe tbody tr th:only-of-type {\n",
       "        vertical-align: middle;\n",
       "    }\n",
       "\n",
       "    .dataframe tbody tr th {\n",
       "        vertical-align: top;\n",
       "    }\n",
       "\n",
       "    .dataframe thead th {\n",
       "        text-align: right;\n",
       "    }\n",
       "</style>\n",
       "<table border=\"1\" class=\"dataframe\">\n",
       "  <thead>\n",
       "    <tr style=\"text-align: right;\">\n",
       "      <th></th>\n",
       "      <th>id</th>\n",
       "      <th>name</th>\n",
       "    </tr>\n",
       "  </thead>\n",
       "  <tbody>\n",
       "  </tbody>\n",
       "</table>\n",
       "</div>"
      ],
      "text/plain": [
       "Empty DataFrame\n",
       "Columns: [id, name]\n",
       "Index: []"
      ]
     },
     "execution_count": 18,
     "metadata": {},
     "output_type": "execute_result"
    }
   ],
   "source": [
    "test_df[test_df['name'] == 'Корм д/кошек Friskies кролик-ово']"
   ]
  },
  {
   "cell_type": "code",
   "execution_count": null,
   "id": "aafca6a2",
   "metadata": {},
   "outputs": [],
   "source": []
  },
  {
   "cell_type": "code",
   "execution_count": 14,
   "id": "78255635",
   "metadata": {},
   "outputs": [],
   "source": [
    "train_df['input_text'] = train_df['name'].apply(lambda x: x.lower() + '<\\s>')\n",
    "test_df['input_text'] = test_df['name'].apply(lambda x: x.lower() + '<\\s>')"
   ]
  },
  {
   "cell_type": "code",
   "execution_count": 17,
   "id": "3b349002",
   "metadata": {},
   "outputs": [],
   "source": [
    "train_df = train_df[train_df['good'].str.findall(',').str.len()<3]\n",
    "train_df = train_df[train_df['brand'].str.findall(',').str.len()<3]"
   ]
  },
  {
   "cell_type": "code",
   "execution_count": 20,
   "id": "559f0a52",
   "metadata": {},
   "outputs": [],
   "source": [
    "train_df['target_text'] = train_df[['good', 'brand']].apply(lambda r: f\"good: {r['good']}; brand: {r['brand']} <\\s>\", axis=1)"
   ]
  },
  {
   "cell_type": "code",
   "execution_count": 22,
   "id": "7dd72c4e",
   "metadata": {},
   "outputs": [],
   "source": [
    "train_df[['input_text', 'target_text']].to_csv('data/train_ner.csv', index=False)"
   ]
  },
  {
   "cell_type": "code",
   "execution_count": 23,
   "id": "b5de815d",
   "metadata": {},
   "outputs": [],
   "source": [
    "test_df.to_csv('data/test_ner.csv', index=False)"
   ]
  }
 ],
 "metadata": {
  "kernelspec": {
   "display_name": "py",
   "language": "python",
   "name": "py"
  },
  "language_info": {
   "codemirror_mode": {
    "name": "ipython",
    "version": 3
   },
   "file_extension": ".py",
   "mimetype": "text/x-python",
   "name": "python",
   "nbconvert_exporter": "python",
   "pygments_lexer": "ipython3",
   "version": "3.9.16"
  }
 },
 "nbformat": 4,
 "nbformat_minor": 5
}
