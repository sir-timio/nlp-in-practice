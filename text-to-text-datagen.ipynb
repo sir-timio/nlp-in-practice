{
 "cells": [
  {
   "cell_type": "code",
   "execution_count": 1,
   "id": "0025de88",
   "metadata": {
    "ExecuteTime": {
     "end_time": "2023-06-08T10:20:03.393807600Z",
     "start_time": "2023-06-08T10:20:02.596348500Z"
    }
   },
   "outputs": [],
   "source": [
    "import pandas as pd\n",
    "import numpy as np"
   ]
  },
  {
   "cell_type": "code",
   "execution_count": 2,
   "id": "066858b0",
   "metadata": {
    "ExecuteTime": {
     "end_time": "2023-06-08T10:20:03.493889400Z",
     "start_time": "2023-06-08T10:20:03.396902400Z"
    }
   },
   "outputs": [],
   "source": [
    "train_df = pd.read_csv(\"data/train_supervised_dataset.csv\").fillna(\"\")\n",
    "test_df = pd.read_csv(\"data/test_dataset.csv\").fillna(\"\")"
   ]
  },
  {
   "cell_type": "code",
   "execution_count": 3,
   "id": "e4cfd4d4",
   "metadata": {},
   "outputs": [
    {
     "data": {
      "text/plain": [
       "25000"
      ]
     },
     "execution_count": 3,
     "metadata": {},
     "output_type": "execute_result"
    }
   ],
   "source": [
    "len(train_df)"
   ]
  },
  {
   "cell_type": "code",
   "execution_count": null,
   "id": "25271e5f",
   "metadata": {},
   "outputs": [],
   "source": [
    "len(train_df.drop_duplicates())"
   ]
  },
  {
   "cell_type": "code",
   "execution_count": 8,
   "id": "c3a288c1",
   "metadata": {},
   "outputs": [],
   "source": [
    "df = pd.concat([train_df, test_df])"
   ]
  },
  {
   "cell_type": "code",
   "execution_count": 10,
   "id": "1a1cf95f",
   "metadata": {},
   "outputs": [
    {
     "data": {
      "text/plain": [
       "30000"
      ]
     },
     "execution_count": 10,
     "metadata": {},
     "output_type": "execute_result"
    }
   ],
   "source": [
    "len(df)"
   ]
  },
  {
   "cell_type": "code",
   "execution_count": 11,
   "id": "311f34ad",
   "metadata": {},
   "outputs": [
    {
     "data": {
      "text/plain": [
       "29994"
      ]
     },
     "execution_count": 11,
     "metadata": {},
     "output_type": "execute_result"
    }
   ],
   "source": [
    "len(df.drop_duplicates(subset=['name']))"
   ]
  },
  {
   "cell_type": "code",
   "execution_count": 14,
   "id": "78255635",
   "metadata": {},
   "outputs": [],
   "source": [
    "train_df['input_text'] = train_df['name'].apply(lambda x: x.lower() + '<\\s>')\n",
    "test_df['input_text'] = test_df['name'].apply(lambda x: x.lower() + '<\\s>')"
   ]
  },
  {
   "cell_type": "code",
   "execution_count": 17,
   "id": "3b349002",
   "metadata": {},
   "outputs": [],
   "source": [
    "train_df = train_df[train_df['good'].str.findall(',').str.len()<3]\n",
    "train_df = train_df[train_df['brand'].str.findall(',').str.len()<3]"
   ]
  },
  {
   "cell_type": "code",
   "execution_count": 20,
   "id": "559f0a52",
   "metadata": {},
   "outputs": [],
   "source": [
    "train_df['target_text'] = train_df[['good', 'brand']].apply(lambda r: f\"good: {r['good']}; brand: {r['brand']} <\\s>\", axis=1)"
   ]
  },
  {
   "cell_type": "code",
   "execution_count": 22,
   "id": "7dd72c4e",
   "metadata": {},
   "outputs": [],
   "source": [
    "train_df[['input_text', 'target_text']].to_csv('data/train_ner.csv', index=False)"
   ]
  },
  {
   "cell_type": "code",
   "execution_count": 23,
   "id": "b5de815d",
   "metadata": {},
   "outputs": [],
   "source": [
    "test_df.to_csv('data/test_ner.csv', index=False)"
   ]
  }
 ],
 "metadata": {
  "kernelspec": {
   "display_name": "py",
   "language": "python",
   "name": "py"
  },
  "language_info": {
   "codemirror_mode": {
    "name": "ipython",
    "version": 3
   },
   "file_extension": ".py",
   "mimetype": "text/x-python",
   "name": "python",
   "nbconvert_exporter": "python",
   "pygments_lexer": "ipython3",
   "version": "3.9.16"
  }
 },
 "nbformat": 4,
 "nbformat_minor": 5
}
